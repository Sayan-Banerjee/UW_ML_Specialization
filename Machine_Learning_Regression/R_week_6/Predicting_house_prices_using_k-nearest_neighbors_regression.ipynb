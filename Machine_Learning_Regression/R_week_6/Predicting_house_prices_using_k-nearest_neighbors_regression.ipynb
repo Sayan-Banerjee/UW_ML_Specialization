{
 "cells": [
  {
   "cell_type": "code",
   "execution_count": 3,
   "metadata": {
    "collapsed": true
   },
   "outputs": [],
   "source": [
    "import pandas as pd\n",
    "import numpy as np\n",
    "import matplotlib.pyplot as plt\n",
    "%matplotlib inline"
   ]
  },
  {
   "cell_type": "code",
   "execution_count": 4,
   "metadata": {
    "collapsed": true
   },
   "outputs": [],
   "source": [
    "dtype_dict = {'bathrooms':float, 'waterfront':int, 'sqft_above':int, 'sqft_living15':float, 'grade':int,\n",
    "              'yr_renovated':int, 'price':float, 'bedrooms':float, 'zipcode':str, 'long':float, 'sqft_lot15':float,\n",
    "              'sqft_living':float, 'floors':float, 'condition':int, 'lat':float, 'date':str, 'sqft_basement':int,\n",
    "              'yr_built':int, 'id':str, 'sqft_lot':int, 'view':int}"
   ]
  },
  {
   "cell_type": "code",
   "execution_count": 6,
   "metadata": {},
   "outputs": [],
   "source": [
    "sales = pd.read_csv('kc_house_data_small.csv', dtype=dtype_dict)\n",
    "train_data = pd.read_csv('kc_house_data_small_train.csv', dtype=dtype_dict)\n",
    "test_data = pd.read_csv('kc_house_data_small_test.csv', dtype=dtype_dict)\n",
    "val_data = pd.read_csv('kc_house_data_validation.csv', dtype=dtype_dict)\n"
   ]
  },
  {
   "cell_type": "code",
   "execution_count": 11,
   "metadata": {},
   "outputs": [],
   "source": [
    "def data_prep(df, features, output):\n",
    "    x = df[features].as_matrix()\n",
    "    b = np.ones(shape=(len(x),1), dtype=np.float32)\n",
    "    x = np.concatenate((b,x), axis=1)\n",
    "    y = np.array(df[output])\n",
    "    return (x,y)\n",
    "\n",
    "def normalize_features(features):\n",
    "    norms = np.linalg.norm(features, axis=0)\n",
    "    normalized_features = features / norms\n",
    "    return (normalized_features, norms)\n"
   ]
  },
  {
   "cell_type": "code",
   "execution_count": 21,
   "metadata": {},
   "outputs": [],
   "source": [
    "features_train, train_y = data_prep(df = train_data, features=[f for f in train_data.columns if f not in ['price', 'id', 'date', 'zipcode']], output='price')\n",
    "features_test, test_y = data_prep(df = test_data, features=[f for f in train_data.columns if f not in ['price', 'id', 'date', 'zipcode']], output='price')\n",
    "features_val, val_y = data_prep(df = val_data, features=[f for f in train_data.columns if f not in ['price', 'id', 'date', 'zipcode']], output='price')\n",
    "\n",
    "features_train, norms = normalize_features(features_train)\n",
    "features_test = features_test / norms\n",
    "features_val = features_val / norms"
   ]
  },
  {
   "cell_type": "code",
   "execution_count": 12,
   "metadata": {
    "collapsed": true
   },
   "outputs": [],
   "source": [
    "features=[f for f in train_data.columns if f != 'price']"
   ]
  },
  {
   "cell_type": "code",
   "execution_count": 16,
   "metadata": {},
   "outputs": [
    {
     "data": {
      "text/plain": [
       "21"
      ]
     },
     "execution_count": 16,
     "metadata": {},
     "output_type": "execute_result"
    }
   ],
   "source": [
    "len(dtype_dict)"
   ]
  },
  {
   "cell_type": "code",
   "execution_count": 17,
   "metadata": {
    "collapsed": true
   },
   "outputs": [],
   "source": [
    "features=[f for f in train_data.columns if f not in ['price', 'id', 'date', 'zipcode']]"
   ]
  },
  {
   "cell_type": "code",
   "execution_count": 19,
   "metadata": {},
   "outputs": [
    {
     "data": {
      "text/plain": [
       "17"
      ]
     },
     "execution_count": 19,
     "metadata": {},
     "output_type": "execute_result"
    }
   ],
   "source": [
    "len(features)"
   ]
  },
  {
   "cell_type": "code",
   "execution_count": 44,
   "metadata": {
    "collapsed": true
   },
   "outputs": [],
   "source": [
    "class K_NN_R:\n",
    "    def __init__(self, train_x, train_y, val_x, val_y, test_x, test_y, k=1):\n",
    "        self.train_x = train_x\n",
    "        self.train_y = train_y\n",
    "        self.test_x = test_x\n",
    "        self.test_y = test_y\n",
    "        self.val_x = val_x\n",
    "        self.val_y = val_y\n",
    "        self.k = k\n",
    "     \n",
    "    def predictions(self, features):\n",
    "        N = features.shape[0]\n",
    "        results = np.zeros(N)\n",
    "        for i in range(N):\n",
    "            p = 0.0\n",
    "            nbr = self.knn(features[i,:])\n",
    "            for n in nbr:\n",
    "                p +=self.train_y[n]\n",
    "            result = p/self.k\n",
    "            results[i] = result\n",
    "        return results                \n",
    "        \n",
    "    def knn(self, x):\n",
    "        diff = self.train_x - x\n",
    "        dist = np.sqrt(np.sum(diff**2, axis=1))\n",
    "        sorted_dist_idx = np.argsort(dist)\n",
    "        return list(sorted_dist_idx[:self.k])\n",
    "        \n",
    "        \n",
    "    def val_rss(self):\n",
    "        val_preds = self.predictions(features=self.val_x)\n",
    "        rss = np.sum((self.val_y - val_preds)**2)\n",
    "        return rss\n",
    "    \n",
    "    def test_rss(self):\n",
    "        test_preds = self.predictions(features=self.test_x)\n",
    "        rss = np.sum((self.test_y - test_preds)**2)\n",
    "        return rss\n",
    "    \n",
    "    def predict(self, x):\n",
    "        p = 0.0\n",
    "        nbr = self.knn(x)\n",
    "        for n in nbr:\n",
    "            p +=self.train_y[n]\n",
    "        result = p/self.k\n",
    "        return result\n",
    "        \n",
    "        "
   ]
  },
  {
   "cell_type": "code",
   "execution_count": 24,
   "metadata": {},
   "outputs": [],
   "source": [
    "diff = features_train[9,:] - features_test[0,:]\n",
    "dist = np.sqrt(np.sum(diff**2))"
   ]
  },
  {
   "cell_type": "code",
   "execution_count": 25,
   "metadata": {},
   "outputs": [
    {
     "data": {
      "text/plain": [
       "0.059723593713980783"
      ]
     },
     "execution_count": 25,
     "metadata": {},
     "output_type": "execute_result"
    }
   ],
   "source": [
    "dist"
   ]
  },
  {
   "cell_type": "code",
   "execution_count": 28,
   "metadata": {
    "collapsed": true
   },
   "outputs": [],
   "source": [
    "diff = features_train[:10,:] - features_test[0,:]\n",
    "dist = np.sqrt(np.sum(diff**2, axis=1))\n",
    "sorted_dist_idx = np.argsort(dist)       "
   ]
  },
  {
   "cell_type": "code",
   "execution_count": 29,
   "metadata": {},
   "outputs": [
    {
     "data": {
      "text/plain": [
       "array([8, 3, 6, 7, 4, 9, 5, 0, 2, 1], dtype=int64)"
      ]
     },
     "execution_count": 29,
     "metadata": {},
     "output_type": "execute_result"
    }
   ],
   "source": [
    "sorted_dist_idx"
   ]
  },
  {
   "cell_type": "code",
   "execution_count": 30,
   "metadata": {
    "collapsed": true
   },
   "outputs": [],
   "source": [
    "diff = features_train - features_test[2,:]\n",
    "dist = np.sqrt(np.sum(diff**2, axis=1))\n",
    "sorted_dist_idx = np.argsort(dist)       "
   ]
  },
  {
   "cell_type": "code",
   "execution_count": 34,
   "metadata": {},
   "outputs": [
    {
     "data": {
      "text/plain": [
       "array([ 382, 1149, 4087, 3142], dtype=int64)"
      ]
     },
     "execution_count": 34,
     "metadata": {},
     "output_type": "execute_result"
    }
   ],
   "source": [
    "sorted_dist_idx[:4]"
   ]
  },
  {
   "cell_type": "code",
   "execution_count": 33,
   "metadata": {},
   "outputs": [
    {
     "data": {
      "text/plain": [
       "249000.0"
      ]
     },
     "execution_count": 33,
     "metadata": {},
     "output_type": "execute_result"
    }
   ],
   "source": [
    "train_y[382]"
   ]
  },
  {
   "cell_type": "code",
   "execution_count": 35,
   "metadata": {},
   "outputs": [
    {
     "data": {
      "text/plain": [
       "413987.5"
      ]
     },
     "execution_count": 35,
     "metadata": {},
     "output_type": "execute_result"
    }
   ],
   "source": [
    "(train_y[382] + train_y[1149] + train_y[4087] +train_y[3142])/ 4"
   ]
  },
  {
   "cell_type": "code",
   "execution_count": 36,
   "metadata": {
    "collapsed": true
   },
   "outputs": [],
   "source": [
    "model_k10 = K_NN_R(train_x=features_train, train_y=train_y, val_x=features_val, val_y=val_y, test_x=features_test, test_y=test_y, k=10)"
   ]
  },
  {
   "cell_type": "code",
   "execution_count": 37,
   "metadata": {
    "collapsed": true
   },
   "outputs": [],
   "source": [
    "results = model_k10.predictions(features_test[:10,:])"
   ]
  },
  {
   "cell_type": "code",
   "execution_count": 38,
   "metadata": {},
   "outputs": [
    {
     "data": {
      "text/plain": [
       "array([ 881300. ,  431860. ,  460595. ,  430200. ,  766750. ,  667420. ,\n",
       "        350032. ,  512800.7,  484000. ,  457235. ])"
      ]
     },
     "execution_count": 38,
     "metadata": {},
     "output_type": "execute_result"
    }
   ],
   "source": [
    "results"
   ]
  },
  {
   "cell_type": "code",
   "execution_count": 39,
   "metadata": {},
   "outputs": [
    {
     "data": {
      "text/plain": [
       "array([6, 3, 1, 9, 2, 8, 7, 5, 4, 0], dtype=int64)"
      ]
     },
     "execution_count": 39,
     "metadata": {},
     "output_type": "execute_result"
    }
   ],
   "source": [
    "np.argsort(results)"
   ]
  },
  {
   "cell_type": "code",
   "execution_count": 42,
   "metadata": {
    "collapsed": true
   },
   "outputs": [],
   "source": [
    "K = range(1,16)"
   ]
  },
  {
   "cell_type": "code",
   "execution_count": 45,
   "metadata": {},
   "outputs": [],
   "source": [
    "summary = dict()\n",
    "for k in K:\n",
    "    model = K_NN_R(train_x=features_train, train_y=train_y, val_x=features_val, val_y=val_y, test_x=features_test, test_y=test_y, k=k)\n",
    "    rss = model.val_rss()\n",
    "    summary[k] = rss\n",
    "    "
   ]
  },
  {
   "cell_type": "code",
   "execution_count": 46,
   "metadata": {},
   "outputs": [
    {
     "data": {
      "text/plain": [
       "{1: 105453830251561.0,\n",
       " 2: 83445073504025.5,\n",
       " 3: 72692096019202.563,\n",
       " 4: 71946721652091.688,\n",
       " 5: 69846517419718.602,\n",
       " 6: 68899544353180.836,\n",
       " 7: 68341973450051.094,\n",
       " 8: 67361678735491.5,\n",
       " 9: 68372727958976.094,\n",
       " 10: 69335048668556.742,\n",
       " 11: 69523855215598.828,\n",
       " 12: 69049969587246.172,\n",
       " 13: 70011254508263.688,\n",
       " 14: 70908698869034.344,\n",
       " 15: 71106928385945.156}"
      ]
     },
     "execution_count": 46,
     "metadata": {},
     "output_type": "execute_result"
    }
   ],
   "source": []
  },
  {
   "cell_type": "code",
   "execution_count": 47,
   "metadata": {
    "collapsed": true
   },
   "outputs": [],
   "source": [
    "sorted_summary = sorted(summary, key=summary.get)"
   ]
  },
  {
   "cell_type": "code",
   "execution_count": 48,
   "metadata": {},
   "outputs": [
    {
     "data": {
      "text/plain": [
       "[8, 7, 9, 6, 12, 10, 11, 5, 13, 14, 15, 4, 3, 2, 1]"
      ]
     },
     "execution_count": 48,
     "metadata": {},
     "output_type": "execute_result"
    }
   ],
   "source": [
    "sorted_summary"
   ]
  },
  {
   "cell_type": "code",
   "execution_count": 49,
   "metadata": {
    "collapsed": true
   },
   "outputs": [],
   "source": [
    "model = K_NN_R(train_x=features_train, train_y=train_y, val_x=features_val, val_y=val_y, test_x=features_test, test_y=test_y, k=8)"
   ]
  },
  {
   "cell_type": "code",
   "execution_count": 50,
   "metadata": {
    "collapsed": true
   },
   "outputs": [],
   "source": [
    "test_rss = model.test_rss()"
   ]
  },
  {
   "cell_type": "code",
   "execution_count": 51,
   "metadata": {},
   "outputs": [
    {
     "data": {
      "text/plain": [
       "133118823551516.81"
      ]
     },
     "execution_count": 51,
     "metadata": {},
     "output_type": "execute_result"
    }
   ],
   "source": [
    "test_rss"
   ]
  },
  {
   "cell_type": "code",
   "execution_count": null,
   "metadata": {
    "collapsed": true
   },
   "outputs": [],
   "source": []
  }
 ],
 "metadata": {
  "kernelspec": {
   "display_name": "Python 3",
   "language": "python",
   "name": "python3"
  },
  "language_info": {
   "codemirror_mode": {
    "name": "ipython",
    "version": 3
   },
   "file_extension": ".py",
   "mimetype": "text/x-python",
   "name": "python",
   "nbconvert_exporter": "python",
   "pygments_lexer": "ipython3",
   "version": "3.6.9"
  }
 },
 "nbformat": 4,
 "nbformat_minor": 2
}
