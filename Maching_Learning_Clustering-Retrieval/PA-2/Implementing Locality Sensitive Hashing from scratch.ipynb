{
 "cells": [
  {
   "cell_type": "markdown",
   "metadata": {},
   "source": [
    "## Implementing Locality Sensitive Hashing from scratch"
   ]
  },
  {
   "cell_type": "markdown",
   "metadata": {},
   "source": [
    "Locality Sensitive Hashing (LSH) provides for a fast, efficient approximate nearest neighbor search. The algorithm scales well with respect to the number of data points as well as dimensions.\n",
    "\n",
    "In this assignment, you will\n",
    "\n",
    "Implement the LSH algorithm for approximate nearest neighbor search\n",
    "Examine the accuracy for different documents by comparing against brute force search, and also contrast runtimes\n",
    "Explore the role of the algorithm’s tuning parameters in the accuracy of the method"
   ]
  },
  {
   "cell_type": "code",
   "execution_count": 1,
   "metadata": {},
   "outputs": [],
   "source": [
    "import numpy as np\n",
    "import pandas as pd\n",
    "from scipy.sparse import csr_matrix                            # sparse matrices\n",
    "from sklearn.metrics.pairwise import pairwise_distances        # pairwise distances\n",
    "from copy import copy\n",
    "import matplotlib.pyplot as plt\n",
    "import json\n",
    "%matplotlib inline"
   ]
  },
  {
   "cell_type": "code",
   "execution_count": 2,
   "metadata": {},
   "outputs": [],
   "source": [
    "wiki = pd.read_csv('people_wiki.csv')"
   ]
  },
  {
   "cell_type": "code",
   "execution_count": 3,
   "metadata": {},
   "outputs": [],
   "source": [
    "# compute norm of a sparse vector\n",
    "\n",
    "def norm(x):\n",
    "    sum_sq=x.dot(x.T)\n",
    "    norm=np.sqrt(sum_sq)\n",
    "    return(norm)"
   ]
  },
  {
   "cell_type": "code",
   "execution_count": 4,
   "metadata": {},
   "outputs": [],
   "source": [
    "def load_sparse_csr(filename):\n",
    "    loader = np.load(filename)\n",
    "    data = loader['data']\n",
    "    indices = loader['indices']\n",
    "    indptr = loader['indptr']\n",
    "    shape = loader['shape']\n",
    "    \n",
    "    return csr_matrix( (data, indices, indptr), shape)\n",
    "    \n",
    "corpus = load_sparse_csr('people_wiki_tf_idf.npz')"
   ]
  },
  {
   "cell_type": "code",
   "execution_count": 8,
   "metadata": {},
   "outputs": [],
   "source": [
    "def readJson(path):\n",
    "    try:\n",
    "        with open(path, 'r') as f: # Reads the list of most frequent words\n",
    "            data = json.load(f)\n",
    "        return data\n",
    "    except FileNotFoundError:\n",
    "        raise FileNotFoundError(\"Please check the path and try again!\")\n",
    "        \n",
    "map_index_to_word = readJson('people_wiki_map_index_to_word.json')"
   ]
  },
  {
   "cell_type": "markdown",
   "metadata": {},
   "source": [
    "LSH performs an efficient neighbor search by randomly partitioning all reference data points into different bins. Today we will build a popular variant of LSH known as random binary projection, which approximates cosine distance. There are other variants we could use for other choices of distance metrics.\n",
    "\n",
    "The first step is to generate a collection of random vectors from the standard Gaussian distribution.\n"
   ]
  },
  {
   "cell_type": "code",
   "execution_count": 44,
   "metadata": {},
   "outputs": [],
   "source": [
    "def generate_random_vectors(num_vector, dim):\n",
    "    return np.random.randn(dim, num_vector)\n"
   ]
  },
  {
   "cell_type": "code",
   "execution_count": 45,
   "metadata": {},
   "outputs": [
    {
     "name": "stdout",
     "output_type": "stream",
     "text": [
      "[[ 1.76405235  0.40015721  0.97873798]\n",
      " [ 2.2408932   1.86755799 -0.97727788]\n",
      " [ 0.95008842 -0.15135721 -0.10321885]\n",
      " [ 0.4105985   0.14404357  1.45427351]\n",
      " [ 0.76103773  0.12167502  0.44386323]]\n"
     ]
    }
   ],
   "source": [
    "# Generate 3 random vectors of dimension 5, arranged into a single 5 x 3 matrix.\n",
    "np.random.seed(0) # set seed=0 for consistent results\n",
    "print (generate_random_vectors(num_vector=3, dim=5))"
   ]
  },
  {
   "cell_type": "code",
   "execution_count": 46,
   "metadata": {},
   "outputs": [
    {
     "data": {
      "text/plain": [
       "547979"
      ]
     },
     "execution_count": 46,
     "metadata": {},
     "output_type": "execute_result"
    }
   ],
   "source": [
    "len(map_index_to_word.values())"
   ]
  },
  {
   "cell_type": "code",
   "execution_count": 47,
   "metadata": {},
   "outputs": [
    {
     "name": "stdout",
     "output_type": "stream",
     "text": [
      "(547979, 16)\n"
     ]
    }
   ],
   "source": [
    "# Generate 16 random vectors of dimension 547979\n",
    "np.random.seed(0)\n",
    "random_vectors = generate_random_vectors(num_vector=16, dim=547979)\n",
    "print (random_vectors.shape)"
   ]
  },
  {
   "cell_type": "markdown",
   "metadata": {},
   "source": [
    "Next, we partition data points into bins. Instead of using explicit loops, we'd like to utilize matrix operations for greater efficiency. Let's walk through the construction step by step.\n",
    "\n",
    "We'd like to decide which bin document 0 should go. Since 16 random vectors were generated in the previous cell, we have 16 bits to represent the bin index. The first bit is given by the sign of the dot product between the first random vector and the document's TF-IDF vector."
   ]
  },
  {
   "cell_type": "code",
   "execution_count": 48,
   "metadata": {},
   "outputs": [
    {
     "name": "stdout",
     "output_type": "stream",
     "text": [
      "[ True]\n"
     ]
    }
   ],
   "source": [
    "doc = corpus[0, :] # vector of tf-idf values for document 0\n",
    "print (doc.dot(random_vectors[:, 0]) >= 0) # True if positive sign; False if negative sign"
   ]
  },
  {
   "cell_type": "markdown",
   "metadata": {},
   "source": [
    "Similarly, the second bit is computed as the sign of the dot product between the second random vector and the document vector.\n",
    "We can compute all of the bin index bits at once as follows. Note the absence of the explicit for loop over the 16 vectors. Matrix operations let us batch dot-product computation in a highly efficent manner, unlike the for loop construction. Given the relative inefficiency of loops in Python, the advantage of matrix operations is even greater."
   ]
  },
  {
   "cell_type": "code",
   "execution_count": 49,
   "metadata": {},
   "outputs": [
    {
     "name": "stdout",
     "output_type": "stream",
     "text": [
      "[ True]\n"
     ]
    }
   ],
   "source": [
    "print (doc.dot(random_vectors[:, 1]) >= 0) # True if positive sign; False if negative sign"
   ]
  },
  {
   "cell_type": "code",
   "execution_count": 50,
   "metadata": {},
   "outputs": [
    {
     "name": "stdout",
     "output_type": "stream",
     "text": [
      "[[ True  True False False False  True  True False  True  True  True False\n",
      "  False  True False  True]]\n",
      "[[1 1 0 0 0 1 1 0 1 1 1 0 0 1 0 1]]\n"
     ]
    }
   ],
   "source": [
    "print (doc.dot(random_vectors) >= 0) # should return an array of 16 True/False bits\n",
    "print (np.array(doc.dot(random_vectors) >= 0, dtype=int)) # display index bits in 0/1's"
   ]
  },
  {
   "cell_type": "markdown",
   "metadata": {},
   "source": [
    "**All documents that obtain exactly this vector will be assigned to the same bin.\n",
    "We'd like to repeat the identical operation on all documents in the Wikipedia dataset and compute the\n",
    "corresponding bin indices.** \n",
    "\n"
   ]
  },
  {
   "cell_type": "code",
   "execution_count": 51,
   "metadata": {},
   "outputs": [
    {
     "name": "stdout",
     "output_type": "stream",
     "text": [
      "[[ True  True False False False  True  True False  True  True  True False\n",
      "  False  True False  True]\n",
      " [ True False False False  True  True False  True  True False  True False\n",
      "   True False False  True]]\n",
      "[[ True  True False ...  True False  True]\n",
      " [ True False False ... False False  True]\n",
      " [False  True False ...  True False  True]\n",
      " ...\n",
      " [ True  True False ...  True  True  True]\n",
      " [False  True  True ...  True False  True]\n",
      " [ True False  True ... False False  True]]\n"
     ]
    }
   ],
   "source": [
    "print (corpus[0:2].dot(random_vectors) >= 0 )# compute bit indices of first two documents\n",
    "print (corpus.dot(random_vectors) >= 0) # compute bit indices of ALL documents"
   ]
  },
  {
   "cell_type": "code",
   "execution_count": 54,
   "metadata": {},
   "outputs": [
    {
     "name": "stdout",
     "output_type": "stream",
     "text": [
      "[[ True  True False False False  True  True False  True  True  True False\n",
      "  False  True False  True]]\n",
      "[32768 16384  8192  4096  2048  1024   512   256   128    64    32    16\n",
      "     8     4     2     1]\n",
      "[50917]\n"
     ]
    }
   ],
   "source": [
    "doc = corpus[0, :]  # first document\n",
    "index_bits = (doc.dot(random_vectors) >= 0)\n",
    "powers_of_two = (1 << np.arange(15, -1, -1))\n",
    "print (index_bits)\n",
    "print (powers_of_two)           # [32768, 16384, 8192, 4096, 2048, 1024, 512, 256, 128, 64, 32, 16, 8, 4, 2, 1]\n",
    "print (index_bits.dot(powers_of_two))"
   ]
  },
  {
   "cell_type": "markdown",
   "metadata": {},
   "source": [
    "This array gives us the integer index of the bins for all documents."
   ]
  },
  {
   "cell_type": "code",
   "execution_count": 55,
   "metadata": {},
   "outputs": [
    {
     "name": "stdout",
     "output_type": "stream",
     "text": [
      "[50917 36265 19365 ... 52983 27589 41449]\n"
     ]
    }
   ],
   "source": [
    "index_bits = corpus.dot(random_vectors) >= 0\n",
    "print (index_bits.dot(powers_of_two))"
   ]
  },
  {
   "cell_type": "code",
   "execution_count": 56,
   "metadata": {},
   "outputs": [],
   "source": [
    "result = index_bits.dot(powers_of_two)"
   ]
  },
  {
   "cell_type": "code",
   "execution_count": 58,
   "metadata": {},
   "outputs": [
    {
     "data": {
      "text/plain": [
       "38042"
      ]
     },
     "execution_count": 58,
     "metadata": {},
     "output_type": "execute_result"
    }
   ],
   "source": [
    "len(np.unique(result))"
   ]
  },
  {
   "cell_type": "code",
   "execution_count": 59,
   "metadata": {},
   "outputs": [
    {
     "data": {
      "text/plain": [
       "59071"
      ]
     },
     "execution_count": 59,
     "metadata": {},
     "output_type": "execute_result"
    }
   ],
   "source": [
    "len(result)"
   ]
  },
  {
   "cell_type": "code",
   "execution_count": 6,
   "metadata": {},
   "outputs": [],
   "source": [
    "powers_of_two = (1 << np.arange(15, -1, -1))"
   ]
  },
  {
   "cell_type": "code",
   "execution_count": 7,
   "metadata": {},
   "outputs": [
    {
     "data": {
      "text/plain": [
       "array([32768, 16384,  8192,  4096,  2048,  1024,   512,   256,   128,\n",
       "          64,    32,    16,     8,     4,     2,     1])"
      ]
     },
     "execution_count": 7,
     "metadata": {},
     "output_type": "execute_result"
    }
   ],
   "source": [
    "powers_of_two"
   ]
  },
  {
   "cell_type": "code",
   "execution_count": 39,
   "metadata": {},
   "outputs": [],
   "source": [
    "a = np.array([1,2,3])\n",
    "b = np.array([[1,2,3], [2,3,4], [3,4,5]])"
   ]
  },
  {
   "cell_type": "code",
   "execution_count": 40,
   "metadata": {},
   "outputs": [
    {
     "data": {
      "text/plain": [
       "14"
      ]
     },
     "execution_count": 40,
     "metadata": {},
     "output_type": "execute_result"
    }
   ],
   "source": [
    "a.dot(b[0,:])"
   ]
  },
  {
   "cell_type": "code",
   "execution_count": 41,
   "metadata": {},
   "outputs": [
    {
     "data": {
      "text/plain": [
       "14"
      ]
     },
     "execution_count": 41,
     "metadata": {},
     "output_type": "execute_result"
    }
   ],
   "source": [
    "a.dot(b[:,0])"
   ]
  },
  {
   "cell_type": "code",
   "execution_count": 35,
   "metadata": {},
   "outputs": [
    {
     "data": {
      "text/plain": [
       "26"
      ]
     },
     "execution_count": 35,
     "metadata": {},
     "output_type": "execute_result"
    }
   ],
   "source": [
    "a.dot(b.T)"
   ]
  },
  {
   "cell_type": "markdown",
   "metadata": {},
   "source": [
    "Now we are ready to complete the following function. Given the integer bin indices for the documents, you should compile a list of document IDs that belong to each bin. Since a list is to be maintained for each unique bin index, a dictionary of lists is used.\n",
    "\n",
    "1. Compute the integer bin indices. This step is already completed.\n",
    "\n",
    "2. For each document in the dataset, do the following:\n",
    "\n",
    "Get the integer bin index for the document.\n",
    "Fetch the list of document ids associated with the bin; if no list yet exists for this bin, assign the bin an empty list.\n",
    "Add the document id to the end of the list."
   ]
  },
  {
   "cell_type": "code",
   "execution_count": 60,
   "metadata": {},
   "outputs": [],
   "source": [
    "def train_lsh(data, num_vector=16, seed=None):\n",
    "    \n",
    "    dim = corpus.shape[1]\n",
    "    if seed is not None:\n",
    "        np.random.seed(seed)\n",
    "    random_vectors = generate_random_vectors(num_vector, dim)\n",
    "  \n",
    "    powers_of_two = 1 << np.arange(num_vector-1, -1, -1)\n",
    "  \n",
    "    table = {}\n",
    "    \n",
    "    # Partition data points into bins\n",
    "    bin_index_bits = (data.dot(random_vectors) >= 0)\n",
    "  \n",
    "    # Encode bin index bits into integers\n",
    "    bin_indices = bin_index_bits.dot(powers_of_two)\n",
    "    \n",
    "    # Update `table` so that `table[i]` is the list of document ids with bin index equal to i.\n",
    "    for data_index, bin_index in enumerate(bin_indices):\n",
    "        if bin_index not in table:\n",
    "            # If no list yet exists for this bin, assign the bin an empty list.\n",
    "            table[bin_index] = []\n",
    "        # Fetch the list of document ids associated with the bin and add the document id to the end.\n",
    "        table[bin_index].append(data_index)\n",
    "\n",
    "    model = {'data': data,\n",
    "             'bin_index_bits': bin_index_bits,\n",
    "             'bin_indices': bin_indices,\n",
    "             'table': table,\n",
    "             'random_vectors': random_vectors,\n",
    "             'num_vector': num_vector}\n",
    "    \n",
    "    return model"
   ]
  },
  {
   "cell_type": "code",
   "execution_count": 61,
   "metadata": {},
   "outputs": [],
   "source": [
    "model = train_lsh(corpus, num_vector=16, seed=143)\n",
    "table = model['table']"
   ]
  },
  {
   "cell_type": "code",
   "execution_count": 64,
   "metadata": {},
   "outputs": [
    {
     "name": "stdout",
     "output_type": "stream",
     "text": [
      "Passed!\n"
     ]
    }
   ],
   "source": [
    "if   0 in table and table[0]   == [39583] and \\\n",
    "   143 in table and table[143] == [19693, 28277, 29776, 30399]:\n",
    "    print ('Passed!')\n",
    "else:\n",
    "    print ('Check your code.')"
   ]
  },
  {
   "cell_type": "markdown",
   "metadata": {},
   "source": [
    "## Inspect bins"
   ]
  },
  {
   "cell_type": "code",
   "execution_count": 65,
   "metadata": {},
   "outputs": [
    {
     "name": "stdout",
     "output_type": "stream",
     "text": [
      "                                              URI          name  \\\n",
      "35817  <http://dbpedia.org/resource/Barack_Obama>  Barack Obama   \n",
      "\n",
      "                                                    text  \n",
      "35817  barack hussein obama ii brk husen bm born augu...  \n"
     ]
    }
   ],
   "source": [
    "print (wiki[wiki['name'] == 'Barack Obama'])"
   ]
  },
  {
   "cell_type": "code",
   "execution_count": 68,
   "metadata": {},
   "outputs": [
    {
     "name": "stdout",
     "output_type": "stream",
     "text": [
      "Bin Index of Barack Obama: 50194\n"
     ]
    }
   ],
   "source": [
    "print (\"Bin Index of Barack Obama: {}\".format(model['bin_indices'][35817]))"
   ]
  },
  {
   "cell_type": "code",
   "execution_count": 115,
   "metadata": {},
   "outputs": [
    {
     "name": "stdout",
     "output_type": "stream",
     "text": [
      "[ True  True False False False  True False False False False False  True\n",
      " False False  True False]\n",
      "[ True False False False False  True False False False False False False\n",
      " False False  True False]\n"
     ]
    }
   ],
   "source": [
    "print (model['bin_index_bits'][wiki[wiki['name'] == 'Barack Obama'].index[0]])\n",
    "print (model['bin_index_bits'][wiki[wiki['name'] == 'Joe Biden'].index[0]])"
   ]
  },
  {
   "cell_type": "code",
   "execution_count": 77,
   "metadata": {},
   "outputs": [
    {
     "name": "stdout",
     "output_type": "stream",
     "text": [
      "Bit representations of the bins containing Barack Obama:\n",
      " [1, 1, 0, 0, 0, 1, 0, 0, 0, 0, 0, 1, 0, 0, 1, 0]\n",
      "Bit representations of the bins containing Joe Biden:\n",
      " [1, 0, 0, 0, 0, 1, 0, 0, 0, 0, 0, 0, 0, 0, 1, 0]\n"
     ]
    }
   ],
   "source": [
    "print (\"Bit representations of the bins containing Barack Obama:\\n {}\".format(\n",
    "   [int(e) for e in model['bin_index_bits'][wiki[wiki['name'] == 'Barack Obama'].index[0]]]))\n",
    "print (\"Bit representations of the bins containing Joe Biden:\\n {}\".format(\n",
    "   [int(e) for e in model['bin_index_bits'][wiki[wiki['name'] == 'Joe Biden'].index[0]]]))"
   ]
  },
  {
   "cell_type": "code",
   "execution_count": 78,
   "metadata": {},
   "outputs": [
    {
     "name": "stdout",
     "output_type": "stream",
     "text": [
      "                                                     URI  \\\n",
      "22745  <http://dbpedia.org/resource/Wynn_Normington_H...   \n",
      "\n",
      "                             name  \\\n",
      "22745  Wynn Normington Hugh-Jones   \n",
      "\n",
      "                                                    text  \n",
      "22745  sir wynn normington hughjones kb sometimes kno...  \n",
      "[0 0 0 1 0 0 1 0 0 0 1 1 0 1 0 0]\n",
      "[False False  True False  True False False  True  True  True False  True\n",
      "  True False False  True]\n"
     ]
    }
   ],
   "source": [
    "print (wiki[wiki['name']=='Wynn Normington Hugh-Jones'])\n",
    "\n",
    "print (np.array(model['bin_index_bits'][22745], dtype=int)) # list of 0/1's\n",
    "print (model['bin_index_bits'][35817] == model['bin_index_bits'][22745])"
   ]
  },
  {
   "cell_type": "code",
   "execution_count": 67,
   "metadata": {},
   "outputs": [
    {
     "name": "stdout",
     "output_type": "stream",
     "text": [
      "[21426, 35817, 39426, 50261, 53937]\n"
     ]
    }
   ],
   "source": [
    "print( model['table'][model['bin_indices'][35817]])"
   ]
  },
  {
   "cell_type": "code",
   "execution_count": 82,
   "metadata": {},
   "outputs": [
    {
     "name": "stdout",
     "output_type": "stream",
     "text": [
      "                                                     URI  \\\n",
      "21426        <http://dbpedia.org/resource/Mark_Boulware>   \n",
      "39426  <http://dbpedia.org/resource/John_Wells_(polit...   \n",
      "50261    <http://dbpedia.org/resource/Francis_Longstaff>   \n",
      "53937  <http://dbpedia.org/resource/Madurai_T._Sriniv...   \n",
      "\n",
      "                          name  \\\n",
      "21426            Mark Boulware   \n",
      "39426  John Wells (politician)   \n",
      "50261        Francis Longstaff   \n",
      "53937    Madurai T. Srinivasan   \n",
      "\n",
      "                                                    text  \n",
      "21426  mark boulware born 1948 is an american diploma...  \n",
      "39426  sir john julius wells born 30 march 1925 is a ...  \n",
      "50261  francis a longstaff born august 3 1956 is an a...  \n",
      "53937  maduraitsrinivasan is a wellknown figure in th...  \n"
     ]
    }
   ],
   "source": [
    "doc_ids = list(model['table'][model['bin_indices'][35817]])\n",
    "doc_ids.remove(35817) # display documents other than Obama\n",
    "\n",
    "docs = wiki[wiki.index.isin(doc_ids)]\n",
    "print (docs)\n",
    "#It turns out that Joe Biden is much closer to Barack Obama than any of the four documents,\n",
    "# even though Biden's bin representation differs from Obama's by 2 bits."
   ]
  },
  {
   "cell_type": "code",
   "execution_count": 84,
   "metadata": {},
   "outputs": [
    {
     "name": "stdout",
     "output_type": "stream",
     "text": [
      "Bit representations of the bins containing Barack Obama:\n",
      " [1, 1, 0, 0, 0, 1, 0, 0, 0, 0, 0, 1, 0, 0, 1, 0]\n",
      "Bit representations of the bins containing Mark Boulware:\n",
      " [1, 1, 0, 0, 0, 1, 0, 0, 0, 0, 0, 1, 0, 0, 1, 0]\n",
      "Bit representations of the bins containing John Wells (politician):\n",
      " [1, 1, 0, 0, 0, 1, 0, 0, 0, 0, 0, 1, 0, 0, 1, 0]\n",
      "Bit representations of the bins containing Francis Longstaff:\n",
      " [1, 1, 0, 0, 0, 1, 0, 0, 0, 0, 0, 1, 0, 0, 1, 0]\n",
      "Bit representations of the bins containing Madurai T. Srinivasan:\n",
      " [1, 1, 0, 0, 0, 1, 0, 0, 0, 0, 0, 1, 0, 0, 1, 0]\n"
     ]
    }
   ],
   "source": [
    "print (\"Bit representations of the bins containing Barack Obama:\\n {}\".format(\n",
    "   [int(e) for e in model['bin_index_bits'][35817]]))\n",
    "print (\"Bit representations of the bins containing Mark Boulware:\\n {}\".format(\n",
    "   [int(e) for e in model['bin_index_bits'][21426]]))\n",
    "print (\"Bit representations of the bins containing John Wells (politician):\\n {}\".format(\n",
    "   [int(e) for e in model['bin_index_bits'][39426]]))\n",
    "print (\"Bit representations of the bins containing Francis Longstaff:\\n {}\".format(\n",
    "   [int(e) for e in model['bin_index_bits'][50261]]))\n",
    "print (\"Bit representations of the bins containing Madurai T. Srinivasan:\\n {}\".format(\n",
    "   [int(e) for e in model['bin_index_bits'][53937]]))"
   ]
  },
  {
   "cell_type": "code",
   "execution_count": 87,
   "metadata": {},
   "outputs": [
    {
     "name": "stdout",
     "output_type": "stream",
     "text": [
      "================= Cosine distance from Barack Obama\n",
      "Barack Obama - Joe Biden               : 0.703139\n",
      "Barack Obama - Mark Boulware           : 0.950867\n",
      "Barack Obama - John Wells (politician) : 0.975966\n",
      "Barack Obama - Francis Longstaff       : 0.978256\n",
      "Barack Obama - Madurai T. Srinivasan   : 0.993092\n"
     ]
    }
   ],
   "source": [
    "def cosine_distance(x, y):\n",
    "    xy = x.dot(y.T)\n",
    "    dist = xy/(norm(x)*norm(y))\n",
    "    return 1-dist[0,0]\n",
    "\n",
    "obama_tf_idf = corpus[35817,:]\n",
    "biden_tf_idf = corpus[24478,:]\n",
    "\n",
    "print ('================= Cosine distance from Barack Obama')\n",
    "print ('Barack Obama - {0:24s}: {1:f}'.format('Joe Biden',\n",
    "                                             cosine_distance(obama_tf_idf, biden_tf_idf)))\n",
    "for doc_id in doc_ids:\n",
    "    doc_tf_idf = corpus[doc_id,:]\n",
    "    print ('Barack Obama - {0:24s}: {1:f}'.format(wiki.iloc[doc_id]['name'],\n",
    "                                                  cosine_distance(obama_tf_idf, doc_tf_idf)))"
   ]
  },
  {
   "cell_type": "markdown",
   "metadata": {},
   "source": [
    "It turns out that Joe Biden is much closer to Barack Obama than any of the four documents, even though Biden's bin representation differs from Obama's by 2 bits."
   ]
  },
  {
   "cell_type": "markdown",
   "metadata": {},
   "source": [
    "**Moral of the story. Similar data points will in general tend to fall into nearby bins, but that's all we can say about LSH. In a high-dimensional space such as text features, we often get unlucky with our selection of only a few random vectors such that dissimilar data points go into the same bin while similar data points fall into different bins. Given a query document, we must consider all documents in the nearby bins and sort them according to their actual distances from the query.**"
   ]
  },
  {
   "cell_type": "code",
   "execution_count": 89,
   "metadata": {},
   "outputs": [],
   "source": [
    "from itertools import combinations"
   ]
  },
  {
   "cell_type": "code",
   "execution_count": null,
   "metadata": {},
   "outputs": [],
   "source": [
    "num_vector = 16\n",
    "search_radius = 3\n",
    "\n",
    "for diff in combinations(range(num_vector), search_radius):\n",
    "    print (diff)"
   ]
  },
  {
   "cell_type": "code",
   "execution_count": 90,
   "metadata": {},
   "outputs": [],
   "source": [
    "def search_nearby_bins(query_bin_bits, table, search_radius=2, initial_candidates=set()):\n",
    "    \"\"\"\n",
    "    For a given query vector and trained LSH model, return all candidate neighbors for\n",
    "    the query among all bins within the given search radius.\n",
    "    \n",
    "    Example usage\n",
    "    -------------\n",
    "    >>> model = train_lsh(corpus, num_vector=16, seed=143)\n",
    "    >>> q = model['bin_index_bits'][0]  # vector for the first document\n",
    "  \n",
    "    >>> candidates = search_nearby_bins(q, model['table'])\n",
    "    \"\"\"\n",
    "    num_vector = len(query_bin_bits)\n",
    "    powers_of_two = 1 << np.arange(num_vector-1, -1, -1)\n",
    "    \n",
    "    # Allow the user to provide an initial set of candidates.\n",
    "    candidate_set = copy(initial_candidates)\n",
    "    \n",
    "    for different_bits in combinations(range(num_vector), search_radius):       \n",
    "        # Flip the bits (n_1,n_2,...,n_r) of the query bin to produce a new bit vector.\n",
    "        ## Hint: you can iterate over a tuple like a list\n",
    "        alternate_bits = copy(query_bin_bits)\n",
    "        for i in different_bits:\n",
    "            alternate_bits[i] = alternate_bits[i]^True # YOUR CODE HERE \n",
    "        \n",
    "        # Convert the new bit vector to an integer index\n",
    "        nearby_bin = alternate_bits.dot(powers_of_two)\n",
    "        \n",
    "        # Fetch the list of documents belonging to the bin indexed by the new bit vector.\n",
    "        # Then add those documents to candidate_set\n",
    "        # Make sure that the bin exists in the table!\n",
    "        # Hint: update() method for sets lets you add an entire list to the set\n",
    "        if nearby_bin in table:\n",
    "            candidate_set = candidate_set.union(set(table[nearby_bin]))  # YOUR CODE HERE: Update candidate_set with the documents in this bin.\n",
    "            \n",
    "    return candidate_set"
   ]
  },
  {
   "cell_type": "code",
   "execution_count": 91,
   "metadata": {},
   "outputs": [
    {
     "name": "stdout",
     "output_type": "stream",
     "text": [
      "Passed test\n",
      "List of documents in the same bin as Obama: 35817, 21426, 53937, 39426, 50261\n",
      "{53937, 39426, 21426, 50261, 35817}\n"
     ]
    }
   ],
   "source": [
    "obama_bin_index = model['bin_index_bits'][35817] # bin index of Barack Obama\n",
    "candidate_set = search_nearby_bins(obama_bin_index, model['table'], search_radius=0)\n",
    "if candidate_set == set([35817, 21426, 53937, 39426, 50261]):\n",
    "    print ('Passed test')\n",
    "else:\n",
    "    print ('Check your code')\n",
    "print( 'List of documents in the same bin as Obama: 35817, 21426, 53937, 39426, 50261')\n",
    "print (candidate_set)"
   ]
  },
  {
   "cell_type": "code",
   "execution_count": 92,
   "metadata": {},
   "outputs": [
    {
     "name": "stdout",
     "output_type": "stream",
     "text": [
      "Passed test\n"
     ]
    }
   ],
   "source": [
    "candidate_set = search_nearby_bins(obama_bin_index, model['table'], search_radius=1, initial_candidates=candidate_set)\n",
    "if candidate_set == set([39426, 38155, 38412, 28444, 9757, 41631, 39207, 59050, 47773, 53937, 21426, 34547,\n",
    "                         23229, 55615, 39877, 27404, 33996, 21715, 50261, 21975, 33243, 58723, 35817, 45676,\n",
    "                         19699, 2804, 20347]):\n",
    "    print ('Passed test')\n",
    "else:\n",
    "    print ('Check your code')"
   ]
  },
  {
   "cell_type": "markdown",
   "metadata": {},
   "source": [
    "## Query the LSH model\n",
    "Let us first implement the logic for searching nearby neighbors, which goes like this:\n",
    "\n",
    "1. Let L be the bit representation of the bin that contains the query documents.\n",
    "2. Consider all documents in bin L.\n",
    "3. Consider documents in the bins whose bit representation differs from L by 1 bit.\n",
    "4. Consider documents in the bins whose bit representation differs from L by 2 bits.\n",
    "...\n",
    "\n",
    "To obtain candidate bins that differ from the query bin by some number of bits, we use itertools.combinations, which produces all possible subsets of a given list. See this documentation for details.\n",
    "\n",
    "1. Decide on the search radius r. This will determine the number of different bits between the two vectors.\n",
    "2. For each subset (n_1, n_2, ..., n_r) of the list [0, 1, 2, ..., num_vector-1], do the following:\n",
    "   * Flip the bits (n_1, n_2, ..., n_r) of the query bin to produce a new bit vector.\n",
    "   * Fetch the list of documents belonging to the bin indexed by the new bit vector.\n",
    "   * Add those documents to the candidate set.\n",
    "   \n",
    "\n"
   ]
  },
  {
   "cell_type": "code",
   "execution_count": 95,
   "metadata": {},
   "outputs": [],
   "source": [
    "def query(vec, model, k, max_search_radius):\n",
    "  \n",
    "    data = model['data']\n",
    "    table = model['table']\n",
    "    random_vectors = model['random_vectors']\n",
    "    num_vector = random_vectors.shape[1]\n",
    "    \n",
    "    \n",
    "    # Compute bin index for the query vector, in bit representation.\n",
    "    bin_index_bits = (vec.dot(random_vectors) >= 0).flatten()\n",
    "    \n",
    "    # Search nearby bins and collect candidates\n",
    "    candidate_set = set()\n",
    "    for search_radius in range(max_search_radius+1):\n",
    "        candidate_set = search_nearby_bins(bin_index_bits, table, search_radius, initial_candidates=candidate_set)\n",
    "    \n",
    "    # Sort candidates by their true distances from the query\n",
    "    nearest_neighbors = pd.DataFrame({'id' : list(candidate_set)})\n",
    "    candidates = data[np.array(list(candidate_set)),:]\n",
    "    nearest_neighbors['distance'] = pairwise_distances(candidates, vec, metric='cosine').flatten()\n",
    "    \n",
    "    return nearest_neighbors.sort_values('distance',ascending=True)[:k], len(candidate_set)"
   ]
  },
  {
   "cell_type": "code",
   "execution_count": 96,
   "metadata": {},
   "outputs": [
    {
     "name": "stdout",
     "output_type": "stream",
     "text": [
      "(        id  distance\n",
      "369  35817  0.000000\n",
      "704  24478  0.703139\n",
      "267  56008  0.856848\n",
      "132  37199  0.874669\n",
      "515  40353  0.890034\n",
      "390   9267  0.898377\n",
      "228  55909  0.899340\n",
      "359   9165  0.900921\n",
      "229  57958  0.903003\n",
      "269  49872  0.909533, 727)\n"
     ]
    }
   ],
   "source": [
    "print (query(corpus[35817,:], model, k=10, max_search_radius=3))"
   ]
  },
  {
   "cell_type": "code",
   "execution_count": 97,
   "metadata": {},
   "outputs": [],
   "source": [
    "wiki['id'] = wiki.index"
   ]
  },
  {
   "cell_type": "code",
   "execution_count": 99,
   "metadata": {},
   "outputs": [
    {
     "name": "stdout",
     "output_type": "stream",
     "text": [
      "Number of candidates considered: 727\n",
      "      id  distance                     name\n",
      "0  35817  0.000000             Barack Obama\n",
      "1  24478  0.703139                Joe Biden\n",
      "2  56008  0.856848            Nathan Cullen\n",
      "3  37199  0.874669  Barry Sullivan (lawyer)\n",
      "4  40353  0.890034            Neil MacBride\n",
      "5   9267  0.898377      Vikramaditya Khanna\n",
      "6  55909  0.899340              Herman Cain\n",
      "7   9165  0.900921     Raymond F. Clevenger\n",
      "8  57958  0.903003        Michael J. Malbin\n",
      "9  49872  0.909533            Lowell Barron\n"
     ]
    }
   ],
   "source": [
    "result, num_candidates_considered = query(corpus[35817,:], model, k=10, max_search_radius=3)\n",
    "print (\"Number of candidates considered: {}\".format(num_candidates_considered))\n",
    "print (pd.merge(result, wiki[['id', 'name']], how='inner', on='id').sort_values('distance'))"
   ]
  },
  {
   "cell_type": "code",
   "execution_count": 104,
   "metadata": {
    "scrolled": false
   },
   "outputs": [
    {
     "name": "stdout",
     "output_type": "stream",
     "text": [
      "Radius: 0 Time Taken: 0.010418891906738281 Secs.\n",
      "      id  distance                     name\n",
      "0  35817  0.000000             Barack Obama\n",
      "1  21426  0.950867            Mark Boulware\n",
      "2  39426  0.975966  John Wells (politician)\n",
      "3  50261  0.978256        Francis Longstaff\n",
      "4  53937  0.993092    Madurai T. Srinivasan\n",
      "Radius: 1 Time Taken: 0.007170915603637695 Secs.\n",
      "      id  distance                                   name\n",
      "0  35817  0.000000                           Barack Obama\n",
      "1  41631  0.947459                            Binayak Sen\n",
      "2  21426  0.950867                          Mark Boulware\n",
      "3  33243  0.951766                        Janice Lachance\n",
      "4  33996  0.960859                            Rufus Black\n",
      "5  28444  0.961081                       John Paul Phelan\n",
      "6  20347  0.974130                        Gianni De Fraja\n",
      "7  39426  0.975966                John Wells (politician)\n",
      "8  34547  0.978215  Nathan Murphy (Australian politician)\n",
      "9  50261  0.978256                      Francis Longstaff\n",
      "Radius: 2 Time Taken: 0.008603096008300781 Secs.\n",
      "      id  distance                 name\n",
      "0  35817  0.000000         Barack Obama\n",
      "1  24478  0.703139            Joe Biden\n",
      "2   9267  0.898377  Vikramaditya Khanna\n",
      "3  55909  0.899340          Herman Cain\n",
      "4   6949  0.925713   Harrison J. Goldin\n",
      "5  23524  0.926398        Paul Bennecke\n",
      "6   5823  0.928498       Adeleke Mamora\n",
      "7  37262  0.934454           Becky Cain\n",
      "8  10121  0.936896         Bill Bradley\n",
      "9  54782  0.937809   Thomas F. Hartnett\n",
      "Radius: 3 Time Taken: 0.02172112464904785 Secs.\n",
      "      id  distance                     name\n",
      "0  35817  0.000000             Barack Obama\n",
      "1  24478  0.703139                Joe Biden\n",
      "2  56008  0.856848            Nathan Cullen\n",
      "3  37199  0.874669  Barry Sullivan (lawyer)\n",
      "4  40353  0.890034            Neil MacBride\n",
      "5   9267  0.898377      Vikramaditya Khanna\n",
      "6  55909  0.899340              Herman Cain\n",
      "7   9165  0.900921     Raymond F. Clevenger\n",
      "8  57958  0.903003        Michael J. Malbin\n",
      "9  49872  0.909533            Lowell Barron\n",
      "Radius: 4 Time Taken: 0.44847702980041504 Secs.\n",
      "      id  distance                name\n",
      "0  35817  0.000000        Barack Obama\n",
      "1  24478  0.703139           Joe Biden\n",
      "2  36452  0.833985        Bill Clinton\n",
      "3  24848  0.839407     John C. Eastman\n",
      "4  43155  0.840839         Goodwin Liu\n",
      "5  42965  0.849078     John O. Brennan\n",
      "6  56008  0.856848       Nathan Cullen\n",
      "7  38495  0.857574        Barney Frank\n",
      "8  18752  0.858899      Dan W. Reicher\n",
      "9   2092  0.874643  Richard Blumenthal\n",
      "Radius: 5 Time Taken: 0.5018091201782227 Secs.\n",
      "      id  distance                     name\n",
      "0  35817  0.000000             Barack Obama\n",
      "1  24478  0.703139                Joe Biden\n",
      "2  38714  0.770561  Eric Stern (politician)\n",
      "3  46811  0.800197            Jeff Sessions\n",
      "4  14754  0.826854              Mitt Romney\n",
      "5  36452  0.833985             Bill Clinton\n",
      "6  40943  0.834535           Jonathan Alter\n",
      "7  55044  0.837013             Wesley Clark\n",
      "8  24848  0.839407          John C. Eastman\n",
      "9  43155  0.840839              Goodwin Liu\n",
      "Radius: 6 Time Taken: 1.7070729732513428 Secs.\n",
      "      id  distance                     name\n",
      "0  35817  0.000000             Barack Obama\n",
      "1  24478  0.703139                Joe Biden\n",
      "2  38714  0.770561  Eric Stern (politician)\n",
      "3  44681  0.790926   Jesse Lee (politician)\n",
      "4  46811  0.800197            Jeff Sessions\n",
      "5  48693  0.809192              Artur Davis\n",
      "6  23737  0.810165        John D. McCormick\n",
      "7   4032  0.814555      Kenneth D. Thompson\n",
      "8  28447  0.823229           George W. Bush\n",
      "9  14754  0.826854              Mitt Romney\n",
      "Radius: 7 Time Taken: 4.998949766159058 Secs.\n",
      "      id  distance                     name\n",
      "0  35817  0.000000             Barack Obama\n",
      "1  24478  0.703139                Joe Biden\n",
      "2  38376  0.742982           Samantha Power\n",
      "3  57108  0.758358   Hillary Rodham Clinton\n",
      "4  38714  0.770561  Eric Stern (politician)\n",
      "5  44681  0.790926   Jesse Lee (politician)\n",
      "6  18827  0.798323             Henry Waxman\n",
      "7  46811  0.800197            Jeff Sessions\n",
      "8  48693  0.809192              Artur Davis\n",
      "9  23737  0.810165        John D. McCormick\n",
      "Radius: 8 Time Taken: 9.708439826965332 Secs.\n",
      "      id  distance                     name\n",
      "0  35817  0.000000             Barack Obama\n",
      "1  24478  0.703139                Joe Biden\n",
      "2  38376  0.742982           Samantha Power\n",
      "3  57108  0.758358   Hillary Rodham Clinton\n",
      "4  38714  0.770561  Eric Stern (politician)\n",
      "5  44681  0.790926   Jesse Lee (politician)\n",
      "6  18827  0.798323             Henry Waxman\n",
      "7  46811  0.800197            Jeff Sessions\n",
      "8  48693  0.809192              Artur Davis\n",
      "9  23737  0.810165        John D. McCormick\n",
      "Radius: 9 Time Taken: 14.709025621414185 Secs.\n",
      "      id  distance                     name\n",
      "0  35817  0.000000             Barack Obama\n",
      "1  24478  0.703139                Joe Biden\n",
      "2  38376  0.742982           Samantha Power\n",
      "3  57108  0.758358   Hillary Rodham Clinton\n",
      "4  38714  0.770561  Eric Stern (politician)\n",
      "5  46140  0.784678             Robert Gibbs\n",
      "6  44681  0.790926   Jesse Lee (politician)\n",
      "7  18827  0.798323             Henry Waxman\n",
      "8  46811  0.800197            Jeff Sessions\n",
      "9  39357  0.809051              John McCain\n",
      "Radius: 10 Time Taken: 18.09594702720642 Secs.\n",
      "      id  distance                     name\n",
      "0  35817  0.000000             Barack Obama\n",
      "1  24478  0.703139                Joe Biden\n",
      "2  38376  0.742982           Samantha Power\n",
      "3  57108  0.758358   Hillary Rodham Clinton\n",
      "4  38714  0.770561  Eric Stern (politician)\n",
      "5  46140  0.784678             Robert Gibbs\n",
      "6  44681  0.790926   Jesse Lee (politician)\n",
      "7  18827  0.798323             Henry Waxman\n",
      "8   2412  0.799466          Joe the Plumber\n",
      "9  46811  0.800197            Jeff Sessions\n",
      "Radius: 11 Time Taken: 20.74501919746399 Secs.\n",
      "      id  distance                     name\n",
      "0  35817  0.000000             Barack Obama\n",
      "1  24478  0.703139                Joe Biden\n",
      "2  38376  0.742982           Samantha Power\n",
      "3  57108  0.758358   Hillary Rodham Clinton\n",
      "4  38714  0.770561  Eric Stern (politician)\n",
      "5  46140  0.784678             Robert Gibbs\n",
      "6  44681  0.790926   Jesse Lee (politician)\n",
      "7  18827  0.798323             Henry Waxman\n",
      "8   2412  0.799466          Joe the Plumber\n",
      "9  46811  0.800197            Jeff Sessions\n",
      "Radius: 12 Time Taken: 20.718046188354492 Secs.\n",
      "      id  distance                     name\n",
      "0  35817  0.000000             Barack Obama\n",
      "1  24478  0.703139                Joe Biden\n",
      "2  38376  0.742982           Samantha Power\n",
      "3  57108  0.758358   Hillary Rodham Clinton\n",
      "4  38714  0.770561  Eric Stern (politician)\n",
      "5  46140  0.784678             Robert Gibbs\n",
      "6   6796  0.788039              Eric Holder\n",
      "7  44681  0.790926   Jesse Lee (politician)\n",
      "8  18827  0.798323             Henry Waxman\n",
      "9   2412  0.799466          Joe the Plumber\n",
      "Radius: 13 Time Taken: 20.815480947494507 Secs.\n",
      "      id  distance                     name\n",
      "0  35817  0.000000             Barack Obama\n",
      "1  24478  0.703139                Joe Biden\n",
      "2  38376  0.742982           Samantha Power\n",
      "3  57108  0.758358   Hillary Rodham Clinton\n",
      "4  38714  0.770561  Eric Stern (politician)\n",
      "5  46140  0.784678             Robert Gibbs\n",
      "6   6796  0.788039              Eric Holder\n",
      "7  44681  0.790926   Jesse Lee (politician)\n",
      "8  18827  0.798323             Henry Waxman\n",
      "9   2412  0.799466          Joe the Plumber\n",
      "Radius: 14 Time Taken: 21.03684711456299 Secs.\n",
      "      id  distance                     name\n",
      "0  35817  0.000000             Barack Obama\n",
      "1  24478  0.703139                Joe Biden\n",
      "2  38376  0.742982           Samantha Power\n",
      "3  57108  0.758358   Hillary Rodham Clinton\n",
      "4  38714  0.770561  Eric Stern (politician)\n",
      "5  46140  0.784678             Robert Gibbs\n",
      "6   6796  0.788039              Eric Holder\n",
      "7  44681  0.790926   Jesse Lee (politician)\n",
      "8  18827  0.798323             Henry Waxman\n",
      "9   2412  0.799466          Joe the Plumber\n",
      "Radius: 15 Time Taken: 20.72942614555359 Secs.\n",
      "      id  distance                     name\n",
      "0  35817  0.000000             Barack Obama\n",
      "1  24478  0.703139                Joe Biden\n",
      "2  38376  0.742982           Samantha Power\n",
      "3  57108  0.758358   Hillary Rodham Clinton\n",
      "4  38714  0.770561  Eric Stern (politician)\n",
      "5  46140  0.784678             Robert Gibbs\n",
      "6   6796  0.788039              Eric Holder\n",
      "7  44681  0.790926   Jesse Lee (politician)\n",
      "8  18827  0.798323             Henry Waxman\n",
      "9   2412  0.799466          Joe the Plumber\n"
     ]
    },
    {
     "name": "stdout",
     "output_type": "stream",
     "text": [
      "Radius: 16 Time Taken: 20.539010047912598 Secs.\n",
      "      id  distance                     name\n",
      "0  35817  0.000000             Barack Obama\n",
      "1  24478  0.703139                Joe Biden\n",
      "2  38376  0.742982           Samantha Power\n",
      "3  57108  0.758358   Hillary Rodham Clinton\n",
      "4  38714  0.770561  Eric Stern (politician)\n",
      "5  46140  0.784678             Robert Gibbs\n",
      "6   6796  0.788039              Eric Holder\n",
      "7  44681  0.790926   Jesse Lee (politician)\n",
      "8  18827  0.798323             Henry Waxman\n",
      "9   2412  0.799466          Joe the Plumber\n",
      "============================= \n",
      "average distance:  [0.9745452682750878, 0.9642887060258674, 0.898958384583039, 0.8706516030485054, 0.8349346493308571, 0.8096145239653254, 0.7943131453905069, 0.7759826058523335, 0.7759826058523335, 0.7731349875446499, 0.7720700524117311, 0.7720700524117311, 0.7707191289494767, 0.7707191289494767, 0.7707191289494767, 0.7707191289494767, 0.7707191289494767]\n"
     ]
    }
   ],
   "source": [
    "import time\n",
    "num_candidates_history = []\n",
    "query_time_history = []\n",
    "max_distance_from_query_history = []\n",
    "min_distance_from_query_history = []\n",
    "average_distance_from_query_history = []\n",
    "\n",
    "for max_search_radius in range(17):\n",
    "    start=time.time()\n",
    "    # Perform LSH query using Barack Obama, with max_search_radius\n",
    "    result, num_candidates = query(corpus[35817,:], model, k=10,\n",
    "                                   max_search_radius=max_search_radius)\n",
    "    end=time.time()\n",
    "    query_time = end-start  # Measure time\n",
    "    \n",
    "    print ('Radius:', max_search_radius, 'Time Taken:', query_time, \"Secs.\")\n",
    "    # Display 10 nearest neighbors, along with document ID and name\n",
    "    print (pd.merge(result, wiki[['id', 'name']], how='inner', on='id').sort_values('distance'))\n",
    "    \n",
    "    # Collect statistics on 10 nearest neighbors\n",
    "    average_distance_from_query = result['distance'][1:].mean()\n",
    "    max_distance_from_query = result['distance'][1:].max()\n",
    "    min_distance_from_query = result['distance'][1:].min()\n",
    "    \n",
    "    num_candidates_history.append(num_candidates)\n",
    "    query_time_history.append(query_time)\n",
    "    average_distance_from_query_history.append(average_distance_from_query)\n",
    "    max_distance_from_query_history.append(max_distance_from_query)\n",
    "    min_distance_from_query_history.append(min_distance_from_query)\n",
    "    \n",
    "print (\"=============================\",\"\\naverage distance: \", average_distance_from_query_history)"
   ]
  },
  {
   "cell_type": "code",
   "execution_count": 105,
   "metadata": {},
   "outputs": [
    {
     "data": {
      "image/png": "[encoded data removed]",
      "text/plain": [
       "<Figure size 504x324 with 1 Axes>"
      ]
     },
     "metadata": {},
     "output_type": "display_data"
    },
    {
     "data": {
      "image/png": "[encoded data removed]",
      "text/plain": [
       "<Figure size 504x324 with 1 Axes>"
      ]
     },
     "metadata": {},
     "output_type": "display_data"
    },
    {
     "data": {
      "image/png": "[encoded data removed]",
      "text/plain": [
       "<Figure size 504x324 with 1 Axes>"
      ]
     },
     "metadata": {},
     "output_type": "display_data"
    }
   ],
   "source": [
    "plt.figure(figsize=(7,4.5))\n",
    "plt.plot(num_candidates_history, linewidth=4)\n",
    "plt.xlabel('Search radius')\n",
    "plt.ylabel('# of documents searched')\n",
    "plt.rcParams.update({'font.size':16})\n",
    "plt.tight_layout()\n",
    "\n",
    "plt.figure(figsize=(7,4.5))\n",
    "plt.plot(query_time_history, linewidth=4)\n",
    "plt.xlabel('Search radius')\n",
    "plt.ylabel('Query time (seconds)')\n",
    "plt.rcParams.update({'font.size':16})\n",
    "plt.tight_layout()\n",
    "\n",
    "plt.figure(figsize=(7,4.5))\n",
    "plt.plot(average_distance_from_query_history, linewidth=4, label='Average of 10 neighbors')\n",
    "plt.plot(max_distance_from_query_history, linewidth=4, label='Farthest of 10 neighbors')\n",
    "plt.plot(min_distance_from_query_history, linewidth=4, label='Closest of 10 neighbors')\n",
    "plt.xlabel('Search radius')\n",
    "plt.ylabel('Cosine distance of neighbors')\n",
    "plt.legend(loc='best', prop={'size':15})\n",
    "plt.rcParams.update({'font.size':16})\n",
    "plt.tight_layout()"
   ]
  },
  {
   "cell_type": "markdown",
   "metadata": {},
   "source": [
    "**Quiz Question. What was the smallest search radius that yielded the correct nearest neighbor, namely Joe Biden?\n",
    "<br/>Ans: 2\n",
    "**\n",
    "\n",
    "**Quiz Question. Suppose our goal was to produce 10 approximate nearest neighbors whose average distance from the query document is within 0.01 of the average for the true 10 nearest neighbors. For Barack Obama, the true 10 nearest neighbors are on average about 0.77. What was the smallest search radius for Barack Obama that produced an average distance of 0.78 or better?\n",
    "<br/>Ans: 7\n",
    "**"
   ]
  },
  {
   "cell_type": "code",
   "execution_count": 108,
   "metadata": {},
   "outputs": [],
   "source": [
    "def brute_force_query(vec, data, k):\n",
    "    num_data_points = data.shape[0]\n",
    "    \n",
    "    # Compute distances for ALL data points in training set\n",
    "    nearest_neighbors = pd.DataFrame({'id':range(num_data_points)})\n",
    "    nearest_neighbors['distance'] = pairwise_distances(data, vec, metric='cosine').flatten()\n",
    "    \n",
    "    return nearest_neighbors.sort_values('distance')[:k]"
   ]
  },
  {
   "cell_type": "code",
   "execution_count": 109,
   "metadata": {},
   "outputs": [
    {
     "name": "stdout",
     "output_type": "stream",
     "text": [
      "0 / 10\n",
      "1 / 10\n",
      "2 / 10\n",
      "3 / 10\n",
      "4 / 10\n",
      "5 / 10\n",
      "6 / 10\n",
      "7 / 10\n",
      "8 / 10\n",
      "9 / 10\n"
     ]
    }
   ],
   "source": [
    "max_radius = 17\n",
    "precision = {i:[] for i in range(max_radius)}\n",
    "average_distance  = {i:[] for i in range(max_radius)}\n",
    "query_time  = {i:[] for i in range(max_radius)}\n",
    "\n",
    "np.random.seed(0)\n",
    "num_queries = 10\n",
    "for i, ix in enumerate(np.random.choice(corpus.shape[0], num_queries, replace=False)):\n",
    "    print('%s / %s' % (i, num_queries))\n",
    "    ground_truth = set(brute_force_query(corpus[ix,:], corpus, k=25)['id'])\n",
    "    # Get the set of 25 true nearest neighbors\n",
    "    \n",
    "    for r in range(1,max_radius):\n",
    "        start = time.time()\n",
    "        result, num_candidates = query(corpus[ix,:], model, k=10, max_search_radius=r)\n",
    "        end = time.time()\n",
    "\n",
    "        query_time[r].append(end-start)\n",
    "        # precision = (# of neighbors both in result and ground_truth)/10.0\n",
    "        precision[r].append(len(set(result['id']) & ground_truth)/10.0)\n",
    "        average_distance[r].append(result['distance'][1:].mean())"
   ]
  },
  {
   "cell_type": "code",
   "execution_count": 117,
   "metadata": {},
   "outputs": [
    {
     "data": {
      "image/png": "[encoded data removed]",
      "text/plain": [
       "<Figure size 504x324 with 1 Axes>"
      ]
     },
     "metadata": {},
     "output_type": "display_data"
    },
    {
     "data": {
      "image/png": "[encoded data removed]",
      "text/plain": [
       "<Figure size 504x324 with 1 Axes>"
      ]
     },
     "metadata": {},
     "output_type": "display_data"
    },
    {
     "data": {
      "image/png": "[encoded data removed]",
      "text/plain": [
       "<Figure size 504x324 with 1 Axes>"
      ]
     },
     "metadata": {},
     "output_type": "display_data"
    }
   ],
   "source": [
    "plt.figure(figsize=(7,4.5))\n",
    "plt.plot(range(1,17), [np.mean(average_distance[i]) for i in range(1,17)], \n",
    "         linewidth=4, label='Average over 10 neighbors')\n",
    "plt.xlabel('Search radius')\n",
    "plt.ylabel('Cosine distance')\n",
    "plt.legend(loc='best', prop={'size':15})\n",
    "plt.rcParams.update({'font.size':16})\n",
    "plt.tight_layout()\n",
    "\n",
    "plt.figure(figsize=(7,4.5))\n",
    "plt.plot(range(1,17), [np.mean(precision[i]) for i in range(1,17)], linewidth=4, label='Precison@10')\n",
    "plt.xlabel('Search radius')\n",
    "plt.ylabel('Precision')\n",
    "plt.legend(loc='best', prop={'size':15})\n",
    "plt.rcParams.update({'font.size':16})\n",
    "plt.tight_layout()\n",
    "\n",
    "plt.figure(figsize=(7,4.5))\n",
    "plt.plot(range(1,17), [np.mean(query_time[i]) for i in range(1,17)], linewidth=4, label='Query time')\n",
    "plt.xlabel('Search radius')\n",
    "plt.ylabel('Query time (seconds)')\n",
    "plt.legend(loc='best', prop={'size':15})\n",
    "plt.rcParams.update({'font.size':16})\n",
    "plt.tight_layout()"
   ]
  },
  {
   "cell_type": "markdown",
   "metadata": {},
   "source": [
    "The observations for Barack Obama generalize to the entire dataset.\n",
    "Effect of number of random vectors\n",
    "Let us now turn our focus to the remaining parameter: the number of random vectors. \n",
    "We run LSH with different number of random vectors, ranging from 5 to 20. \n",
    "We fix the search radius to 3. Allow a few minutes for the following cell to complete."
   ]
  },
  {
   "cell_type": "code",
   "execution_count": 118,
   "metadata": {},
   "outputs": [
    {
     "name": "stdout",
     "output_type": "stream",
     "text": [
      "num_vector = 5\n",
      "num_vector = 6\n",
      "num_vector = 7\n",
      "num_vector = 8\n",
      "num_vector = 9\n",
      "num_vector = 10\n",
      "num_vector = 11\n",
      "num_vector = 12\n",
      "num_vector = 13\n",
      "num_vector = 14\n",
      "num_vector = 15\n",
      "num_vector = 16\n",
      "num_vector = 17\n",
      "num_vector = 18\n",
      "num_vector = 19\n"
     ]
    }
   ],
   "source": [
    "precision = {i:[] for i in range(5,20)}\n",
    "average_distance  = {i:[] for i in range(5,20)}\n",
    "query_time = {i:[] for i in range(5,20)}\n",
    "num_candidates_history = {i:[] for i in range(5,20)}\n",
    "ground_truth = {}\n",
    "\n",
    "np.random.seed(0)\n",
    "num_queries = 10\n",
    "docs = np.random.choice(corpus.shape[0], num_queries, replace=False)\n",
    "\n",
    "for i, ix in enumerate(docs):\n",
    "    ground_truth[ix] = set(brute_force_query(corpus[ix,:], corpus, k=25)['id'])\n",
    "    # Get the set of 25 true nearest neighbors\n",
    "\n",
    "for num_vector in range(5,20):\n",
    "    print('num_vector = %s' % (num_vector))\n",
    "    model = train_lsh(corpus, num_vector, seed=143)\n",
    "    \n",
    "    for i, ix in enumerate(docs):\n",
    "        start = time.time()\n",
    "        result, num_candidates = query(corpus[ix,:], model, k=10, max_search_radius=3)\n",
    "        end = time.time()\n",
    "        \n",
    "        query_time[num_vector].append(end-start)\n",
    "        precision[num_vector].append(len(set(result['id']) & ground_truth[ix])/10.0)\n",
    "        average_distance[num_vector].append(result['distance'][1:].mean())\n",
    "        num_candidates_history[num_vector].append(num_candidates)"
   ]
  },
  {
   "cell_type": "code",
   "execution_count": 119,
   "metadata": {},
   "outputs": [
    {
     "data": {
      "image/png": "[encoded data removed]",
      "text/plain": [
       "<Figure size 504x324 with 1 Axes>"
      ]
     },
     "metadata": {},
     "output_type": "display_data"
    },
    {
     "data": {
      "image/png": "[encoded data removed]",
      "text/plain": [
       "<Figure size 504x324 with 1 Axes>"
      ]
     },
     "metadata": {},
     "output_type": "display_data"
    },
    {
     "data": {
      "image/png": "[encoded data removed]",
      "text/plain": [
       "<Figure size 504x324 with 1 Axes>"
      ]
     },
     "metadata": {},
     "output_type": "display_data"
    },
    {
     "data": {
      "image/png": "[encoded data removed]",
      "text/plain": [
       "<Figure size 504x324 with 1 Axes>"
      ]
     },
     "metadata": {},
     "output_type": "display_data"
    }
   ],
   "source": [
    "plt.figure(figsize=(7,4.5))\n",
    "plt.plot(range(5,20), [np.mean(average_distance[i]) for i in range(5,20)], linewidth=4, label='Average over 10 neighbors')\n",
    "plt.xlabel('# of random vectors')\n",
    "plt.ylabel('Cosine distance')\n",
    "plt.legend(loc='best', prop={'size':15})\n",
    "plt.rcParams.update({'font.size':16})\n",
    "plt.tight_layout()\n",
    "\n",
    "plt.figure(figsize=(7,4.5))\n",
    "plt.plot(range(5,20), [np.mean(precision[i]) for i in range(5,20)], linewidth=4, label='Precison@10')\n",
    "plt.xlabel('# of random vectors')\n",
    "plt.ylabel('Precision')\n",
    "plt.legend(loc='best', prop={'size':15})\n",
    "plt.rcParams.update({'font.size':16})\n",
    "plt.tight_layout()\n",
    "\n",
    "plt.figure(figsize=(7,4.5))\n",
    "plt.plot(range(5,20), [np.mean(query_time[i]) for i in range(5,20)], linewidth=4, label='Query time (seconds)')\n",
    "plt.xlabel('# of random vectors')\n",
    "plt.ylabel('Query time (seconds)')\n",
    "plt.legend(loc='best', prop={'size':15})\n",
    "plt.rcParams.update({'font.size':16})\n",
    "plt.tight_layout()\n",
    "\n",
    "plt.figure(figsize=(7,4.5))\n",
    "plt.plot(range(5,20), [np.mean(num_candidates_history[i]) for i in range(5,20)], linewidth=4,\n",
    "         label='# of documents searched')\n",
    "plt.xlabel('# of random vectors')\n",
    "plt.ylabel('# of documents searched')\n",
    "plt.legend(loc='best', prop={'size':15})\n",
    "plt.rcParams.update({'font.size':16})\n",
    "plt.tight_layout()"
   ]
  },
  {
   "cell_type": "markdown",
   "metadata": {},
   "source": [
    "**Note:** We see a similar trade-off between quality and performance: as the number of random vectors increases,\n",
    "    the query time goes down as each bin contains fewer documents on average,\n",
    "    but on average the neighbors are likewise placed farther from the query.\n",
    "    On the other hand, when using a small enough number of random vectors, \n",
    "    LSH becomes very similar brute-force search: Many documents appear in a single bin,\n",
    "        so searching the query bin alone covers a lot of the corpus;\n",
    "        then, including neighboring bins might result in searching all documents, \n",
    "        just as in the brute-force approach."
   ]
  },
  {
   "cell_type": "code",
   "execution_count": null,
   "metadata": {},
   "outputs": [],
   "source": []
  }
 ],
 "metadata": {
  "anaconda-cloud": {},
  "kernelspec": {
   "display_name": "Python 3",
   "language": "python",
   "name": "python3"
  },
  "language_info": {
   "codemirror_mode": {
    "name": "ipython",
    "version": 3
   },
   "file_extension": ".py",
   "mimetype": "text/x-python",
   "name": "python",
   "nbconvert_exporter": "python",
   "pygments_lexer": "ipython3",
   "version": "3.6.10"
  }
 },
 "nbformat": 4,
 "nbformat_minor": 2
}
