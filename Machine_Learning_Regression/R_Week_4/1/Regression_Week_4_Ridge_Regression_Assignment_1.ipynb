{
 "cells": [
  {
   "cell_type": "code",
   "execution_count": 1,
   "metadata": {
    "collapsed": true
   },
   "outputs": [],
   "source": [
    "import pandas as pd\n",
    "import numpy as np\n",
    "import matplotlib.pyplot as plt\n",
    "from sklearn.linear_model import LinearRegression\n",
    "from sklearn import linear_model"
   ]
  },
  {
   "cell_type": "code",
   "execution_count": 3,
   "metadata": {},
   "outputs": [],
   "source": [
    "dtype_dict = {'bathrooms':float, 'waterfront':int, 'sqft_above':int, 'sqft_living15':float, 'grade':int, 'yr_renovated':int, 'price':float, 'bedrooms':float, 'zipcode':str, 'long':float, 'sqft_lot15':float, 'sqft_living':float, 'floors':float, 'condition':int, 'lat':float, 'date':str, 'sqft_basement':int, 'yr_built':int, 'id':str, 'sqft_lot':int, 'view':int}\n",
    "\n",
    "sales = pd.read_csv('kc_house_data.csv', dtype=dtype_dict)\n",
    "sales = sales.sort_values(['sqft_living','price'])"
   ]
  },
  {
   "cell_type": "code",
   "execution_count": 4,
   "metadata": {
    "collapsed": true
   },
   "outputs": [],
   "source": [
    "l2_small_penalty = 1.5e-5"
   ]
  },
  {
   "cell_type": "code",
   "execution_count": 5,
   "metadata": {
    "collapsed": true
   },
   "outputs": [],
   "source": [
    "def polynomial_dataframe(df, feature, degree): # feature is pandas.Series type\n",
    "    # assume that degree >= 1\n",
    "    poly_dataframe= pd.DataFrame()\n",
    "    poly_dataframe[feature] = df[feature]\n",
    "    if degree > 1:\n",
    "        # then loop over the remaining degrees:\n",
    "        for power in range(2, degree+1):\n",
    "            # first we'll give the column a name:\n",
    "            name = 'power_' + str(power)\n",
    "            poly_dataframe[name] = poly_dataframe[feature].apply(lambda x: x**power)\n",
    "    return poly_dataframe"
   ]
  },
  {
   "cell_type": "code",
   "execution_count": 6,
   "metadata": {
    "collapsed": true
   },
   "outputs": [],
   "source": [
    "poly15_data = polynomial_dataframe(df = sales, feature='sqft_living', degree=15)"
   ]
  },
  {
   "cell_type": "code",
   "execution_count": 8,
   "metadata": {},
   "outputs": [
    {
     "data": {
      "text/plain": [
       "Ridge(alpha=1.5e-05, copy_X=True, fit_intercept=True, max_iter=None,\n",
       "   normalize=True, random_state=None, solver='auto', tol=0.001)"
      ]
     },
     "execution_count": 8,
     "metadata": {},
     "output_type": "execute_result"
    }
   ],
   "source": [
    "model = linear_model.Ridge(alpha=l2_small_penalty, normalize=True)\n",
    "model.fit(poly15_data, sales['price'])"
   ]
  },
  {
   "cell_type": "code",
   "execution_count": 9,
   "metadata": {},
   "outputs": [
    {
     "data": {
      "text/plain": [
       "array([  1.24873306e+02,  -4.77376011e-02,   3.01446238e-05,\n",
       "        -2.44419942e-09,  -1.94153675e-13,   8.54085686e-18,\n",
       "         1.51142121e-21,   8.27979094e-26,   6.52603100e-31,\n",
       "        -3.27895017e-34,  -3.87962315e-38,  -2.72437650e-42,\n",
       "        -1.07790800e-46,   3.78242694e-51,   1.39790296e-54])"
      ]
     },
     "execution_count": 9,
     "metadata": {},
     "output_type": "execute_result"
    }
   ],
   "source": [
    "model.coef_"
   ]
  },
  {
   "cell_type": "code",
   "execution_count": 10,
   "metadata": {},
   "outputs": [
    {
     "data": {
      "text/plain": [
       "220664.37505306327"
      ]
     },
     "execution_count": 10,
     "metadata": {},
     "output_type": "execute_result"
    }
   ],
   "source": [
    "model.intercept_"
   ]
  },
  {
   "cell_type": "code",
   "execution_count": 11,
   "metadata": {
    "collapsed": true
   },
   "outputs": [],
   "source": [
    "set_1 = pd.read_csv('wk3_kc_house_set_1_data.csv', dtype=dtype_dict)\n",
    "set_2 = pd.read_csv('wk3_kc_house_set_2_data.csv', dtype=dtype_dict)\n",
    "set_3 = pd.read_csv('wk3_kc_house_set_3_data.csv', dtype=dtype_dict)\n",
    "set_4 = pd.read_csv('wk3_kc_house_set_4_data.csv', dtype=dtype_dict)"
   ]
  },
  {
   "cell_type": "code",
   "execution_count": 12,
   "metadata": {
    "collapsed": true
   },
   "outputs": [],
   "source": [
    "poly15_set_1 = polynomial_dataframe(df = set_1, feature='sqft_living', degree=15)\n",
    "poly15_set_2 = polynomial_dataframe(df = set_2, feature='sqft_living', degree=15)\n",
    "poly15_set_3 = polynomial_dataframe(df = set_3, feature='sqft_living', degree=15)\n",
    "poly15_set_4 = polynomial_dataframe(df = set_4, feature='sqft_living', degree=15)"
   ]
  },
  {
   "cell_type": "code",
   "execution_count": 13,
   "metadata": {
    "collapsed": true
   },
   "outputs": [],
   "source": [
    "l2_small_penalty=1e-9"
   ]
  },
  {
   "cell_type": "code",
   "execution_count": 14,
   "metadata": {},
   "outputs": [
    {
     "data": {
      "text/plain": [
       "544.66939875124069"
      ]
     },
     "execution_count": 14,
     "metadata": {},
     "output_type": "execute_result"
    }
   ],
   "source": [
    "model_set_1 = linear_model.Ridge(alpha=l2_small_penalty, normalize=True)\n",
    "model_set_1.fit(poly15_set_1, set_1['price'])\n",
    "model_set_1.coef_[0]"
   ]
  },
  {
   "cell_type": "code",
   "execution_count": 15,
   "metadata": {},
   "outputs": [
    {
     "data": {
      "text/plain": [
       "859.36266158183673"
      ]
     },
     "execution_count": 15,
     "metadata": {},
     "output_type": "execute_result"
    }
   ],
   "source": [
    "model_set_2 = linear_model.Ridge(alpha=l2_small_penalty, normalize=True)\n",
    "model_set_2.fit(poly15_set_2, set_2['price'])\n",
    "model_set_2.coef_[0]"
   ]
  },
  {
   "cell_type": "code",
   "execution_count": 16,
   "metadata": {},
   "outputs": [
    {
     "data": {
      "text/plain": [
       "-755.39596179689272"
      ]
     },
     "execution_count": 16,
     "metadata": {},
     "output_type": "execute_result"
    }
   ],
   "source": [
    "model_set_3 = linear_model.Ridge(alpha=l2_small_penalty, normalize=True)\n",
    "model_set_3.fit(poly15_set_3, set_3['price'])\n",
    "model_set_3.coef_[0]"
   ]
  },
  {
   "cell_type": "code",
   "execution_count": 17,
   "metadata": {},
   "outputs": [
    {
     "data": {
      "text/plain": [
       "1119.4456937348741"
      ]
     },
     "execution_count": 17,
     "metadata": {},
     "output_type": "execute_result"
    }
   ],
   "source": [
    "model_set_4 = linear_model.Ridge(alpha=l2_small_penalty, normalize=True)\n",
    "model_set_4.fit(poly15_set_4, set_4['price'])\n",
    "model_set_4.coef_[0]"
   ]
  },
  {
   "cell_type": "code",
   "execution_count": 18,
   "metadata": {
    "collapsed": true
   },
   "outputs": [],
   "source": [
    "l2_large_penalty=1.23e2\n"
   ]
  },
  {
   "cell_type": "code",
   "execution_count": 19,
   "metadata": {},
   "outputs": [
    {
     "data": {
      "text/plain": [
       "2.3280680295793248"
      ]
     },
     "execution_count": 19,
     "metadata": {},
     "output_type": "execute_result"
    }
   ],
   "source": [
    "model_set_1 = linear_model.Ridge(alpha=l2_large_penalty, normalize=True)\n",
    "model_set_1.fit(poly15_set_1, set_1['price'])\n",
    "model_set_1.coef_[0]"
   ]
  },
  {
   "cell_type": "code",
   "execution_count": 20,
   "metadata": {},
   "outputs": [
    {
     "data": {
      "text/plain": [
       "2.097569027778555"
      ]
     },
     "execution_count": 20,
     "metadata": {},
     "output_type": "execute_result"
    }
   ],
   "source": [
    "model_set_2 = linear_model.Ridge(alpha=l2_large_penalty, normalize=True)\n",
    "model_set_2.fit(poly15_set_2, set_2['price'])\n",
    "model_set_2.coef_[0]"
   ]
  },
  {
   "cell_type": "code",
   "execution_count": 21,
   "metadata": {},
   "outputs": [
    {
     "data": {
      "text/plain": [
       "2.2890625811892047"
      ]
     },
     "execution_count": 21,
     "metadata": {},
     "output_type": "execute_result"
    }
   ],
   "source": [
    "model_set_3 = linear_model.Ridge(alpha=l2_large_penalty, normalize=True)\n",
    "model_set_3.fit(poly15_set_3, set_3['price'])\n",
    "model_set_3.coef_[0]"
   ]
  },
  {
   "cell_type": "code",
   "execution_count": 22,
   "metadata": {},
   "outputs": [
    {
     "data": {
      "text/plain": [
       "2.0859619409193071"
      ]
     },
     "execution_count": 22,
     "metadata": {},
     "output_type": "execute_result"
    }
   ],
   "source": [
    "model_set_4 = linear_model.Ridge(alpha=l2_large_penalty, normalize=True)\n",
    "model_set_4.fit(poly15_set_4, set_4['price'])\n",
    "model_set_4.coef_[0]"
   ]
  },
  {
   "cell_type": "code",
   "execution_count": 60,
   "metadata": {},
   "outputs": [],
   "source": [
    "import math\n",
    "class ridge_cross_validation: \n",
    "    def __init__(self, train_x, train_y, penalty, k=10):\n",
    "        self.train_x = train_x\n",
    "        self.train_y = np.array(train_y)\n",
    "        self.k = k\n",
    "        self.penalty = penalty\n",
    "        \n",
    "    def fit(self):\n",
    "        v_sz = math.ceil(len(self.train_y) / 10)\n",
    "        model = linear_model.Ridge(alpha=self.penalty, normalize=True)\n",
    "        rss = 0.0\n",
    "        for i in range(self.k):\n",
    "            start = i * v_sz\n",
    "            end = start + v_sz if (start + v_sz) <= len(self.train_y) else len(self.train_y)\n",
    "            df1 = self.train_x.iloc[0:start]\n",
    "            df2 = self.train_x.iloc[end:]\n",
    "            train_df = pd.concat([df1,df2], axis=0)\n",
    "            train_label = np.concatenate((self.train_y[0:start], self.train_y[end:]))\n",
    "            val_df = self.train_x.iloc[start:end]\n",
    "            val_label = self.train_y[start:end]\n",
    "            model.fit(train_df, train_label)\n",
    "            y_hat = model.predict(val_df)\n",
    "            rss += self.RSS_calc(y_hat, val_label)\n",
    "        \n",
    "        rss = rss/self.k\n",
    "        return rss\n",
    "            \n",
    "            \n",
    "    def RSS_calc(self, y_hat, y):\n",
    "        rss=0.0\n",
    "        for i in range(len(y)):\n",
    "            rss += np.square(y_hat[i]-y[i])\n",
    "        return rss\n",
    "        \n",
    "        "
   ]
  },
  {
   "cell_type": "code",
   "execution_count": 61,
   "metadata": {},
   "outputs": [],
   "source": [
    "shuffle_data= pd.read_csv('wk3_kc_house_train_valid_shuffled.csv', dtype=dtype_dict)"
   ]
  },
  {
   "cell_type": "code",
   "execution_count": 62,
   "metadata": {},
   "outputs": [],
   "source": [
    "l2_penalty = np.logspace(3, 9, num=13)"
   ]
  },
  {
   "cell_type": "code",
   "execution_count": 63,
   "metadata": {},
   "outputs": [],
   "source": [
    "shuffle_poly_15 = polynomial_dataframe(df = shuffle_data, feature='sqft_living', degree=15)"
   ]
  },
  {
   "cell_type": "markdown",
   "metadata": {},
   "source": [
    "1.00000000e+03\n"
   ]
  },
  {
   "cell_type": "code",
   "execution_count": 64,
   "metadata": {
    "collapsed": true
   },
   "outputs": [],
   "source": [
    "train_y = np.array(shuffle_data['price'])"
   ]
  },
  {
   "cell_type": "code",
   "execution_count": 65,
   "metadata": {},
   "outputs": [],
   "source": [
    "summary = pd.DataFrame(columns=['Penalty', 'Average RSS'])\n",
    "index = 0\n",
    "for penalty in l2_penalty:\n",
    "    model = ridge_cross_validation(train_x=shuffle_poly_15, train_y=train_y, penalty=penalty, k=10)\n",
    "    rss = model.fit()\n",
    "    summary.loc[index] = [penalty, rss]\n",
    "    index +=1\n",
    "summary.sort_values('Average RSS', inplace=True)"
   ]
  },
  {
   "cell_type": "code",
   "execution_count": 67,
   "metadata": {},
   "outputs": [
    {
     "data": {
      "text/html": [
       "<div>\n",
       "<style>\n",
       "    .dataframe thead tr:only-child th {\n",
       "        text-align: right;\n",
       "    }\n",
       "\n",
       "    .dataframe thead th {\n",
       "        text-align: left;\n",
       "    }\n",
       "\n",
       "    .dataframe tbody tr th {\n",
       "        vertical-align: top;\n",
       "    }\n",
       "</style>\n",
       "<table border=\"1\" class=\"dataframe\">\n",
       "  <thead>\n",
       "    <tr style=\"text-align: right;\">\n",
       "      <th></th>\n",
       "      <th>Penalty</th>\n",
       "      <th>Average RSS</th>\n",
       "    </tr>\n",
       "  </thead>\n",
       "  <tbody>\n",
       "    <tr>\n",
       "      <th>0</th>\n",
       "      <td>1.000000e+03</td>\n",
       "      <td>2.649771e+14</td>\n",
       "    </tr>\n",
       "    <tr>\n",
       "      <th>1</th>\n",
       "      <td>3.162278e+03</td>\n",
       "      <td>2.656927e+14</td>\n",
       "    </tr>\n",
       "    <tr>\n",
       "      <th>2</th>\n",
       "      <td>1.000000e+04</td>\n",
       "      <td>2.659241e+14</td>\n",
       "    </tr>\n",
       "    <tr>\n",
       "      <th>3</th>\n",
       "      <td>3.162278e+04</td>\n",
       "      <td>2.659978e+14</td>\n",
       "    </tr>\n",
       "    <tr>\n",
       "      <th>4</th>\n",
       "      <td>1.000000e+05</td>\n",
       "      <td>2.660212e+14</td>\n",
       "    </tr>\n",
       "    <tr>\n",
       "      <th>5</th>\n",
       "      <td>3.162278e+05</td>\n",
       "      <td>2.660286e+14</td>\n",
       "    </tr>\n",
       "    <tr>\n",
       "      <th>6</th>\n",
       "      <td>1.000000e+06</td>\n",
       "      <td>2.660309e+14</td>\n",
       "    </tr>\n",
       "    <tr>\n",
       "      <th>7</th>\n",
       "      <td>3.162278e+06</td>\n",
       "      <td>2.660317e+14</td>\n",
       "    </tr>\n",
       "    <tr>\n",
       "      <th>8</th>\n",
       "      <td>1.000000e+07</td>\n",
       "      <td>2.660319e+14</td>\n",
       "    </tr>\n",
       "    <tr>\n",
       "      <th>9</th>\n",
       "      <td>3.162278e+07</td>\n",
       "      <td>2.660320e+14</td>\n",
       "    </tr>\n",
       "    <tr>\n",
       "      <th>10</th>\n",
       "      <td>1.000000e+08</td>\n",
       "      <td>2.660320e+14</td>\n",
       "    </tr>\n",
       "    <tr>\n",
       "      <th>11</th>\n",
       "      <td>3.162278e+08</td>\n",
       "      <td>2.660320e+14</td>\n",
       "    </tr>\n",
       "    <tr>\n",
       "      <th>12</th>\n",
       "      <td>1.000000e+09</td>\n",
       "      <td>2.660320e+14</td>\n",
       "    </tr>\n",
       "  </tbody>\n",
       "</table>\n",
       "</div>"
      ],
      "text/plain": [
       "         Penalty   Average RSS\n",
       "0   1.000000e+03  2.649771e+14\n",
       "1   3.162278e+03  2.656927e+14\n",
       "2   1.000000e+04  2.659241e+14\n",
       "3   3.162278e+04  2.659978e+14\n",
       "4   1.000000e+05  2.660212e+14\n",
       "5   3.162278e+05  2.660286e+14\n",
       "6   1.000000e+06  2.660309e+14\n",
       "7   3.162278e+06  2.660317e+14\n",
       "8   1.000000e+07  2.660319e+14\n",
       "9   3.162278e+07  2.660320e+14\n",
       "10  1.000000e+08  2.660320e+14\n",
       "11  3.162278e+08  2.660320e+14\n",
       "12  1.000000e+09  2.660320e+14"
      ]
     },
     "execution_count": 67,
     "metadata": {},
     "output_type": "execute_result"
    }
   ],
   "source": [
    "summary"
   ]
  },
  {
   "cell_type": "code",
   "execution_count": 70,
   "metadata": {},
   "outputs": [
    {
     "data": {
      "text/plain": [
       "Ridge(alpha=1000, copy_X=True, fit_intercept=True, max_iter=None,\n",
       "   normalize=True, random_state=None, solver='auto', tol=0.001)"
      ]
     },
     "execution_count": 70,
     "metadata": {},
     "output_type": "execute_result"
    }
   ],
   "source": [
    "shuffle_data= pd.read_csv('wk3_kc_house_train_valid_shuffled.csv', dtype=dtype_dict)\n",
    "shuffle_poly_15 = polynomial_dataframe(df = shuffle_data, feature='sqft_living', degree=15)\n",
    "model = linear_model.Ridge(alpha=1000, normalize=True)\n",
    "model.fit(shuffle_poly_15, shuffle_data['price'])"
   ]
  },
  {
   "cell_type": "code",
   "execution_count": 71,
   "metadata": {},
   "outputs": [],
   "source": [
    "test_data = pd.read_csv('wk3_kc_house_test_data.csv', dtype=dtype_dict)\n",
    "test_poly_15 = polynomial_dataframe(df = test_data, feature='sqft_living', degree=15)"
   ]
  },
  {
   "cell_type": "code",
   "execution_count": 72,
   "metadata": {
    "collapsed": true
   },
   "outputs": [],
   "source": [
    "test_y_hat = model.predict(test_poly_15)"
   ]
  },
  {
   "cell_type": "code",
   "execution_count": 75,
   "metadata": {},
   "outputs": [],
   "source": [
    "test_y = np.array(test_data['price'])"
   ]
  },
  {
   "cell_type": "code",
   "execution_count": 76,
   "metadata": {
    "collapsed": true
   },
   "outputs": [],
   "source": [
    "def RSS_calc(y_hat, y):\n",
    "        rss=0.0\n",
    "        for i in range(len(y)):\n",
    "            rss += np.square(y_hat[i]-y[i])\n",
    "        return rss"
   ]
  },
  {
   "cell_type": "code",
   "execution_count": 77,
   "metadata": {
    "collapsed": true
   },
   "outputs": [],
   "source": [
    "test_rss = RSS_calc(test_y_hat, test_y)"
   ]
  },
  {
   "cell_type": "code",
   "execution_count": 78,
   "metadata": {},
   "outputs": [
    {
     "data": {
      "text/plain": [
       "283856861224150.75"
      ]
     },
     "execution_count": 78,
     "metadata": {},
     "output_type": "execute_result"
    }
   ],
   "source": [
    "test_rss"
   ]
  },
  {
   "cell_type": "code",
   "execution_count": null,
   "metadata": {
    "collapsed": true
   },
   "outputs": [],
   "source": []
  }
 ],
 "metadata": {
  "kernelspec": {
   "display_name": "Python 3",
   "language": "python",
   "name": "python3"
  },
  "language_info": {
   "codemirror_mode": {
    "name": "ipython",
    "version": 3
   },
   "file_extension": ".py",
   "mimetype": "text/x-python",
   "name": "python",
   "nbconvert_exporter": "python",
   "pygments_lexer": "ipython3",
   "version": "3.6.10"
  }
 },
 "nbformat": 4,
 "nbformat_minor": 2
}
