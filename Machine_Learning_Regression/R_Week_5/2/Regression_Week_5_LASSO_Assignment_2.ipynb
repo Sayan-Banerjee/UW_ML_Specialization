{
 "cells": [
  {
   "cell_type": "code",
   "execution_count": 51,
   "metadata": {
    "collapsed": true
   },
   "outputs": [],
   "source": [
    "import pandas as pd\n",
    "import numpy as np\n",
    "import matplotlib.pyplot as plt\n",
    "%matplotlib inline\n",
    "import math"
   ]
  },
  {
   "cell_type": "code",
   "execution_count": 52,
   "metadata": {},
   "outputs": [],
   "source": [
    "def data_prep(df, features, output):\n",
    "    x = df[features].as_matrix()\n",
    "    b = np.ones(shape=(len(x),1), dtype=np.float32)\n",
    "    x = np.concatenate((b,x), axis=1)\n",
    "    y = np.array(df[output])\n",
    "    return x,y\n"
   ]
  },
  {
   "cell_type": "code",
   "execution_count": 53,
   "metadata": {
    "collapsed": true
   },
   "outputs": [],
   "source": [
    "dtype_dict = {'bathrooms':float, 'waterfront':int, 'sqft_above':int, 'sqft_living15':float,\n",
    "              'grade':int, 'yr_renovated':int, 'price':float, 'bedrooms':float, 'zipcode':str,\n",
    "              'long':float, 'sqft_lot15':float, 'sqft_living':float, 'floors':float, 'condition':int, \n",
    "              'lat':float, 'date':str, 'sqft_basement':int, \n",
    "              'yr_built':int, 'id':str, 'sqft_lot':int, 'view':int}"
   ]
  },
  {
   "cell_type": "code",
   "execution_count": 54,
   "metadata": {},
   "outputs": [
    {
     "data": {
      "text/plain": [
       "(21613, 21)"
      ]
     },
     "execution_count": 54,
     "metadata": {},
     "output_type": "execute_result"
    }
   ],
   "source": [
    "sales = pd.read_csv('kc_house_data.csv', dtype=dtype_dict)\n",
    "train_data = pd.read_csv('kc_house_train_data.csv', dtype=dtype_dict)\n",
    "test_data = pd.read_csv('kc_house_test_data.csv', dtype=dtype_dict)\n",
    "sales.shape"
   ]
  },
  {
   "cell_type": "code",
   "execution_count": 55,
   "metadata": {},
   "outputs": [],
   "source": [
    "def predict_output(feature_matrix, weights):\n",
    "    predictions = np.dot(feature_matrix, weights)\n",
    "    return predictions"
   ]
  },
  {
   "cell_type": "code",
   "execution_count": 56,
   "metadata": {
    "collapsed": true
   },
   "outputs": [],
   "source": [
    "def normalize_features(features):\n",
    "    norms = np.linalg.norm(features, axis=0)\n",
    "    normalized_features = features / norms\n",
    "    return (normalized_features, norms)\n"
   ]
  },
  {
   "cell_type": "code",
   "execution_count": 57,
   "metadata": {},
   "outputs": [],
   "source": [
    "class lasso_CD:\n",
    "    def __init__(self, train_x, train_y, test_x, test_y, l1, tol, norms, init_w = None):\n",
    "        self.train_x = train_x\n",
    "        self.train_y = train_y\n",
    "        self.test_x = test_x\n",
    "        self.test_y = test_y\n",
    "        self.l1 = l1\n",
    "        self.tol = tol\n",
    "        self.norms = norms\n",
    "        self.w = init_w if init_w is not None else np.zeros(shape=(train_x.shape[1]))\n",
    "        \n",
    "    def predict_output(self, feature_matrix):\n",
    "        predictions = np.dot(feature_matrix, self.w)\n",
    "        return predictions\n",
    "    \n",
    "    def ro_calc(self, i):\n",
    "        predictions = self.predict_output(feature_matrix = self.train_x)\n",
    "        y_hat_not_i = predictions - self.w[i]*self.train_x[:,i] \n",
    "        ro = np.sum(self.train_x[:,i]*(self.train_y - y_hat_not_i))\n",
    "        return ro\n",
    "    \n",
    "    def lasso_CD_step(self, i, l1_penalty):\n",
    "        ro = self.ro_calc(i)\n",
    "        if i == 0: # intercept -- do not regularize\n",
    "            new_weight_i = ro\n",
    "        elif ro < -(l1_penalty/2):\n",
    "            new_weight_i = ro + (l1_penalty/2)\n",
    "        elif ro > (l1_penalty/2):\n",
    "            new_weight_i = ro - (l1_penalty/2)\n",
    "        else:\n",
    "            new_weight_i = 0.0\n",
    "        return new_weight_i\n",
    "    \n",
    "    def fit(self):\n",
    "        train_RSS=[]\n",
    "        T =True\n",
    "        while T:\n",
    "            maxchange = 0.0\n",
    "            for i in range(len(self.w)):\n",
    "                predictions = self.predict_output(feature_matrix=self.train_x)\n",
    "                RSS = self.train_rss(predictions=predictions)\n",
    "                train_RSS.append(RSS)\n",
    "                new_w_i = self.lasso_CD_step(i, self.l1)\n",
    "                diff = np.abs(self.w[i] - new_w_i)\n",
    "                self.w[i] = new_w_i\n",
    "                if maxchange < diff:\n",
    "                    maxchange = diff\n",
    "                    print (\"value of i {}, Max Change {}, tolerance: {}\".format(i, maxchange, self.tol))\n",
    "            print (\"one iteration complete, maxchange = {}\".format(maxchange))\n",
    "            if maxchange < self.tol:\n",
    "                print (\"Setting T = False\")\n",
    "                T=False\n",
    "        plt.plot(train_RSS)\n",
    "        predictions = self.predict_output(feature_matrix=self.train_x)\n",
    "        RSS = self.train_rss(predictions=predictions)\n",
    "        return self.w, RSS\n",
    "    \n",
    "    def train_rss(self, predictions):\n",
    "        return np.sum((predictions - self.train_y)**2)\n",
    "    def w_normalized(self):\n",
    "        weights_normalized = self.w / self.norms\n",
    "        return weights_normalized\n",
    "    def test_RSS(self):\n",
    "        normalized_w = self.w_normalized()\n",
    "        test_pred = np.dot(self.test_x, normalized_w)\n",
    "        test_rss = np.sum((self.test_y - test_pred)**2)\n",
    "        return test_rss\n",
    "        "
   ]
  },
  {
   "cell_type": "code",
   "execution_count": 58,
   "metadata": {
    "collapsed": true
   },
   "outputs": [],
   "source": [
    "features=['sqft_living', 'bedrooms']\n",
    "output = 'price'\n",
    "\n",
    "train_x, train_y = data_prep(df=sales, features=features, output=output)\n",
    "test_x, test_y = data_prep(df=test_data, features=features, output=output)\n",
    "normalized_train_x, norms = normalize_features(train_x)"
   ]
  },
  {
   "cell_type": "code",
   "execution_count": 59,
   "metadata": {},
   "outputs": [],
   "source": [
    "init_w = np.array([1,4,1], dtype=np.float32)\n"
   ]
  },
  {
   "cell_type": "code",
   "execution_count": 60,
   "metadata": {},
   "outputs": [
    {
     "data": {
      "text/plain": [
       "array([  1.47013605e+02,   3.34257264e+05,   5.14075870e+02])"
      ]
     },
     "execution_count": 60,
     "metadata": {},
     "output_type": "execute_result"
    }
   ],
   "source": [
    "norms"
   ]
  },
  {
   "cell_type": "code",
   "execution_count": 61,
   "metadata": {},
   "outputs": [],
   "source": [
    "model = lasso_CD(train_x = normalized_train_x, train_y = train_y, test_x = test_x, test_y = test_y, l1 = 1.0 , tol=0, norms=norms, init_w = init_w)"
   ]
  },
  {
   "cell_type": "code",
   "execution_count": 62,
   "metadata": {},
   "outputs": [],
   "source": [
    "test_ro =[0.0, 0.0, 0.0]\n",
    "for i in range (len(init_w)):\n",
    "    test_ro[i]=model.ro_calc(i=i)\n"
   ]
  },
  {
   "cell_type": "code",
   "execution_count": 63,
   "metadata": {},
   "outputs": [
    {
     "data": {
      "text/plain": [
       "array([[ 0.00680209,  0.00353021,  0.00583571],\n",
       "       [ 0.00680209,  0.00768869,  0.00583571],\n",
       "       [ 0.00680209,  0.00230361,  0.00389048],\n",
       "       ..., \n",
       "       [ 0.00680209,  0.00305154,  0.00389048],\n",
       "       [ 0.00680209,  0.00478673,  0.00583571],\n",
       "       [ 0.00680209,  0.00305154,  0.00389048]])"
      ]
     },
     "execution_count": 63,
     "metadata": {},
     "output_type": "execute_result"
    }
   ],
   "source": [
    "normalized_train_x"
   ]
  },
  {
   "cell_type": "code",
   "execution_count": 64,
   "metadata": {},
   "outputs": [
    {
     "data": {
      "text/plain": [
       "[79400300.014522895, 87939470.823251754, 80966698.66623947]"
      ]
     },
     "execution_count": 64,
     "metadata": {},
     "output_type": "execute_result"
    }
   ],
   "source": [
    "test_ro"
   ]
  },
  {
   "cell_type": "code",
   "execution_count": 65,
   "metadata": {},
   "outputs": [
    {
     "data": {
      "text/plain": [
       "array([  1.75878942e+08,   1.61933397e+08])"
      ]
     },
     "execution_count": 65,
     "metadata": {},
     "output_type": "execute_result"
    }
   ],
   "source": [
    "2*np.array(test_ro[1:])"
   ]
  },
  {
   "cell_type": "code",
   "execution_count": 66,
   "metadata": {},
   "outputs": [
    {
     "data": {
      "text/plain": [
       "(21613, 3)"
      ]
     },
     "execution_count": 66,
     "metadata": {},
     "output_type": "execute_result"
    }
   ],
   "source": [
    "normalized_train_x.shape"
   ]
  },
  {
   "cell_type": "code",
   "execution_count": 67,
   "metadata": {},
   "outputs": [],
   "source": [
    "simple_features = ['sqft_living', 'bedrooms']\n",
    "output = 'price'\n",
    "initial_weights = np.array([0.0, 0.0, 0.0])\n",
    "l1_penalty = 1e7\n",
    "tolerance = 1.0"
   ]
  },
  {
   "cell_type": "code",
   "execution_count": 68,
   "metadata": {
    "collapsed": true
   },
   "outputs": [],
   "source": [
    "train_x, train_y = data_prep(df=sales, features=simple_features, output=output)\n",
    "test_x, test_y = data_prep(df=test_data, features=simple_features, output=output)\n",
    "normalized_train_x, norms = normalize_features(train_x)"
   ]
  },
  {
   "cell_type": "code",
   "execution_count": 69,
   "metadata": {
    "collapsed": true
   },
   "outputs": [],
   "source": [
    "model_1 = lasso_CD(train_x = normalized_train_x, train_y = train_y,\n",
    "                         test_x = test_x, test_y = test_y,\n",
    "                         l1 = l1_penalty, tol=tolerance, norms=norms, init_w = initial_weights)"
   ]
  },
  {
   "cell_type": "code",
   "execution_count": 70,
   "metadata": {},
   "outputs": [
    {
     "name": "stdout",
     "output_type": "stream",
     "text": [
      "value of i 0, Max Change 79400304.63764462, tolerance: 1.0\n",
      "one iteration complete, maxchange = 79400304.63764462\n",
      "value of i 0, Max Change 9138168.376427785, tolerance: 1.0\n",
      "one iteration complete, maxchange = 9138168.376427785\n",
      "value of i 0, Max Change 8194809.5183826685, tolerance: 1.0\n",
      "one iteration complete, maxchange = 8194809.5183826685\n",
      "value of i 0, Max Change 6598905.081919849, tolerance: 1.0\n",
      "one iteration complete, maxchange = 6598905.081919849\n",
      "value of i 0, Max Change 5522173.230819881, tolerance: 1.0\n",
      "one iteration complete, maxchange = 5522173.230819881\n",
      "value of i 0, Max Change 4621129.840878405, tolerance: 1.0\n",
      "one iteration complete, maxchange = 4621129.840878405\n",
      "value of i 0, Max Change 3867108.1318262443, tolerance: 1.0\n",
      "one iteration complete, maxchange = 3867108.1318262443\n",
      "value of i 0, Max Change 3236118.8320114464, tolerance: 1.0\n",
      "one iteration complete, maxchange = 3236118.8320114464\n",
      "value of i 0, Max Change 2708086.9574633464, tolerance: 1.0\n",
      "one iteration complete, maxchange = 2708086.9574633464\n",
      "value of i 0, Max Change 2266213.1243878826, tolerance: 1.0\n",
      "one iteration complete, maxchange = 2266213.1243878826\n",
      "value of i 0, Max Change 1896439.0751907267, tolerance: 1.0\n",
      "one iteration complete, maxchange = 1896439.0751907267\n",
      "value of i 0, Max Change 1587000.4136886671, tolerance: 1.0\n",
      "one iteration complete, maxchange = 1587000.4136886671\n",
      "value of i 0, Max Change 1328052.3197375722, tolerance: 1.0\n",
      "one iteration complete, maxchange = 1328052.3197375722\n",
      "value of i 0, Max Change 1111356.335352745, tolerance: 1.0\n",
      "one iteration complete, maxchange = 1111356.335352745\n",
      "value of i 0, Max Change 930018.2573927231, tolerance: 1.0\n",
      "one iteration complete, maxchange = 930018.2573927231\n",
      "value of i 0, Max Change 778268.7978372499, tolerance: 1.0\n",
      "one iteration complete, maxchange = 778268.7978372499\n",
      "value of i 0, Max Change 651280.0333459117, tolerance: 1.0\n",
      "one iteration complete, maxchange = 651280.0333459117\n",
      "value of i 0, Max Change 545011.8044225425, tolerance: 1.0\n",
      "one iteration complete, maxchange = 545011.8044225425\n",
      "value of i 0, Max Change 456083.177360598, tolerance: 1.0\n",
      "one iteration complete, maxchange = 456083.177360598\n",
      "value of i 0, Max Change 381664.87951897085, tolerance: 1.0\n",
      "one iteration complete, maxchange = 381664.87951897085\n",
      "value of i 0, Max Change 319389.2857465595, tolerance: 1.0\n",
      "one iteration complete, maxchange = 319389.2857465595\n",
      "value of i 0, Max Change 267275.09216532484, tolerance: 1.0\n",
      "one iteration complete, maxchange = 267275.09216532484\n",
      "value of i 0, Max Change 223664.28080079705, tolerance: 1.0\n",
      "one iteration complete, maxchange = 223664.28080079705\n",
      "value of i 0, Max Change 187169.36958418041, tolerance: 1.0\n",
      "one iteration complete, maxchange = 187169.36958418041\n",
      "value of i 0, Max Change 156629.26947971433, tolerance: 1.0\n",
      "one iteration complete, maxchange = 156629.26947971433\n",
      "value of i 0, Max Change 131072.34432778135, tolerance: 1.0\n",
      "one iteration complete, maxchange = 131072.34432778135\n",
      "value of i 0, Max Change 109685.49814890698, tolerance: 1.0\n",
      "one iteration complete, maxchange = 109685.49814890698\n",
      "value of i 0, Max Change 91788.30641867593, tolerance: 1.0\n",
      "one iteration complete, maxchange = 91788.30641867593\n",
      "value of i 0, Max Change 76811.3682974875, tolerance: 1.0\n",
      "one iteration complete, maxchange = 76811.3682974875\n",
      "value of i 0, Max Change 64278.19108918682, tolerance: 1.0\n",
      "one iteration complete, maxchange = 64278.19108918682\n",
      "value of i 0, Max Change 53790.030581101775, tolerance: 1.0\n",
      "one iteration complete, maxchange = 53790.030581101775\n",
      "value of i 0, Max Change 45013.204959370196, tolerance: 1.0\n",
      "one iteration complete, maxchange = 45013.204959370196\n",
      "value of i 0, Max Change 37668.478690665215, tolerance: 1.0\n",
      "one iteration complete, maxchange = 37668.478690665215\n",
      "value of i 0, Max Change 31522.178617361933, tolerance: 1.0\n",
      "one iteration complete, maxchange = 31522.178617361933\n",
      "value of i 0, Max Change 26378.759624067694, tolerance: 1.0\n",
      "one iteration complete, maxchange = 26378.759624067694\n",
      "value of i 0, Max Change 22074.583351306617, tolerance: 1.0\n",
      "one iteration complete, maxchange = 22074.583351306617\n",
      "value of i 0, Max Change 18472.712025832385, tolerance: 1.0\n",
      "one iteration complete, maxchange = 18472.712025832385\n",
      "value of i 0, Max Change 15458.551772344857, tolerance: 1.0\n",
      "one iteration complete, maxchange = 15458.551772344857\n",
      "value of i 0, Max Change 12936.206798672676, tolerance: 1.0\n",
      "one iteration complete, maxchange = 12936.206798672676\n",
      "value of i 0, Max Change 10825.428462021053, tolerance: 1.0\n",
      "one iteration complete, maxchange = 10825.428462021053\n",
      "value of i 0, Max Change 9059.062150917947, tolerance: 1.0\n",
      "one iteration complete, maxchange = 9059.062150917947\n",
      "value of i 0, Max Change 7580.910754915327, tolerance: 1.0\n",
      "one iteration complete, maxchange = 7580.910754915327\n",
      "value of i 0, Max Change 6343.946748189628, tolerance: 1.0\n",
      "one iteration complete, maxchange = 6343.946748189628\n",
      "value of i 0, Max Change 5308.816004421562, tolerance: 1.0\n",
      "one iteration complete, maxchange = 5308.816004421562\n",
      "value of i 0, Max Change 4442.585741575807, tolerance: 1.0\n",
      "one iteration complete, maxchange = 4442.585741575807\n",
      "value of i 0, Max Change 3717.696762301028, tolerance: 1.0\n",
      "one iteration complete, maxchange = 3717.696762301028\n",
      "value of i 0, Max Change 3111.086655471474, tolerance: 1.0\n",
      "one iteration complete, maxchange = 3111.086655471474\n",
      "value of i 0, Max Change 2603.456063441932, tolerance: 1.0\n",
      "one iteration complete, maxchange = 2603.456063441932\n",
      "value of i 0, Max Change 2178.65467113629, tolerance: 1.0\n",
      "one iteration complete, maxchange = 2178.65467113629\n",
      "value of i 0, Max Change 1823.1673822924495, tolerance: 1.0\n",
      "one iteration complete, maxchange = 1823.1673822924495\n",
      "value of i 0, Max Change 1525.6843353174627, tolerance: 1.0\n",
      "one iteration complete, maxchange = 1525.6843353174627\n",
      "value of i 0, Max Change 1276.741079106927, tolerance: 1.0\n",
      "one iteration complete, maxchange = 1276.741079106927\n",
      "value of i 0, Max Change 1068.4174605160952, tolerance: 1.0\n",
      "one iteration complete, maxchange = 1068.4174605160952\n",
      "value of i 0, Max Change 894.0856439769268, tolerance: 1.0\n",
      "one iteration complete, maxchange = 894.0856439769268\n",
      "value of i 0, Max Change 748.1992463842034, tolerance: 1.0\n",
      "one iteration complete, maxchange = 748.1992463842034\n",
      "value of i 0, Max Change 626.1168782301247, tolerance: 1.0\n",
      "one iteration complete, maxchange = 626.1168782301247\n",
      "value of i 0, Max Change 523.9544775113463, tolerance: 1.0\n",
      "one iteration complete, maxchange = 523.9544775113463\n",
      "value of i 0, Max Change 438.461737819016, tolerance: 1.0\n",
      "one iteration complete, maxchange = 438.461737819016\n",
      "value of i 0, Max Change 366.9186995886266, tolerance: 1.0\n",
      "one iteration complete, maxchange = 366.9186995886266\n",
      "value of i 0, Max Change 307.0492143072188, tolerance: 1.0\n",
      "one iteration complete, maxchange = 307.0492143072188\n",
      "value of i 0, Max Change 256.94852870330215, tolerance: 1.0\n",
      "one iteration complete, maxchange = 256.94852870330215\n",
      "value of i 0, Max Change 215.02268470823765, tolerance: 1.0\n",
      "one iteration complete, maxchange = 215.02268470823765\n",
      "value of i 0, Max Change 179.9378076903522, tolerance: 1.0\n",
      "one iteration complete, maxchange = 179.9378076903522\n",
      "value of i 0, Max Change 150.5776689387858, tolerance: 1.0\n",
      "one iteration complete, maxchange = 150.5776689387858\n",
      "value of i 0, Max Change 126.00817290693521, tolerance: 1.0\n",
      "one iteration complete, maxchange = 126.00817290693521\n",
      "value of i 0, Max Change 105.44763875380158, tolerance: 1.0\n",
      "one iteration complete, maxchange = 105.44763875380158\n",
      "value of i 0, Max Change 88.24193117395043, tolerance: 1.0\n",
      "one iteration complete, maxchange = 88.24193117395043\n",
      "value of i 0, Max Change 73.84364892169833, tolerance: 1.0\n",
      "one iteration complete, maxchange = 73.84364892169833\n",
      "value of i 0, Max Change 61.79470930993557, tolerance: 1.0\n",
      "one iteration complete, maxchange = 61.79470930993557\n",
      "value of i 0, Max Change 51.711774203926325, tolerance: 1.0\n",
      "one iteration complete, maxchange = 51.711774203926325\n",
      "value of i 0, Max Change 43.27405405044556, tolerance: 1.0\n",
      "one iteration complete, maxchange = 43.27405405044556\n",
      "value of i 0, Max Change 36.213102005422115, tolerance: 1.0\n",
      "one iteration complete, maxchange = 36.213102005422115\n",
      "value of i 0, Max Change 30.30427322536707, tolerance: 1.0\n",
      "one iteration complete, maxchange = 30.30427322536707\n",
      "value of i 0, Max Change 25.35957772284746, tolerance: 1.0\n",
      "one iteration complete, maxchange = 25.35957772284746\n",
      "value of i 0, Max Change 21.221699591726065, tolerance: 1.0\n",
      "one iteration complete, maxchange = 21.221699591726065\n",
      "value of i 0, Max Change 17.758991818875074, tolerance: 1.0\n",
      "one iteration complete, maxchange = 17.758991818875074\n",
      "value of i 0, Max Change 14.86128805577755, tolerance: 1.0\n",
      "one iteration complete, maxchange = 14.86128805577755\n",
      "value of i 0, Max Change 12.436397563666105, tolerance: 1.0\n",
      "one iteration complete, maxchange = 12.436397563666105\n",
      "value of i 0, Max Change 10.407172229140997, tolerance: 1.0\n",
      "one iteration complete, maxchange = 10.407172229140997\n",
      "value of i 0, Max Change 8.709052059799433, tolerance: 1.0\n",
      "one iteration complete, maxchange = 8.709052059799433\n",
      "value of i 0, Max Change 7.2880112044513226, tolerance: 1.0\n",
      "one iteration complete, maxchange = 7.2880112044513226\n",
      "value of i 0, Max Change 6.098839100450277, tolerance: 1.0\n",
      "one iteration complete, maxchange = 6.098839100450277\n",
      "value of i 0, Max Change 5.103702146559954, tolerance: 1.0\n",
      "one iteration complete, maxchange = 5.103702146559954\n",
      "value of i 0, Max Change 4.270939949899912, tolerance: 1.0\n",
      "one iteration complete, maxchange = 4.270939949899912\n",
      "value of i 0, Max Change 3.574058126658201, tolerance: 1.0\n",
      "one iteration complete, maxchange = 3.574058126658201\n",
      "value of i 0, Max Change 2.9908852763473988, tolerance: 1.0\n",
      "one iteration complete, maxchange = 2.9908852763473988\n",
      "value of i 0, Max Change 2.502867739647627, tolerance: 1.0\n",
      "one iteration complete, maxchange = 2.502867739647627\n",
      "value of i 0, Max Change 2.0944791696965694, tolerance: 1.0\n",
      "one iteration complete, maxchange = 2.0944791696965694\n",
      "value of i 0, Max Change 1.752726636826992, tolerance: 1.0\n",
      "one iteration complete, maxchange = 1.752726636826992\n",
      "value of i 0, Max Change 1.466737288981676, tolerance: 1.0\n",
      "one iteration complete, maxchange = 1.466737288981676\n",
      "value of i 0, Max Change 1.2274123169481754, tolerance: 1.0\n",
      "one iteration complete, maxchange = 1.2274123169481754\n",
      "value of i 0, Max Change 1.0271375812590122, tolerance: 1.0\n",
      "one iteration complete, maxchange = 1.0271375812590122\n",
      "value of i 0, Max Change 0.8595413491129875, tolerance: 1.0\n",
      "one iteration complete, maxchange = 0.8595413491129875\n",
      "Setting T = False\n"
     ]
    },
    {
     "data": {
      "image/png": "[encoded data removed]",
      "text/plain": [
       "<matplotlib.figure.Figure at 0x1e7a3844780>"
      ]
     },
     "metadata": {},
     "output_type": "display_data"
    }
   ],
   "source": [
    "w, rss = model_1.fit()"
   ]
  },
  {
   "cell_type": "code",
   "execution_count": 71,
   "metadata": {},
   "outputs": [
    {
     "data": {
      "text/plain": [
       "array([ 21624997.9595191 ,  63157247.20788956,         0.        ])"
      ]
     },
     "execution_count": 71,
     "metadata": {},
     "output_type": "execute_result"
    }
   ],
   "source": [
    "w"
   ]
  },
  {
   "cell_type": "code",
   "execution_count": 72,
   "metadata": {},
   "outputs": [
    {
     "data": {
      "text/plain": [
       "1630492476715386.5"
      ]
     },
     "execution_count": 72,
     "metadata": {},
     "output_type": "execute_result"
    }
   ],
   "source": [
    "rss"
   ]
  },
  {
   "cell_type": "code",
   "execution_count": 73,
   "metadata": {},
   "outputs": [
    {
     "data": {
      "text/plain": [
       "intercecpt     2.162500e+07\n",
       "sqft_living    6.315725e+07\n",
       "bedrooms       0.000000e+00\n",
       "dtype: float64"
      ]
     },
     "execution_count": 73,
     "metadata": {},
     "output_type": "execute_result"
    }
   ],
   "source": [
    "pd.Series(data=w, index=[\"intercecpt\"] + simple_features)"
   ]
  },
  {
   "cell_type": "code",
   "execution_count": 74,
   "metadata": {
    "collapsed": true
   },
   "outputs": [],
   "source": [
    "train_features = ['bedrooms','bathrooms','sqft_living','sqft_lot','floors','waterfront','view','condition','grade','sqft_above','sqft_basement','yr_built','yr_renovated']\n"
   ]
  },
  {
   "cell_type": "code",
   "execution_count": 75,
   "metadata": {},
   "outputs": [
    {
     "data": {
      "text/plain": [
       "['bedrooms',\n",
       " 'bathrooms',\n",
       " 'sqft_living',\n",
       " 'sqft_lot',\n",
       " 'floors',\n",
       " 'waterfront',\n",
       " 'view',\n",
       " 'condition',\n",
       " 'grade',\n",
       " 'sqft_above',\n",
       " 'sqft_basement',\n",
       " 'yr_built',\n",
       " 'yr_renovated']"
      ]
     },
     "execution_count": 75,
     "metadata": {},
     "output_type": "execute_result"
    }
   ],
   "source": [
    "train_features"
   ]
  },
  {
   "cell_type": "code",
   "execution_count": 82,
   "metadata": {},
   "outputs": [],
   "source": [
    "train_x, train_y = data_prep(df=train_data, features=train_features, output=output)\n",
    "test_x, test_y = data_prep(df=test_data, features=train_features, output=output)\n",
    "normalized_train_x, norms = normalize_features(train_x)\n"
   ]
  },
  {
   "cell_type": "code",
   "execution_count": 83,
   "metadata": {
    "collapsed": true
   },
   "outputs": [],
   "source": [
    "l1_penalty = 1e7\n",
    "initialize_weights = np.zeros(14)\n",
    "tolerance = 1"
   ]
  },
  {
   "cell_type": "code",
   "execution_count": 84,
   "metadata": {},
   "outputs": [],
   "source": [
    "model_1e7 = lasso_CD(train_x = normalized_train_x, train_y = train_y,\n",
    "                         test_x = test_x, test_y = test_y,\n",
    "                         l1 = l1_penalty, tol=tolerance, norms=norms, init_w = initialize_weights)"
   ]
  },
  {
   "cell_type": "code",
   "execution_count": 85,
   "metadata": {},
   "outputs": [
    {
     "name": "stdout",
     "output_type": "stream",
     "text": [
      "value of i 0, Max Change 71114625.71488702, tolerance: 1\n",
      "one iteration complete, maxchange = 71114625.71488702\n",
      "value of i 0, Max Change 5024356.370547488, tolerance: 1\n",
      "one iteration complete, maxchange = 5024356.370547488\n",
      "value of i 0, Max Change 5012324.915982254, tolerance: 1\n",
      "one iteration complete, maxchange = 5012324.915982254\n",
      "value of i 0, Max Change 5000676.422620915, tolerance: 1\n",
      "one iteration complete, maxchange = 5000676.422620915\n",
      "value of i 0, Max Change 4991243.174673185, tolerance: 1\n",
      "one iteration complete, maxchange = 4991243.174673185\n",
      "value of i 0, Max Change 4984361.344819717, tolerance: 1\n",
      "one iteration complete, maxchange = 4984361.344819717\n",
      "value of i 0, Max Change 4979504.930990152, tolerance: 1\n",
      "one iteration complete, maxchange = 4979504.930990152\n",
      "value of i 0, Max Change 4973806.566812009, tolerance: 1\n",
      "one iteration complete, maxchange = 4973806.566812009\n",
      "value of i 0, Max Change 2629220.747802753, tolerance: 1\n",
      "value of i 3, Max Change 2879223.0189885423, tolerance: 1\n",
      "one iteration complete, maxchange = 2879223.0189885423\n",
      "value of i 0, Max Change 1678495.2902125008, tolerance: 1\n",
      "value of i 3, Max Change 2706150.7752847224, tolerance: 1\n",
      "one iteration complete, maxchange = 2706150.7752847224\n",
      "value of i 0, Max Change 1431139.488071479, tolerance: 1\n",
      "value of i 3, Max Change 2532295.6582945287, tolerance: 1\n",
      "one iteration complete, maxchange = 2532295.6582945287\n",
      "value of i 0, Max Change 1130424.0343218893, tolerance: 1\n",
      "value of i 2, Max Change 1337213.8242212273, tolerance: 1\n",
      "value of i 3, Max Change 2368316.5870666727, tolerance: 1\n",
      "one iteration complete, maxchange = 2368316.5870666727\n",
      "value of i 0, Max Change 876486.7770448141, tolerance: 1\n",
      "value of i 2, Max Change 1421557.257715649, tolerance: 1\n",
      "value of i 3, Max Change 2213124.359407358, tolerance: 1\n",
      "one iteration complete, maxchange = 2213124.359407358\n",
      "value of i 0, Max Change 658897.07456626, tolerance: 1\n",
      "value of i 2, Max Change 947126.3260247232, tolerance: 1\n",
      "value of i 3, Max Change 1552443.8812216595, tolerance: 1\n",
      "one iteration complete, maxchange = 1552443.8812216595\n",
      "value of i 0, Max Change 507838.022650525, tolerance: 1\n",
      "one iteration complete, maxchange = 507838.022650525\n",
      "value of i 0, Max Change 438814.3642916903, tolerance: 1\n",
      "one iteration complete, maxchange = 438814.3642916903\n",
      "value of i 0, Max Change 371479.6176584698, tolerance: 1\n",
      "one iteration complete, maxchange = 371479.6176584698\n",
      "value of i 0, Max Change 313415.1014701277, tolerance: 1\n",
      "one iteration complete, maxchange = 313415.1014701277\n",
      "value of i 0, Max Change 264244.82868563384, tolerance: 1\n",
      "one iteration complete, maxchange = 264244.82868563384\n",
      "value of i 0, Max Change 222753.8578912504, tolerance: 1\n",
      "one iteration complete, maxchange = 222753.8578912504\n",
      "value of i 0, Max Change 187770.66485534608, tolerance: 1\n",
      "one iteration complete, maxchange = 187770.66485534608\n",
      "value of i 0, Max Change 158280.09129114076, tolerance: 1\n",
      "one iteration complete, maxchange = 158280.09129114076\n",
      "value of i 0, Max Change 133420.89986459538, tolerance: 1\n",
      "one iteration complete, maxchange = 133420.89986459538\n",
      "value of i 0, Max Change 112465.98682810739, tolerance: 1\n",
      "one iteration complete, maxchange = 112465.98682810739\n",
      "value of i 0, Max Change 94802.21221446991, tolerance: 1\n",
      "one iteration complete, maxchange = 94802.21221446991\n",
      "value of i 0, Max Change 79912.68640745431, tolerance: 1\n",
      "one iteration complete, maxchange = 79912.68640745431\n",
      "value of i 0, Max Change 67361.69174029306, tolerance: 1\n",
      "one iteration complete, maxchange = 67361.69174029306\n",
      "value of i 0, Max Change 56781.94175085798, tolerance: 1\n",
      "one iteration complete, maxchange = 56781.94175085798\n",
      "value of i 0, Max Change 47863.83512727171, tolerance: 1\n",
      "one iteration complete, maxchange = 47863.83512727171\n",
      "value of i 0, Max Change 40346.396092858166, tolerance: 1\n",
      "one iteration complete, maxchange = 40346.396092858166\n",
      "value of i 0, Max Change 34009.637407921255, tolerance: 1\n",
      "one iteration complete, maxchange = 34009.637407921255\n",
      "value of i 0, Max Change 28668.1227722764, tolerance: 1\n",
      "one iteration complete, maxchange = 28668.1227722764\n",
      "value of i 0, Max Change 24165.540297519416, tolerance: 1\n",
      "one iteration complete, maxchange = 24165.540297519416\n",
      "value of i 0, Max Change 20370.12826090306, tolerance: 1\n",
      "one iteration complete, maxchange = 20370.12826090306\n",
      "value of i 0, Max Change 17170.819284692407, tolerance: 1\n",
      "one iteration complete, maxchange = 17170.819284692407\n",
      "value of i 0, Max Change 14473.99010605365, tolerance: 1\n",
      "one iteration complete, maxchange = 14473.99010605365\n",
      "value of i 0, Max Change 12200.72182444483, tolerance: 1\n",
      "one iteration complete, maxchange = 12200.72182444483\n",
      "value of i 0, Max Change 10284.490451265126, tolerance: 1\n",
      "one iteration complete, maxchange = 10284.490451265126\n",
      "value of i 0, Max Change 8669.220179270953, tolerance: 1\n",
      "one iteration complete, maxchange = 8669.220179270953\n",
      "value of i 0, Max Change 7307.642403170466, tolerance: 1\n",
      "one iteration complete, maxchange = 7307.642403170466\n",
      "value of i 0, Max Change 6159.9124705940485, tolerance: 1\n",
      "one iteration complete, maxchange = 6159.9124705940485\n",
      "value of i 0, Max Change 5192.443684574217, tolerance: 1\n",
      "one iteration complete, maxchange = 5192.443684574217\n",
      "value of i 0, Max Change 4376.924436204135, tolerance: 1\n",
      "one iteration complete, maxchange = 4376.924436204135\n",
      "value of i 0, Max Change 3689.4897054173052, tolerance: 1\n",
      "one iteration complete, maxchange = 3689.4897054173052\n",
      "value of i 0, Max Change 3110.0226848311722, tolerance: 1\n",
      "one iteration complete, maxchange = 3110.0226848311722\n",
      "value of i 0, Max Change 2621.566089745611, tolerance: 1\n",
      "one iteration complete, maxchange = 2621.566089745611\n",
      "value of i 0, Max Change 2209.8259271346033, tolerance: 1\n",
      "one iteration complete, maxchange = 2209.8259271346033\n",
      "value of i 0, Max Change 1862.7532021179795, tolerance: 1\n",
      "one iteration complete, maxchange = 1862.7532021179795\n",
      "value of i 0, Max Change 1570.1913211233914, tolerance: 1\n",
      "one iteration complete, maxchange = 1570.1913211233914\n",
      "value of i 0, Max Change 1323.5788735374808, tolerance: 1\n",
      "one iteration complete, maxchange = 1323.5788735374808\n",
      "value of i 0, Max Change 1115.6990940645337, tolerance: 1\n",
      "one iteration complete, maxchange = 1115.6990940645337\n",
      "value of i 0, Max Change 940.4686742685735, tolerance: 1\n",
      "one iteration complete, maxchange = 940.4686742685735\n",
      "value of i 0, Max Change 792.7597431764007, tolerance: 1\n",
      "one iteration complete, maxchange = 792.7597431764007\n",
      "value of i 0, Max Change 668.249807368964, tolerance: 1\n",
      "one iteration complete, maxchange = 668.249807368964\n",
      "value of i 0, Max Change 563.2952592298388, tolerance: 1\n",
      "one iteration complete, maxchange = 563.2952592298388\n",
      "value of i 0, Max Change 474.82475201785564, tolerance: 1\n",
      "one iteration complete, maxchange = 474.82475201785564\n",
      "value of i 0, Max Change 400.249321192503, tolerance: 1\n",
      "one iteration complete, maxchange = 400.249321192503\n",
      "value of i 0, Max Change 337.38662195950747, tolerance: 1\n",
      "one iteration complete, maxchange = 337.38662195950747\n",
      "value of i 0, Max Change 284.3970661684871, tolerance: 1\n",
      "one iteration complete, maxchange = 284.3970661684871\n",
      "value of i 0, Max Change 239.72998920828104, tolerance: 1\n",
      "one iteration complete, maxchange = 239.72998920828104\n",
      "value of i 0, Max Change 202.07827212661505, tolerance: 1\n",
      "one iteration complete, maxchange = 202.07827212661505\n",
      "value of i 0, Max Change 170.34009052813053, tolerance: 1\n",
      "one iteration complete, maxchange = 170.34009052813053\n",
      "value of i 0, Max Change 143.58667131885886, tolerance: 1\n",
      "one iteration complete, maxchange = 143.58667131885886\n",
      "value of i 0, Max Change 121.03511344641447, tolerance: 1\n",
      "one iteration complete, maxchange = 121.03511344641447\n",
      "value of i 0, Max Change 102.0254773683846, tolerance: 1\n",
      "one iteration complete, maxchange = 102.0254773683846\n",
      "value of i 0, Max Change 86.0014729462564, tolerance: 1\n",
      "one iteration complete, maxchange = 86.0014729462564\n",
      "value of i 0, Max Change 72.49418026581407, tolerance: 1\n",
      "one iteration complete, maxchange = 72.49418026581407\n",
      "value of i 0, Max Change 61.108327478170395, tolerance: 1\n",
      "one iteration complete, maxchange = 61.108327478170395\n",
      "value of i 0, Max Change 51.510723665356636, tolerance: 1\n",
      "one iteration complete, maxchange = 51.510723665356636\n",
      "value of i 0, Max Change 43.4205084964633, tolerance: 1\n",
      "one iteration complete, maxchange = 43.4205084964633\n",
      "value of i 0, Max Change 36.600933242589235, tolerance: 1\n",
      "one iteration complete, maxchange = 36.600933242589235\n",
      "value of i 0, Max Change 30.852432664483786, tolerance: 1\n",
      "one iteration complete, maxchange = 30.852432664483786\n",
      "value of i 0, Max Change 26.006784982979298, tolerance: 1\n",
      "one iteration complete, maxchange = 26.006784982979298\n",
      "value of i 0, Max Change 21.92218916490674, tolerance: 1\n",
      "one iteration complete, maxchange = 21.92218916490674\n",
      "value of i 0, Max Change 18.479115281254053, tolerance: 1\n",
      "one iteration complete, maxchange = 18.479115281254053\n",
      "value of i 0, Max Change 15.576806638389826, tolerance: 1\n",
      "one iteration complete, maxchange = 15.576806638389826\n",
      "value of i 0, Max Change 13.130331251770258, tolerance: 1\n",
      "one iteration complete, maxchange = 13.130331251770258\n",
      "value of i 0, Max Change 11.068096496164799, tolerance: 1\n",
      "one iteration complete, maxchange = 11.068096496164799\n",
      "value of i 0, Max Change 9.329753953963518, tolerance: 1\n",
      "one iteration complete, maxchange = 9.329753953963518\n",
      "value of i 0, Max Change 7.864433493465185, tolerance: 1\n",
      "one iteration complete, maxchange = 7.864433493465185\n",
      "value of i 0, Max Change 6.629254601895809, tolerance: 1\n",
      "one iteration complete, maxchange = 6.629254601895809\n",
      "value of i 0, Max Change 5.58807148039341, tolerance: 1\n",
      "one iteration complete, maxchange = 5.58807148039341\n",
      "value of i 0, Max Change 4.710415381938219, tolerance: 1\n",
      "one iteration complete, maxchange = 4.710415381938219\n",
      "value of i 0, Max Change 3.9706029407680035, tolerance: 1\n",
      "one iteration complete, maxchange = 3.9706029407680035\n",
      "value of i 0, Max Change 3.346984602510929, tolerance: 1\n",
      "one iteration complete, maxchange = 3.346984602510929\n",
      "value of i 0, Max Change 2.8213110379874706, tolerance: 1\n",
      "one iteration complete, maxchange = 2.8213110379874706\n",
      "value of i 0, Max Change 2.37819916382432, tolerance: 1\n",
      "one iteration complete, maxchange = 2.37819916382432\n",
      "value of i 0, Max Change 2.004681933671236, tolerance: 1\n",
      "one iteration complete, maxchange = 2.004681933671236\n",
      "value of i 0, Max Change 1.689828883856535, tolerance: 1\n",
      "one iteration complete, maxchange = 1.689828883856535\n",
      "value of i 0, Max Change 1.4244262911379337, tolerance: 1\n",
      "one iteration complete, maxchange = 1.4244262911379337\n",
      "value of i 0, Max Change 1.2007075436413288, tolerance: 1\n",
      "one iteration complete, maxchange = 1.2007075436413288\n",
      "value of i 0, Max Change 1.0121257938444614, tolerance: 1\n",
      "one iteration complete, maxchange = 1.0121257938444614\n",
      "value of i 0, Max Change 0.8531624749302864, tolerance: 1\n",
      "one iteration complete, maxchange = 0.8531624749302864\n",
      "Setting T = False\n"
     ]
    },
    {
     "data": {
      "image/png": "[encoded data removed]",
      "text/plain": [
       "<matplotlib.figure.Figure at 0x1e7a5425588>"
      ]
     },
     "metadata": {},
     "output_type": "display_data"
    }
   ],
   "source": [
    "model_1e7_w, mode_1e7_rss = model_1e7.fit()"
   ]
  },
  {
   "cell_type": "code",
   "execution_count": 86,
   "metadata": {},
   "outputs": [
    {
     "data": {
      "text/plain": [
       "intercecpt       2.442960e+07\n",
       "bedrooms         0.000000e+00\n",
       "bathrooms        0.000000e+00\n",
       "sqft_living      4.838917e+07\n",
       "sqft_lot         0.000000e+00\n",
       "floors           0.000000e+00\n",
       "waterfront       3.317511e+06\n",
       "view             7.329962e+06\n",
       "condition        0.000000e+00\n",
       "grade            0.000000e+00\n",
       "sqft_above       0.000000e+00\n",
       "sqft_basement    0.000000e+00\n",
       "yr_built         0.000000e+00\n",
       "yr_renovated     0.000000e+00\n",
       "dtype: float64"
      ]
     },
     "execution_count": 86,
     "metadata": {},
     "output_type": "execute_result"
    }
   ],
   "source": [
    "pd.Series(data=model_1e7_w, index=[\"intercecpt\"] + train_features)"
   ]
  },
  {
   "cell_type": "code",
   "execution_count": 87,
   "metadata": {},
   "outputs": [],
   "source": [
    "model_1e7_test_RSS=model_1e7.test_RSS()"
   ]
  },
  {
   "cell_type": "code",
   "execution_count": 88,
   "metadata": {},
   "outputs": [
    {
     "data": {
      "text/plain": [
       "275962075920366.75"
      ]
     },
     "execution_count": 88,
     "metadata": {},
     "output_type": "execute_result"
    }
   ],
   "source": [
    "model_1e7_test_RSS"
   ]
  },
  {
   "cell_type": "code",
   "execution_count": 89,
   "metadata": {
    "collapsed": true
   },
   "outputs": [],
   "source": [
    "l1_penalty = 1e8\n",
    "initialize_weights = np.zeros(14)\n",
    "tolerance = 1.0"
   ]
  },
  {
   "cell_type": "code",
   "execution_count": 90,
   "metadata": {
    "collapsed": true
   },
   "outputs": [],
   "source": [
    "model_1e8 = lasso_CD(train_x = normalized_train_x, train_y = train_y,\n",
    "                         test_x = test_x, test_y = test_y,\n",
    "                         l1 = l1_penalty, tol=tolerance, norms=norms, init_w = initialize_weights)"
   ]
  },
  {
   "cell_type": "code",
   "execution_count": 91,
   "metadata": {},
   "outputs": [
    {
     "name": "stdout",
     "output_type": "stream",
     "text": [
      "value of i 0, Max Change 71114625.71488702, tolerance: 1.0\n",
      "one iteration complete, maxchange = 71114625.71488702\n",
      "one iteration complete, maxchange = 0.0\n",
      "Setting T = False\n"
     ]
    },
    {
     "data": {
      "image/png": "[encoded data removed]",
      "text/plain": [
       "<matplotlib.figure.Figure at 0x1e7a3699940>"
      ]
     },
     "metadata": {},
     "output_type": "display_data"
    }
   ],
   "source": [
    "model_1e8_w, mode_1e8_rss = model_1e8.fit()"
   ]
  },
  {
   "cell_type": "code",
   "execution_count": 92,
   "metadata": {},
   "outputs": [
    {
     "data": {
      "text/plain": [
       "intercecpt       7.111463e+07\n",
       "bedrooms         0.000000e+00\n",
       "bathrooms        0.000000e+00\n",
       "sqft_living      0.000000e+00\n",
       "sqft_lot         0.000000e+00\n",
       "floors           0.000000e+00\n",
       "waterfront       0.000000e+00\n",
       "view             0.000000e+00\n",
       "condition        0.000000e+00\n",
       "grade            0.000000e+00\n",
       "sqft_above       0.000000e+00\n",
       "sqft_basement    0.000000e+00\n",
       "yr_built         0.000000e+00\n",
       "yr_renovated     0.000000e+00\n",
       "dtype: float64"
      ]
     },
     "execution_count": 92,
     "metadata": {},
     "output_type": "execute_result"
    }
   ],
   "source": [
    "pd.Series(data=model_1e8_w, index=[\"intercecpt\"] + train_features)"
   ]
  },
  {
   "cell_type": "code",
   "execution_count": 93,
   "metadata": {
    "collapsed": true
   },
   "outputs": [],
   "source": [
    "model_1e8_test_RSS=model_1e8.test_RSS()"
   ]
  },
  {
   "cell_type": "code",
   "execution_count": 94,
   "metadata": {},
   "outputs": [
    {
     "data": {
      "text/plain": [
       "537166151497322.75"
      ]
     },
     "execution_count": 94,
     "metadata": {},
     "output_type": "execute_result"
    }
   ],
   "source": [
    "model_1e8_test_RSS"
   ]
  },
  {
   "cell_type": "code",
   "execution_count": 95,
   "metadata": {
    "collapsed": true
   },
   "outputs": [],
   "source": [
    "l1_penalty = 1e4\n",
    "tolerance = 5e5\n",
    "initialize_weights = np.zeros(14)\n"
   ]
  },
  {
   "cell_type": "code",
   "execution_count": 96,
   "metadata": {
    "collapsed": true
   },
   "outputs": [],
   "source": [
    "model_1e4 = lasso_CD(train_x = normalized_train_x, train_y = train_y,\n",
    "                         test_x = test_x, test_y = test_y,\n",
    "                         l1 = l1_penalty, tol=tolerance, norms=norms, init_w = initialize_weights)"
   ]
  },
  {
   "cell_type": "code",
   "execution_count": 97,
   "metadata": {},
   "outputs": [
    {
     "name": "stdout",
     "output_type": "stream",
     "text": [
      "value of i 0, Max Change 71114625.71488702, tolerance: 500000.0\n",
      "one iteration complete, maxchange = 71114625.71488702\n",
      "value of i 0, Max Change 659274.8667703122, tolerance: 500000.0\n",
      "value of i 1, Max Change 2475949.6731294086, tolerance: 500000.0\n",
      "value of i 2, Max Change 3528456.786442129, tolerance: 500000.0\n",
      "value of i 3, Max Change 3584857.428301966, tolerance: 500000.0\n",
      "value of i 5, Max Change 4863287.9628752805, tolerance: 500000.0\n",
      "value of i 6, Max Change 4927972.809879439, tolerance: 500000.0\n",
      "value of i 10, Max Change 5280259.745523491, tolerance: 500000.0\n",
      "value of i 12, Max Change 8441276.04584171, tolerance: 500000.0\n",
      "one iteration complete, maxchange = 8441276.04584171\n",
      "value of i 0, Max Change 51571.55777233839, tolerance: 500000.0\n",
      "value of i 1, Max Change 1616553.850591478, tolerance: 500000.0\n",
      "value of i 2, Max Change 3094348.4299384113, tolerance: 500000.0\n",
      "value of i 5, Max Change 3514876.5809149425, tolerance: 500000.0\n",
      "value of i 10, Max Change 4166512.5146880373, tolerance: 500000.0\n",
      "value of i 12, Max Change 6789873.036987826, tolerance: 500000.0\n",
      "one iteration complete, maxchange = 6789873.036987826\n",
      "value of i 0, Max Change 17981.094659924507, tolerance: 500000.0\n",
      "value of i 1, Max Change 981487.9707605811, tolerance: 500000.0\n",
      "value of i 2, Max Change 2702510.0404952466, tolerance: 500000.0\n",
      "value of i 10, Max Change 3232333.019662222, tolerance: 500000.0\n",
      "value of i 12, Max Change 5538914.174013894, tolerance: 500000.0\n",
      "one iteration complete, maxchange = 5538914.174013894\n",
      "value of i 0, Max Change 44124.72309367359, tolerance: 500000.0\n",
      "value of i 1, Max Change 481900.9482641928, tolerance: 500000.0\n",
      "value of i 2, Max Change 2347193.1621900685, tolerance: 500000.0\n",
      "value of i 10, Max Change 2463160.7620248497, tolerance: 500000.0\n",
      "value of i 12, Max Change 4527797.915307943, tolerance: 500000.0\n",
      "one iteration complete, maxchange = 4527797.915307943\n",
      "value of i 0, Max Change 58460.94756086171, tolerance: 500000.0\n",
      "value of i 1, Max Change 85779.18290361576, tolerance: 500000.0\n",
      "value of i 2, Max Change 2030177.060718909, tolerance: 500000.0\n",
      "value of i 3, Max Change 2036650.7611489445, tolerance: 500000.0\n",
      "value of i 12, Max Change 3700363.6698418558, tolerance: 500000.0\n",
      "one iteration complete, maxchange = 3700363.6698418558\n",
      "value of i 0, Max Change 68981.2832031548, tolerance: 500000.0\n",
      "value of i 1, Max Change 226441.53240188956, tolerance: 500000.0\n",
      "value of i 2, Max Change 1748686.1414067224, tolerance: 500000.0\n",
      "value of i 3, Max Change 1835383.1982070096, tolerance: 500000.0\n",
      "value of i 12, Max Change 3022494.0968421027, tolerance: 500000.0\n",
      "one iteration complete, maxchange = 3022494.0968421027\n",
      "value of i 0, Max Change 77558.56609031558, tolerance: 500000.0\n",
      "value of i 1, Max Change 469911.5023111366, tolerance: 500000.0\n",
      "value of i 2, Max Change 1499125.6314691193, tolerance: 500000.0\n",
      "value of i 3, Max Change 1678154.8420573138, tolerance: 500000.0\n",
      "value of i 12, Max Change 2468071.048075743, tolerance: 500000.0\n",
      "one iteration complete, maxchange = 2468071.048075743\n",
      "value of i 0, Max Change 84700.17475603521, tolerance: 500000.0\n",
      "value of i 1, Max Change 657056.2569363657, tolerance: 500000.0\n",
      "value of i 2, Max Change 1278050.1314101145, tolerance: 500000.0\n",
      "value of i 3, Max Change 1556087.7864897475, tolerance: 500000.0\n",
      "value of i 12, Max Change 2015787.3244003206, tolerance: 500000.0\n",
      "one iteration complete, maxchange = 2015787.3244003206\n",
      "value of i 0, Max Change 90643.99881464243, tolerance: 500000.0\n",
      "value of i 1, Max Change 798173.8086950108, tolerance: 500000.0\n",
      "value of i 2, Max Change 1082329.871941086, tolerance: 500000.0\n",
      "value of i 3, Max Change 1461923.8395714015, tolerance: 500000.0\n",
      "value of i 12, Max Change 1647983.5096687376, tolerance: 500000.0\n",
      "one iteration complete, maxchange = 1647983.5096687376\n",
      "value of i 0, Max Change 95563.96782499552, tolerance: 500000.0\n",
      "value of i 1, Max Change 901806.8157299934, tolerance: 500000.0\n",
      "value of i 2, Max Change 909156.0636450239, tolerance: 500000.0\n",
      "value of i 3, Max Change 1389754.6195684895, tolerance: 500000.0\n",
      "one iteration complete, maxchange = 1389754.6195684895\n",
      "value of i 0, Max Change 99606.03457796574, tolerance: 500000.0\n",
      "value of i 1, Max Change 975034.4716635179, tolerance: 500000.0\n",
      "value of i 3, Max Change 1334787.1827470176, tolerance: 500000.0\n",
      "one iteration complete, maxchange = 1334787.1827470176\n",
      "value of i 0, Max Change 102895.83072146773, tolerance: 500000.0\n",
      "value of i 1, Max Change 1023714.1127736578, tolerance: 500000.0\n",
      "value of i 3, Max Change 1293147.7315869778, tolerance: 500000.0\n",
      "one iteration complete, maxchange = 1293147.7315869778\n",
      "value of i 0, Max Change 105541.83231185377, tolerance: 500000.0\n",
      "value of i 1, Max Change 1052683.3977017556, tolerance: 500000.0\n",
      "value of i 3, Max Change 1261718.3821019046, tolerance: 500000.0\n",
      "one iteration complete, maxchange = 1261718.3821019046\n",
      "value of i 0, Max Change 107637.67447222769, tolerance: 500000.0\n",
      "value of i 1, Max Change 1065929.8323560837, tolerance: 500000.0\n",
      "value of i 3, Max Change 1238001.623368051, tolerance: 500000.0\n",
      "one iteration complete, maxchange = 1238001.623368051\n",
      "value of i 0, Max Change 109264.13043047488, tolerance: 500000.0\n",
      "value of i 1, Max Change 1066732.9115378272, tolerance: 500000.0\n",
      "value of i 3, Max Change 1220007.8777148016, tolerance: 500000.0\n",
      "one iteration complete, maxchange = 1220007.8777148016\n",
      "value of i 0, Max Change 110490.836446926, tolerance: 500000.0\n",
      "value of i 1, Max Change 1057783.2304154963, tolerance: 500000.0\n",
      "value of i 3, Max Change 1206162.336050678, tolerance: 500000.0\n",
      "one iteration complete, maxchange = 1206162.336050678\n",
      "value of i 0, Max Change 111377.79335778952, tolerance: 500000.0\n",
      "value of i 1, Max Change 1031282.2172953231, tolerance: 500000.0\n",
      "value of i 3, Max Change 1194973.111592278, tolerance: 500000.0\n",
      "one iteration complete, maxchange = 1194973.111592278\n",
      "value of i 0, Max Change 111944.21604500711, tolerance: 500000.0\n",
      "value of i 1, Max Change 1009246.8455396603, tolerance: 500000.0\n",
      "value of i 3, Max Change 1185736.4909517094, tolerance: 500000.0\n",
      "one iteration complete, maxchange = 1185736.4909517094\n",
      "value of i 0, Max Change 112285.92609493434, tolerance: 500000.0\n",
      "value of i 1, Max Change 982937.4427840693, tolerance: 500000.0\n",
      "value of i 3, Max Change 1177721.6874101087, tolerance: 500000.0\n",
      "one iteration complete, maxchange = 1177721.6874101087\n",
      "value of i 0, Max Change 112425.00378291309, tolerance: 500000.0\n",
      "value of i 1, Max Change 953530.5344654634, tolerance: 500000.0\n",
      "value of i 3, Max Change 1170366.2522742972, tolerance: 500000.0\n",
      "one iteration complete, maxchange = 1170366.2522742972\n",
      "value of i 0, Max Change 112393.3009942472, tolerance: 500000.0\n",
      "value of i 1, Max Change 921973.7706326377, tolerance: 500000.0\n",
      "value of i 3, Max Change 1163250.4602269158, tolerance: 500000.0\n",
      "one iteration complete, maxchange = 1163250.4602269158\n",
      "value of i 0, Max Change 112218.74684906006, tolerance: 500000.0\n",
      "value of i 1, Max Change 889026.737453714, tolerance: 500000.0\n",
      "value of i 3, Max Change 1156068.165101014, tolerance: 500000.0\n",
      "one iteration complete, maxchange = 1156068.165101014\n",
      "value of i 0, Max Change 111925.37752568722, tolerance: 500000.0\n",
      "value of i 1, Max Change 855294.6084492058, tolerance: 500000.0\n",
      "value of i 3, Max Change 1148603.0148909315, tolerance: 500000.0\n",
      "one iteration complete, maxchange = 1148603.0148909315\n",
      "value of i 0, Max Change 111533.8236553818, tolerance: 500000.0\n",
      "value of i 1, Max Change 821255.9991817372, tolerance: 500000.0\n",
      "value of i 3, Max Change 1140709.1614911929, tolerance: 500000.0\n",
      "one iteration complete, maxchange = 1140709.1614911929\n",
      "value of i 0, Max Change 111061.76788416505, tolerance: 500000.0\n",
      "value of i 1, Max Change 787286.0441133874, tolerance: 500000.0\n",
      "value of i 3, Max Change 1132295.6327274293, tolerance: 500000.0\n",
      "one iteration complete, maxchange = 1132295.6327274293\n",
      "value of i 0, Max Change 110524.34767480195, tolerance: 500000.0\n",
      "value of i 1, Max Change 753675.5028804839, tolerance: 500000.0\n",
      "value of i 3, Max Change 1123313.7033552155, tolerance: 500000.0\n",
      "one iteration complete, maxchange = 1123313.7033552155\n",
      "value of i 0, Max Change 109934.50592707098, tolerance: 500000.0\n",
      "value of i 1, Max Change 720646.5588813499, tolerance: 500000.0\n",
      "value of i 3, Max Change 1113746.7263227329, tolerance: 500000.0\n",
      "one iteration complete, maxchange = 1113746.7263227329\n",
      "value of i 0, Max Change 109303.29479278624, tolerance: 500000.0\n",
      "value of i 1, Max Change 688365.8618611638, tolerance: 500000.0\n",
      "value of i 3, Max Change 1103601.981528595, tolerance: 500000.0\n",
      "one iteration complete, maxchange = 1103601.981528595\n",
      "value of i 0, Max Change 108640.13833741844, tolerance: 500000.0\n",
      "value of i 1, Max Change 656955.2756770942, tolerance: 500000.0\n",
      "value of i 3, Max Change 1092904.1763561592, tolerance: 500000.0\n",
      "one iteration complete, maxchange = 1092904.1763561592\n",
      "value of i 0, Max Change 107953.05935361981, tolerance: 500000.0\n",
      "value of i 1, Max Change 626500.7172242142, tolerance: 500000.0\n",
      "value of i 3, Max Change 1081690.2954953313, tolerance: 500000.0\n",
      "one iteration complete, maxchange = 1081690.2954953313\n",
      "value of i 0, Max Change 107248.87508408725, tolerance: 500000.0\n",
      "value of i 1, Max Change 597059.4095309321, tolerance: 500000.0\n",
      "value of i 3, Max Change 1070005.549944505, tolerance: 500000.0\n",
      "one iteration complete, maxchange = 1070005.549944505\n",
      "value of i 0, Max Change 106533.36603677273, tolerance: 500000.0\n",
      "value of i 1, Max Change 568665.8191690985, tolerance: 500000.0\n",
      "value of i 3, Max Change 1057900.2186370343, tolerance: 500000.0\n",
      "one iteration complete, maxchange = 1057900.2186370343\n",
      "value of i 0, Max Change 105811.42153823376, tolerance: 500000.0\n",
      "value of i 1, Max Change 541336.5037150998, tolerance: 500000.0\n",
      "value of i 3, Max Change 1045427.2123783976, tolerance: 500000.0\n",
      "one iteration complete, maxchange = 1045427.2123783976\n",
      "value of i 0, Max Change 105087.16519069672, tolerance: 500000.0\n",
      "value of i 1, Max Change 515074.0577032361, tolerance: 500000.0\n",
      "value of i 3, Max Change 1032640.2199268118, tolerance: 500000.0\n",
      "one iteration complete, maxchange = 1032640.2199268118\n",
      "value of i 0, Max Change 104364.06297522783, tolerance: 500000.0\n",
      "value of i 1, Max Change 489870.31420851126, tolerance: 500000.0\n",
      "value of i 3, Max Change 1019592.32110589, tolerance: 500000.0\n",
      "one iteration complete, maxchange = 1019592.32110589\n",
      "value of i 0, Max Change 103645.01637597382, tolerance: 500000.0\n",
      "value of i 1, Max Change 465708.9329389427, tolerance: 500000.0\n",
      "value of i 3, Max Change 1006334.9726334736, tolerance: 500000.0\n",
      "one iteration complete, maxchange = 1006334.9726334736\n",
      "value of i 0, Max Change 102932.44257958233, tolerance: 500000.0\n",
      "value of i 1, Max Change 442567.48371491954, tolerance: 500000.0\n",
      "value of i 3, Max Change 992917.2895905003, tolerance: 500000.0\n",
      "one iteration complete, maxchange = 992917.2895905003\n",
      "value of i 0, Max Change 102228.34352612495, tolerance: 500000.0\n",
      "value of i 1, Max Change 420419.1157880612, tolerance: 500000.0\n",
      "value of i 3, Max Change 979385.5597192943, tolerance: 500000.0\n",
      "one iteration complete, maxchange = 979385.5597192943\n",
      "value of i 0, Max Change 101534.36534690857, tolerance: 500000.0\n",
      "value of i 1, Max Change 399233.8880423028, tolerance: 500000.0\n",
      "value of i 3, Max Change 965782.9395283833, tolerance: 500000.0\n",
      "one iteration complete, maxchange = 965782.9395283833\n",
      "value of i 0, Max Change 100851.84951530397, tolerance: 500000.0\n",
      "value of i 1, Max Change 378979.82223993726, tolerance: 500000.0\n",
      "value of i 3, Max Change 952149.290902108, tolerance: 500000.0\n",
      "one iteration complete, maxchange = 952149.290902108\n",
      "value of i 0, Max Change 100181.87685663998, tolerance: 500000.0\n",
      "value of i 1, Max Change 359623.7307260204, tolerance: 500000.0\n",
      "value of i 3, Max Change 938521.1249147728, tolerance: 500000.0\n",
      "one iteration complete, maxchange = 938521.1249147728\n",
      "value of i 0, Max Change 99525.30540522933, tolerance: 500000.0\n",
      "value of i 1, Max Change 341131.86103870533, tolerance: 500000.0\n",
      "value of i 3, Max Change 924931.6261203289, tolerance: 500000.0\n",
      "one iteration complete, maxchange = 924931.6261203289\n",
      "value of i 0, Max Change 98882.80296258628, tolerance: 500000.0\n",
      "value of i 1, Max Change 323470.39240844175, tolerance: 500000.0\n",
      "value of i 3, Max Change 911410.735974282, tolerance: 500000.0\n",
      "one iteration complete, maxchange = 911410.735974282\n",
      "value of i 0, Max Change 98254.87509281933, tolerance: 500000.0\n",
      "value of i 1, Max Change 306605.8129171133, tolerance: 500000.0\n",
      "value of i 3, Max Change 897985.2784453109, tolerance: 500000.0\n",
      "one iteration complete, maxchange = 897985.2784453109\n",
      "value of i 0, Max Change 97641.88918974996, tolerance: 500000.0\n",
      "value of i 1, Max Change 290505.2009298168, tolerance: 500000.0\n",
      "value of i 2, Max Change 295692.39524585754, tolerance: 500000.0\n",
      "value of i 3, Max Change 884679.1144608781, tolerance: 500000.0\n",
      "one iteration complete, maxchange = 884679.1144608781\n",
      "value of i 0, Max Change 97044.09516334534, tolerance: 500000.0\n",
      "value of i 1, Max Change 275136.43013167754, tolerance: 500000.0\n",
      "value of i 2, Max Change 292595.26230848953, tolerance: 500000.0\n",
      "value of i 3, Max Change 871513.3147461191, tolerance: 500000.0\n",
      "one iteration complete, maxchange = 871513.3147461191\n",
      "value of i 0, Max Change 96461.64321698248, tolerance: 500000.0\n",
      "value of i 1, Max Change 260468.31395722553, tolerance: 500000.0\n",
      "value of i 2, Max Change 289230.24831407145, tolerance: 500000.0\n",
      "value of i 3, Max Change 858506.3429741189, tolerance: 500000.0\n",
      "one iteration complete, maxchange = 858506.3429741189\n",
      "value of i 0, Max Change 95894.599121809, tolerance: 500000.0\n",
      "value of i 1, Max Change 246470.70226834714, tolerance: 500000.0\n",
      "value of i 2, Max Change 285631.9543979727, tolerance: 500000.0\n",
      "value of i 3, Max Change 845674.2430486828, tolerance: 500000.0\n",
      "one iteration complete, maxchange = 845674.2430486828\n",
      "value of i 0, Max Change 95448.08970823884, tolerance: 500000.0\n",
      "value of i 1, Max Change 233783.11322510615, tolerance: 500000.0\n",
      "value of i 2, Max Change 282002.89892320335, tolerance: 500000.0\n",
      "value of i 3, Max Change 832351.9007828534, tolerance: 500000.0\n",
      "one iteration complete, maxchange = 832351.9007828534\n",
      "value of i 0, Max Change 94786.5371441096, tolerance: 500000.0\n",
      "value of i 1, Max Change 221212.72585403547, tolerance: 500000.0\n",
      "value of i 2, Max Change 278080.61690172926, tolerance: 500000.0\n",
      "value of i 3, Max Change 819797.4427944571, tolerance: 500000.0\n",
      "one iteration complete, maxchange = 819797.4427944571\n",
      "value of i 0, Max Change 94277.46058630943, tolerance: 500000.0\n",
      "value of i 1, Max Change 209098.53662721068, tolerance: 500000.0\n",
      "value of i 2, Max Change 274053.5700599812, tolerance: 500000.0\n",
      "value of i 3, Max Change 807538.8428788483, tolerance: 500000.0\n",
      "one iteration complete, maxchange = 807538.8428788483\n",
      "value of i 0, Max Change 93776.95672760904, tolerance: 500000.0\n",
      "value of i 1, Max Change 197503.41154110432, tolerance: 500000.0\n",
      "value of i 2, Max Change 269905.14263667166, tolerance: 500000.0\n",
      "value of i 3, Max Change 795521.5338450819, tolerance: 500000.0\n",
      "one iteration complete, maxchange = 795521.5338450819\n",
      "value of i 0, Max Change 93287.53494253755, tolerance: 500000.0\n",
      "value of i 1, Max Change 186426.29653272405, tolerance: 500000.0\n",
      "value of i 2, Max Change 265641.6245342158, tolerance: 500000.0\n",
      "value of i 3, Max Change 783737.3613397032, tolerance: 500000.0\n",
      "one iteration complete, maxchange = 783737.3613397032\n",
      "value of i 0, Max Change 92812.12686441839, tolerance: 500000.0\n",
      "value of i 1, Max Change 175851.88009130582, tolerance: 500000.0\n",
      "value of i 2, Max Change 261279.10420208052, tolerance: 500000.0\n",
      "value of i 3, Max Change 772186.0953673869, tolerance: 500000.0\n",
      "one iteration complete, maxchange = 772186.0953673869\n",
      "value of i 0, Max Change 92350.89969326556, tolerance: 500000.0\n",
      "value of i 1, Max Change 165761.6520637609, tolerance: 500000.0\n",
      "value of i 2, Max Change 256835.37812155858, tolerance: 500000.0\n",
      "value of i 3, Max Change 760869.2758604437, tolerance: 500000.0\n",
      "one iteration complete, maxchange = 760869.2758604437\n",
      "value of i 0, Max Change 91903.54093377292, tolerance: 500000.0\n",
      "value of i 1, Max Change 156136.5772092305, tolerance: 500000.0\n",
      "value of i 2, Max Change 252327.5240240991, tolerance: 500000.0\n",
      "value of i 3, Max Change 749788.5653693676, tolerance: 500000.0\n",
      "one iteration complete, maxchange = 749788.5653693676\n",
      "value of i 0, Max Change 91469.74640519917, tolerance: 500000.0\n",
      "value of i 1, Max Change 146957.84806655347, tolerance: 500000.0\n",
      "value of i 2, Max Change 247771.2907393314, tolerance: 500000.0\n",
      "value of i 3, Max Change 738945.1949420273, tolerance: 500000.0\n",
      "one iteration complete, maxchange = 738945.1949420273\n",
      "value of i 0, Max Change 91046.14923503995, tolerance: 500000.0\n",
      "value of i 1, Max Change 138414.36166310683, tolerance: 500000.0\n",
      "value of i 2, Max Change 243552.0760436915, tolerance: 500000.0\n",
      "value of i 3, Max Change 728135.7015931606, tolerance: 500000.0\n",
      "one iteration complete, maxchange = 728135.7015931606\n",
      "value of i 0, Max Change 90714.3104429096, tolerance: 500000.0\n",
      "value of i 1, Max Change 130448.46899093688, tolerance: 500000.0\n",
      "value of i 2, Max Change 239283.4627047032, tolerance: 500000.0\n",
      "value of i 3, Max Change 717338.9206298441, tolerance: 500000.0\n",
      "one iteration complete, maxchange = 717338.9206298441\n",
      "value of i 0, Max Change 90321.23585569859, tolerance: 500000.0\n",
      "value of i 1, Max Change 122839.71813842654, tolerance: 500000.0\n",
      "value of i 2, Max Change 234917.62161301821, tolerance: 500000.0\n",
      "value of i 3, Max Change 706809.1500368863, tolerance: 500000.0\n",
      "one iteration complete, maxchange = 706809.1500368863\n",
      "value of i 0, Max Change 89942.68925689161, tolerance: 500000.0\n",
      "value of i 1, Max Change 115537.60867055133, tolerance: 500000.0\n",
      "value of i 2, Max Change 230500.63485294953, tolerance: 500000.0\n",
      "value of i 3, Max Change 696567.8514422774, tolerance: 500000.0\n",
      "one iteration complete, maxchange = 696567.8514422774\n",
      "value of i 0, Max Change 89622.20388886333, tolerance: 500000.0\n",
      "value of i 1, Max Change 108662.32378763705, tolerance: 500000.0\n",
      "value of i 2, Max Change 226340.3882792145, tolerance: 500000.0\n",
      "value of i 3, Max Change 686510.7024328858, tolerance: 500000.0\n",
      "one iteration complete, maxchange = 686510.7024328858\n",
      "value of i 0, Max Change 89277.35320803523, tolerance: 500000.0\n",
      "value of i 1, Max Change 102034.87326330692, tolerance: 500000.0\n",
      "value of i 2, Max Change 222119.3789594397, tolerance: 500000.0\n",
      "value of i 3, Max Change 676751.2454372793, tolerance: 500000.0\n",
      "one iteration complete, maxchange = 676751.2454372793\n",
      "value of i 0, Max Change 88943.31296227872, tolerance: 500000.0\n",
      "value of i 1, Max Change 95656.36135367304, tolerance: 500000.0\n",
      "value of i 2, Max Change 217863.5696682036, tolerance: 500000.0\n",
      "value of i 3, Max Change 667273.1957602352, tolerance: 500000.0\n",
      "one iteration complete, maxchange = 667273.1957602352\n",
      "value of i 0, Max Change 88618.24381284416, tolerance: 500000.0\n",
      "value of i 1, Max Change 89528.29374500737, tolerance: 500000.0\n",
      "value of i 2, Max Change 213589.12389012426, tolerance: 500000.0\n",
      "value of i 3, Max Change 658063.6315543503, tolerance: 500000.0\n",
      "one iteration complete, maxchange = 658063.6315543503\n",
      "value of i 0, Max Change 88302.11447893083, tolerance: 500000.0\n",
      "value of i 2, Max Change 209309.2521406319, tolerance: 500000.0\n",
      "value of i 3, Max Change 649110.8629981875, tolerance: 500000.0\n",
      "one iteration complete, maxchange = 649110.8629981875\n",
      "value of i 0, Max Change 87995.01134802401, tolerance: 500000.0\n",
      "value of i 2, Max Change 205035.38499419205, tolerance: 500000.0\n",
      "value of i 3, Max Change 640404.4136062115, tolerance: 500000.0\n",
      "one iteration complete, maxchange = 640404.4136062115\n",
      "value of i 0, Max Change 87696.93467885256, tolerance: 500000.0\n",
      "value of i 2, Max Change 200777.56936297938, tolerance: 500000.0\n",
      "value of i 3, Max Change 631934.9296975434, tolerance: 500000.0\n",
      "one iteration complete, maxchange = 631934.9296975434\n",
      "value of i 0, Max Change 87407.8230650574, tolerance: 500000.0\n",
      "value of i 2, Max Change 196544.67198801972, tolerance: 500000.0\n",
      "value of i 3, Max Change 623694.0216418058, tolerance: 500000.0\n",
      "one iteration complete, maxchange = 623694.0216418058\n",
      "value of i 0, Max Change 87127.57636778057, tolerance: 500000.0\n",
      "value of i 2, Max Change 192344.5168070309, tolerance: 500000.0\n",
      "value of i 3, Max Change 615674.0976586491, tolerance: 500000.0\n",
      "one iteration complete, maxchange = 615674.0976586491\n",
      "value of i 0, Max Change 86856.06771633029, tolerance: 500000.0\n",
      "value of i 2, Max Change 188183.9936029613, tolerance: 500000.0\n",
      "value of i 3, Max Change 607868.2152448446, tolerance: 500000.0\n",
      "one iteration complete, maxchange = 607868.2152448446\n",
      "value of i 0, Max Change 86593.15024590492, tolerance: 500000.0\n",
      "value of i 2, Max Change 184069.15086499602, tolerance: 500000.0\n",
      "value of i 3, Max Change 600269.9563183337, tolerance: 500000.0\n",
      "one iteration complete, maxchange = 600269.9563183337\n",
      "value of i 0, Max Change 86338.66155542433, tolerance: 500000.0\n",
      "value of i 2, Max Change 180005.2778621614, tolerance: 500000.0\n",
      "value of i 3, Max Change 592873.3251838982, tolerance: 500000.0\n",
      "one iteration complete, maxchange = 592873.3251838982\n",
      "value of i 0, Max Change 86092.42706505954, tolerance: 500000.0\n",
      "value of i 2, Max Change 175996.97817282565, tolerance: 500000.0\n",
      "value of i 3, Max Change 585672.6663876623, tolerance: 500000.0\n",
      "one iteration complete, maxchange = 585672.6663876623\n",
      "value of i 0, Max Change 85854.26273304224, tolerance: 500000.0\n",
      "value of i 2, Max Change 172048.2359105032, tolerance: 500000.0\n",
      "value of i 3, Max Change 578662.5992468894, tolerance: 500000.0\n",
      "one iteration complete, maxchange = 578662.5992468894\n",
      "value of i 0, Max Change 85623.97732698917, tolerance: 500000.0\n",
      "value of i 2, Max Change 168162.47549761645, tolerance: 500000.0\n",
      "value of i 3, Max Change 571837.9661185592, tolerance: 500000.0\n",
      "one iteration complete, maxchange = 571837.9661185592\n",
      "value of i 0, Max Change 85401.37434838712, tolerance: 500000.0\n",
      "value of i 2, Max Change 164342.6156653054, tolerance: 500000.0\n",
      "value of i 3, Max Change 565193.7918794453, tolerance: 500000.0\n",
      "one iteration complete, maxchange = 565193.7918794453\n",
      "value of i 0, Max Change 85186.25366975367, tolerance: 500000.0\n",
      "value of i 2, Max Change 160591.1182627678, tolerance: 500000.0\n",
      "value of i 3, Max Change 558725.2524971217, tolerance: 500000.0\n",
      "one iteration complete, maxchange = 558725.2524971217\n",
      "value of i 0, Max Change 84978.41292826831, tolerance: 500000.0\n",
      "value of i 2, Max Change 156910.0323938653, tolerance: 500000.0\n",
      "value of i 3, Max Change 552427.6509312391, tolerance: 500000.0\n",
      "one iteration complete, maxchange = 552427.6509312391\n",
      "value of i 0, Max Change 84777.64870986342, tolerance: 500000.0\n",
      "value of i 2, Max Change 153301.03434644826, tolerance: 500000.0\n",
      "value of i 3, Max Change 546296.3989130259, tolerance: 500000.0\n",
      "one iteration complete, maxchange = 546296.3989130259\n",
      "value of i 0, Max Change 84583.7575533092, tolerance: 500000.0\n",
      "value of i 2, Max Change 149765.46373359673, tolerance: 500000.0\n",
      "value of i 3, Max Change 540327.0034096539, tolerance: 500000.0\n",
      "one iteration complete, maxchange = 540327.0034096539\n",
      "value of i 0, Max Change 84396.53679832816, tolerance: 500000.0\n",
      "value of i 2, Max Change 146304.35622475855, tolerance: 500000.0\n",
      "value of i 3, Max Change 534515.0567959249, tolerance: 500000.0\n",
      "one iteration complete, maxchange = 534515.0567959249\n",
      "value of i 0, Max Change 84215.78529942036, tolerance: 500000.0\n",
      "value of i 2, Max Change 142918.47320730984, tolerance: 500000.0\n",
      "value of i 3, Max Change 528856.2299360484, tolerance: 500000.0\n",
      "one iteration complete, maxchange = 528856.2299360484\n",
      "value of i 0, Max Change 84041.30402331054, tolerance: 500000.0\n",
      "value of i 2, Max Change 139608.3286847826, tolerance: 500000.0\n",
      "value of i 3, Max Change 523346.26752607524, tolerance: 500000.0\n",
      "one iteration complete, maxchange = 523346.26752607524\n",
      "value of i 0, Max Change 83872.89654670656, tolerance: 500000.0\n",
      "value of i 2, Max Change 136374.21368694492, tolerance: 500000.0\n",
      "value of i 3, Max Change 517980.98517128825, tolerance: 500000.0\n",
      "one iteration complete, maxchange = 517980.98517128825\n",
      "value of i 0, Max Change 83710.36946707964, tolerance: 500000.0\n",
      "value of i 2, Max Change 133216.2184388209, tolerance: 500000.0\n",
      "value of i 3, Max Change 512756.2677742988, tolerance: 500000.0\n",
      "one iteration complete, maxchange = 512756.2677742988\n",
      "value of i 0, Max Change 83553.53273929656, tolerance: 500000.0\n",
      "value of i 2, Max Change 130134.25251028687, tolerance: 500000.0\n",
      "value of i 3, Max Change 507668.06889271736, tolerance: 500000.0\n",
      "one iteration complete, maxchange = 507668.06889271736\n",
      "value of i 0, Max Change 83402.19994801283, tolerance: 500000.0\n",
      "value of i 2, Max Change 127128.06314484775, tolerance: 500000.0\n",
      "value of i 3, Max Change 502712.41079469025, tolerance: 500000.0\n",
      "one iteration complete, maxchange = 502712.41079469025\n",
      "value of i 0, Max Change 83256.18852467835, tolerance: 500000.0\n",
      "value of i 2, Max Change 124197.25194561668, tolerance: 500000.0\n",
      "value of i 3, Max Change 497885.3849963248, tolerance: 500000.0\n",
      "one iteration complete, maxchange = 497885.3849963248\n",
      "Setting T = False\n"
     ]
    },
    {
     "data": {
      "image/png": "[encoded data removed]",
      "text/plain": [
       "<matplotlib.figure.Figure at 0x1e7a42a09b0>"
      ]
     },
     "metadata": {},
     "output_type": "display_data"
    }
   ],
   "source": [
    "model_1e4_w, mode_1e4_rss = model_1e4.fit()"
   ]
  },
  {
   "cell_type": "code",
   "execution_count": 98,
   "metadata": {},
   "outputs": [
    {
     "data": {
      "text/plain": [
       "intercecpt       7.856474e+07\n",
       "bedrooms        -2.209740e+07\n",
       "bathrooms        1.279107e+07\n",
       "sqft_living      9.380809e+07\n",
       "sqft_lot        -2.013173e+06\n",
       "floors          -4.219185e+06\n",
       "waterfront       6.482843e+06\n",
       "view             7.127409e+06\n",
       "condition        5.001665e+06\n",
       "grade            1.432752e+07\n",
       "sqft_above      -1.577096e+07\n",
       "sqft_basement   -5.159591e+06\n",
       "yr_built        -8.449534e+07\n",
       "yr_renovated     2.824439e+06\n",
       "dtype: float64"
      ]
     },
     "execution_count": 98,
     "metadata": {},
     "output_type": "execute_result"
    }
   ],
   "source": [
    "pd.Series(data=model_1e4_w, index=[\"intercecpt\"] + train_features)"
   ]
  },
  {
   "cell_type": "code",
   "execution_count": 99,
   "metadata": {
    "collapsed": true
   },
   "outputs": [],
   "source": [
    "model_1e4_test_RSS=model_1e4.test_RSS()"
   ]
  },
  {
   "cell_type": "code",
   "execution_count": 100,
   "metadata": {},
   "outputs": [
    {
     "data": {
      "text/plain": [
       "228459958971393.28"
      ]
     },
     "execution_count": 100,
     "metadata": {},
     "output_type": "execute_result"
    }
   ],
   "source": [
    "model_1e4_test_RSS"
   ]
  },
  {
   "cell_type": "code",
   "execution_count": 101,
   "metadata": {},
   "outputs": [
    {
     "data": {
      "text/plain": [
       "array([  1.85285530e+05,   0.00000000e+00,   0.00000000e+00,\n",
       "         1.61317458e+02,   0.00000000e+00,   0.00000000e+00,\n",
       "         2.87664705e+05,   6.91937041e+04,   0.00000000e+00,\n",
       "         0.00000000e+00,   0.00000000e+00,   0.00000000e+00,\n",
       "         0.00000000e+00,   0.00000000e+00])"
      ]
     },
     "execution_count": 101,
     "metadata": {},
     "output_type": "execute_result"
    }
   ],
   "source": [
    "weights1e7_normalized = model_1e7_w / norms\n",
    "weights1e8_normalized = model_1e8_w / norms\n",
    "weights1e4_normalized = model_1e4_w / norms\n",
    "weights1e7_normalized"
   ]
  },
  {
   "cell_type": "code",
   "execution_count": 106,
   "metadata": {},
   "outputs": [
    {
     "name": "stdout",
     "output_type": "stream",
     "text": [
      "2.7596207592e+14\n"
     ]
    }
   ],
   "source": [
    "print (sum((test_y - predict_output(test_x,weights1e7_normalized) )**2))"
   ]
  },
  {
   "cell_type": "code",
   "execution_count": 107,
   "metadata": {},
   "outputs": [
    {
     "name": "stdout",
     "output_type": "stream",
     "text": [
      "5.37166151497e+14\n"
     ]
    }
   ],
   "source": [
    "print (sum((test_y - predict_output(test_x,weights1e8_normalized) )**2))"
   ]
  },
  {
   "cell_type": "code",
   "execution_count": 108,
   "metadata": {},
   "outputs": [
    {
     "name": "stdout",
     "output_type": "stream",
     "text": [
      "2.28459958971e+14\n"
     ]
    }
   ],
   "source": [
    "print (sum((test_y - predict_output(test_x,weights1e4_normalized) )**2))"
   ]
  },
  {
   "cell_type": "code",
   "execution_count": null,
   "metadata": {
    "collapsed": true
   },
   "outputs": [],
   "source": []
  }
 ],
 "metadata": {
  "kernelspec": {
   "display_name": "Python 3",
   "language": "python",
   "name": "python3"
  },
  "language_info": {
   "codemirror_mode": {
    "name": "ipython",
    "version": 3
   },
   "file_extension": ".py",
   "mimetype": "text/x-python",
   "name": "python",
   "nbconvert_exporter": "python",
   "pygments_lexer": "ipython3",
   "version": "3.6.10"
  }
 },
 "nbformat": 4,
 "nbformat_minor": 2
}
