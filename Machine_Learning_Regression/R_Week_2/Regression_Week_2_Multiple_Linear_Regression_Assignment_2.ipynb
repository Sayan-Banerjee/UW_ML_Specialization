{
 "cells": [
  {
   "cell_type": "code",
   "execution_count": 48,
   "metadata": {
    "collapsed": true
   },
   "outputs": [],
   "source": [
    "import pandas as pd\n",
    "import numpy as np\n",
    "import matplotlib.pyplot as plt"
   ]
  },
  {
   "cell_type": "code",
   "execution_count": 2,
   "metadata": {
    "collapsed": true
   },
   "outputs": [],
   "source": [
    "dtype_dict = {'bathrooms':float, 'waterfront':int, 'sqft_above':int, 'sqft_living15':float, 'grade':int,\n",
    "              'yr_renovated':int, 'price':float, 'bedrooms':float, 'zipcode':str, 'long':float, 'sqft_lot15':float,\n",
    "              'sqft_living':float, 'floors':str, 'condition':int, 'lat':float, 'date':str, 'sqft_basement':int,\n",
    "              'yr_built':int, 'id':str, 'sqft_lot':int, 'view':int}"
   ]
  },
  {
   "cell_type": "code",
   "execution_count": 3,
   "metadata": {},
   "outputs": [
    {
     "name": "stdout",
     "output_type": "stream",
     "text": [
      "Number of Training examples: 17384\n",
      "Number of Testing examples: 4229\n"
     ]
    }
   ],
   "source": [
    "train_data = pd.read_csv('kc_house_train_data.csv', dtype= dtype_dict)\n",
    "test_data = pd.read_csv('kc_house_test_data.csv', dtype= dtype_dict)\n",
    "print ('Number of Training examples: {}'.format(len(train_data)))\n",
    "print ('Number of Testing examples: {}'.format(len(test_data)))\n"
   ]
  },
  {
   "cell_type": "code",
   "execution_count": 4,
   "metadata": {
    "collapsed": true
   },
   "outputs": [],
   "source": [
    "def data_prep(df, features, output):\n",
    "    x = df[features].as_matrix()\n",
    "    b = np.ones(shape=(len(x),1), dtype=np.float32)\n",
    "    x = np.concatenate((b,x), axis=1)\n",
    "    y = np.array(df[output])\n",
    "    return x,y\n"
   ]
  },
  {
   "cell_type": "code",
   "execution_count": 49,
   "metadata": {},
   "outputs": [],
   "source": [
    "class LinearRegression_GD:\n",
    "    def __init__(self, train_x, train_y, test_x, test_y, init_weight, lr, tol):\n",
    "        self.train_x = train_x\n",
    "        self.train_y = train_y\n",
    "        self.train_N = len(train_y)\n",
    "        self.test_x = test_x\n",
    "        self.test_y = test_y\n",
    "        self.w = np.array(init_weight)\n",
    "        self.lr = lr\n",
    "        self.tol = tol\n",
    "        \n",
    "    def predict_outcome(self, feature_matrix, weights):\n",
    "        predictions = np.dot(feature_matrix, weights)\n",
    "        return predictions\n",
    "    def error_calc(self, target, predictions):\n",
    "        return (target - predictions)\n",
    "    def RSS(self, error):\n",
    "        return np.sum(error**2)\n",
    "    def fit(self):\n",
    "        Train_RSS=[]\n",
    "        if self.w == None:\n",
    "            self.w = np.zeros(shape=(self.train_x.shape[1]))\n",
    "        converged = False\n",
    "        while not converged:\n",
    "            y_hat = self.predict_outcome(self.train_x, self.w)\n",
    "            error = self.error_calc(self.train_y, y_hat)\n",
    "            grad_w = self.gradient_calc(self.train_x, error)\n",
    "            if np.sqrt(np.sum(grad_w**2)) < self.tol:\n",
    "                converged = True\n",
    "            else:\n",
    "                self.w = self.update_w(self.w, grad_w, self.lr)\n",
    "            r = self.RSS(error)\n",
    "            print(r)\n",
    "            Train_RSS.append(self.RSS(error))\n",
    "        plt.plot(Train_RSS[:])\n",
    "        plt.show()\n",
    "        return self.w, Train_RSS[-1]\n",
    "    def gradient_calc(self, features, error):\n",
    "        grad = np.dot(features.T, error)\n",
    "        return grad\n",
    "    def update_w(self, weight, grad_w, lr):\n",
    "        weight = weight + lr*grad_w\n",
    "        return weight\n",
    "    def test_RSS(self):\n",
    "        test_x = self.test_x\n",
    "        test_y = self.test_y\n",
    "        weight = self.w\n",
    "        test_predict= self.predict_outcome(feature_matrix=test_x, weights=weight)\n",
    "        test_error = self.error_calc(target= test_y, predictions= test_predict)\n",
    "        test_rss = self.RSS(error = test_error)\n",
    "        return test_rss\n",
    "    def predict(self, x):\n",
    "        return np.dot(x, self.w)\n",
    "            \n",
    "                \n",
    "    "
   ]
  },
  {
   "cell_type": "code",
   "execution_count": 50,
   "metadata": {},
   "outputs": [
    {
     "data": {
      "text/plain": [
       "14"
      ]
     },
     "execution_count": 50,
     "metadata": {},
     "output_type": "execute_result"
    }
   ],
   "source": [
    "np.sum(np.array([1, 2 ,3])**2)"
   ]
  },
  {
   "cell_type": "code",
   "execution_count": 51,
   "metadata": {
    "collapsed": true
   },
   "outputs": [],
   "source": [
    "md1_features = ['sqft_living']\n",
    "md1_output= 'price'\n",
    "md1_init_weight = [-47000, 1]\n",
    "md1_step_size = 7e-12\n",
    "md1_tolerance = 2.5e7"
   ]
  },
  {
   "cell_type": "code",
   "execution_count": 52,
   "metadata": {},
   "outputs": [],
   "source": [
    "tr_md1_x, tr_md1_y  = data_prep(df=train_data, features=md1_features, output=md1_output)\n",
    "tst_md1_x, tst_md1_y  = data_prep(df=test_data, features=md1_features, output=md1_output)\n",
    "model1 = LinearRegression_GD(train_x=tr_md1_x, train_y=tr_md1_y, test_x=tst_md1_x, test_y=tst_md1_y, init_weight=md1_init_weight, lr=md1_step_size, tol=md1_tolerance)"
   ]
  },
  {
   "cell_type": "code",
   "execution_count": 53,
   "metadata": {},
   "outputs": [
    {
     "name": "stderr",
     "output_type": "stream",
     "text": [
      "C:\\Users\\Sayan\\Anaconda3\\envs\\UdemyML\\lib\\site-packages\\ipykernel\\__main__.py:21: FutureWarning: comparison to `None` will result in an elementwise object comparison in the future.\n"
     ]
    },
    {
     "name": "stdout",
     "output_type": "stream",
     "text": [
      "8.30218845342e+15\n",
      "2.17477428517e+15\n",
      "1.33521594045e+15\n",
      "1.2201823888e+15\n",
      "1.20442086599e+15\n",
      "1.20226127344e+15\n",
      "1.20196537309e+15\n",
      "1.20192482979e+15\n",
      "1.20191927468e+15\n",
      "1.20191851354e+15\n",
      "1.20191840925e+15\n",
      "1.20191839496e+15\n",
      "1.201918393e+15\n",
      "1.20191839273e+15\n",
      "1.2019183927e+15\n"
     ]
    },
    {
     "data": {
      "image/png": "[encoded data removed]",
      "text/plain": [
       "<matplotlib.figure.Figure at 0x16939c7ef98>"
      ]
     },
     "metadata": {},
     "output_type": "display_data"
    }
   ],
   "source": [
    "md1_w, md1_tr_RSS = model1.fit()"
   ]
  },
  {
   "cell_type": "code",
   "execution_count": 54,
   "metadata": {},
   "outputs": [
    {
     "data": {
      "text/plain": [
       "356134.11685956357"
      ]
     },
     "execution_count": 54,
     "metadata": {},
     "output_type": "execute_result"
    }
   ],
   "source": [
    "model1.predict(tst_md1_x[0,:])"
   ]
  },
  {
   "cell_type": "code",
   "execution_count": 55,
   "metadata": {},
   "outputs": [
    {
     "data": {
      "text/plain": [
       "array([-46999.88714244,    281.91189091])"
      ]
     },
     "execution_count": 55,
     "metadata": {},
     "output_type": "execute_result"
    }
   ],
   "source": [
    "md1_w"
   ]
  },
  {
   "cell_type": "code",
   "execution_count": 56,
   "metadata": {
    "collapsed": true
   },
   "outputs": [],
   "source": [
    "md2_features = ['sqft_living', 'sqft_living15']\n",
    "md2_output = 'price'\n",
    "md2_init_weight = [-100000, 1, 1]\n",
    "md2_step_size = 4e-12\n",
    "md2_tolerance = 1e9\n"
   ]
  },
  {
   "cell_type": "code",
   "execution_count": 57,
   "metadata": {},
   "outputs": [],
   "source": [
    "tr_md2_x, tr_md2_y  = data_prep(df=train_data, features=md2_features, output=md2_output)\n",
    "tst_md2_x, tst_md2_y  = data_prep(df=test_data, features=md2_features, output=md2_output)\n",
    "model2 = LinearRegression_GD(train_x=tr_md2_x, train_y=tr_md2_y, test_x=tst_md2_x, test_y=tst_md2_y, init_weight=md2_init_weight, lr=md2_step_size, tol=md2_tolerance)"
   ]
  },
  {
   "cell_type": "code",
   "execution_count": 58,
   "metadata": {},
   "outputs": [
    {
     "data": {
      "text/plain": [
       "Index(['id', 'date', 'price', 'bedrooms', 'bathrooms', 'sqft_living',\n",
       "       'sqft_lot', 'floors', 'waterfront', 'view', 'condition', 'grade',\n",
       "       'sqft_above', 'sqft_basement', 'yr_built', 'yr_renovated', 'zipcode',\n",
       "       'lat', 'long', 'sqft_living15', 'sqft_lot15'],\n",
       "      dtype='object')"
      ]
     },
     "execution_count": 58,
     "metadata": {},
     "output_type": "execute_result"
    }
   ],
   "source": [
    "train_data.columns"
   ]
  },
  {
   "cell_type": "code",
   "execution_count": 59,
   "metadata": {},
   "outputs": [
    {
     "name": "stderr",
     "output_type": "stream",
     "text": [
      "C:\\Users\\Sayan\\Anaconda3\\envs\\UdemyML\\lib\\site-packages\\ipykernel\\__main__.py:21: FutureWarning: comparison to `None` will result in an elementwise object comparison in the future.\n"
     ]
    },
    {
     "name": "stdout",
     "output_type": "stream",
     "text": [
      "9.37862834398e+15\n",
      "2.1970812477e+15\n",
      "1.3418526519e+15\n",
      "1.23928742845e+15\n",
      "1.22628604788e+15\n",
      "1.2239589477e+15\n",
      "1.22292017353e+15\n",
      "1.22205264208e+15\n",
      "1.22122302986e+15\n",
      "1.22041506149e+15\n",
      "1.2196263966e+15\n",
      "1.21885636222e+15\n",
      "1.21810449303e+15\n",
      "1.21737035752e+15\n",
      "1.21665353705e+15\n",
      "1.2159536232e+15\n",
      "1.21527021722e+15\n",
      "1.21460292975e+15\n",
      "1.21395138063e+15\n",
      "1.21331519866e+15\n",
      "1.2126940214e+15\n",
      "1.21208749495e+15\n",
      "1.21149527377e+15\n",
      "1.21091702047e+15\n",
      "1.21035240559e+15\n",
      "1.20980110747e+15\n",
      "1.20926281202e+15\n",
      "1.20873721258e+15\n",
      "1.20822400969e+15\n",
      "1.20772291099e+15\n",
      "1.20723363098e+15\n",
      "1.20675589091e+15\n",
      "1.20628941861e+15\n",
      "1.20583394832e+15\n",
      "1.20538922055e+15\n",
      "1.20495498194e+15\n",
      "1.20453098509e+15\n",
      "1.20411698845e+15\n",
      "1.20371275615e+15\n",
      "1.20331805789e+15\n",
      "1.20293266882e+15\n",
      "1.20255636936e+15\n",
      "1.20218894513e+15\n",
      "1.20183018682e+15\n",
      "1.20147989002e+15\n",
      "1.20113785516e+15\n",
      "1.2008038874e+15\n",
      "1.20047779644e+15\n",
      "1.20015939653e+15\n",
      "1.19984850626e+15\n",
      "1.19954494851e+15\n",
      "1.19924855034e+15\n",
      "1.19895914289e+15\n",
      "1.19867656127e+15\n",
      "1.1984006445e+15\n",
      "1.19813123538e+15\n",
      "1.19786818043e+15\n",
      "1.19761132978e+15\n",
      "1.1973605371e+15\n",
      "1.1971156595e+15\n",
      "1.19687655747e+15\n",
      "1.19664309481e+15\n",
      "1.19641513849e+15\n",
      "1.19619255864e+15\n",
      "1.19597522847e+15\n",
      "1.19576302416e+15\n",
      "1.1955558248e+15\n",
      "1.19535351235e+15\n",
      "1.19515597156e+15\n",
      "1.19496308988e+15\n",
      "1.19477475742e+15\n",
      "1.19459086689e+15\n",
      "1.19441131352e+15\n",
      "1.19423599501e+15\n",
      "1.1940648115e+15\n",
      "1.19389766544e+15\n",
      "1.19373446161e+15\n",
      "1.19357510704e+15\n",
      "1.19341951094e+15\n",
      "1.19326758466e+15\n",
      "1.19311924164e+15\n",
      "1.19297439738e+15\n",
      "1.19283296935e+15\n",
      "1.19269487698e+15\n",
      "1.1925600416e+15\n",
      "1.19242838638e+15\n",
      "1.19229983633e+15\n",
      "1.1921743182e+15\n",
      "1.19205176049e+15\n",
      "1.19193209337e+15\n",
      "1.19181524867e+15\n",
      "1.19170115982e+15\n",
      "1.19158976181e+15\n",
      "1.19148099119e+15\n",
      "1.19137478599e+15\n",
      "1.19127108569e+15\n",
      "1.19116983123e+15\n",
      "1.19107096491e+15\n",
      "1.1909744304e+15\n",
      "1.19088017272e+15\n",
      "1.19078813816e+15\n",
      "1.19069827428e+15\n",
      "1.19061052989e+15\n",
      "1.19052485501e+15\n",
      "1.19044120081e+15\n",
      "1.19035951965e+15\n",
      "1.19027976498e+15\n",
      "1.19020189137e+15\n",
      "1.19012585446e+15\n",
      "1.19005161091e+15\n",
      "1.18997911845e+15\n",
      "1.18990833576e+15\n",
      "1.18983922251e+15\n",
      "1.18977173935e+15\n",
      "1.18970584781e+15\n",
      "1.18964151036e+15\n",
      "1.18957869034e+15\n",
      "1.18951735197e+15\n",
      "1.1894574603e+15\n",
      "1.18939898121e+15\n",
      "1.18934188138e+15\n",
      "1.18928612829e+15\n",
      "1.18923169016e+15\n",
      "1.18917853598e+15\n",
      "1.18912663548e+15\n",
      "1.18907595908e+15\n",
      "1.18902647791e+15\n",
      "1.18897816378e+15\n",
      "1.18893098917e+15\n",
      "1.18888492719e+15\n",
      "1.18883995162e+15\n",
      "1.18879603682e+15\n",
      "1.18875315777e+15\n",
      "1.18871129005e+15\n",
      "1.1886704098e+15\n",
      "1.18863049374e+15\n",
      "1.18859151912e+15\n",
      "1.18855346374e+15\n",
      "1.18851630592e+15\n",
      "1.18848002448e+15\n",
      "1.18844459876e+15\n",
      "1.18841000858e+15\n",
      "1.18837623423e+15\n",
      "1.18834325646e+15\n",
      "1.18831105649e+15\n",
      "1.18827961598e+15\n",
      "1.18824891701e+15\n",
      "1.18821894209e+15\n",
      "1.18818967415e+15\n",
      "1.18816109651e+15\n",
      "1.18813319289e+15\n",
      "1.18810594739e+15\n",
      "1.18807934449e+15\n",
      "1.18805336903e+15\n",
      "1.18802800622e+15\n",
      "1.18800324161e+15\n",
      "1.18797906109e+15\n",
      "1.18795545087e+15\n",
      "1.18793239752e+15\n",
      "1.18790988789e+15\n",
      "1.18788790916e+15\n",
      "1.18786644882e+15\n",
      "1.18784549463e+15\n",
      "1.18782503465e+15\n",
      "1.18780505724e+15\n",
      "1.187785551e+15\n",
      "1.18776650483e+15\n",
      "1.18774790788e+15\n",
      "1.18772974954e+15\n",
      "1.18771201948e+15\n",
      "1.18769470759e+15\n",
      "1.18767780401e+15\n",
      "1.18766129912e+15\n",
      "1.1876451835e+15\n",
      "1.18762944797e+15\n",
      "1.18761408358e+15\n",
      "1.18759908157e+15\n",
      "1.18758443338e+15\n",
      "1.18757013068e+15\n",
      "1.18755616532e+15\n",
      "1.18754252934e+15\n",
      "1.18752921497e+15\n",
      "1.18751621463e+15\n",
      "1.18750352091e+15\n",
      "1.18749112658e+15\n",
      "1.18747902458e+15\n",
      "1.187467208e+15\n",
      "1.18745567013e+15\n",
      "1.18744440439e+15\n",
      "1.18743340435e+15\n",
      "1.18742266376e+15\n",
      "1.18741217649e+15\n",
      "1.18740193657e+15\n",
      "1.18739193816e+15\n",
      "1.18738217557e+15\n",
      "1.18737264323e+15\n",
      "1.18736333572e+15\n",
      "1.18735424774e+15\n",
      "1.1873453741e+15\n",
      "1.18733670975e+15\n",
      "1.18732824975e+15\n",
      "1.18731998929e+15\n",
      "1.18731192365e+15\n",
      "1.18730404825e+15\n",
      "1.18729635859e+15\n",
      "1.1872888503e+15\n",
      "1.18728151909e+15\n",
      "1.1872743608e+15\n",
      "1.18726737134e+15\n",
      "1.18726054673e+15\n",
      "1.18725388308e+15\n",
      "1.18724737659e+15\n",
      "1.18724102357e+15\n",
      "1.18723482038e+15\n",
      "1.18722876351e+15\n",
      "1.18722284948e+15\n",
      "1.18721707494e+15\n",
      "1.1872114366e+15\n",
      "1.18720593124e+15\n",
      "1.18720055573e+15\n",
      "1.187195307e+15\n",
      "1.18719018207e+15\n",
      "1.18718517801e+15\n",
      "1.18718029197e+15\n",
      "1.18717552118e+15\n",
      "1.1871708629e+15\n",
      "1.1871663145e+15\n",
      "1.18716187337e+15\n",
      "1.18715753698e+15\n",
      "1.18715330288e+15\n",
      "1.18714916863e+15\n",
      "1.1871451319e+15\n",
      "1.18714119037e+15\n",
      "1.18713734181e+15\n",
      "1.18713358402e+15\n",
      "1.18712991486e+15\n",
      "1.18712633223e+15\n",
      "1.18712283411e+15\n",
      "1.18711941849e+15\n",
      "1.18711608343e+15\n",
      "1.18711282703e+15\n",
      "1.18710964743e+15\n",
      "1.18710654282e+15\n",
      "1.18710351144e+15\n",
      "1.18710055156e+15\n",
      "1.18709766149e+15\n",
      "1.18709483958e+15\n",
      "1.18709208422e+15\n",
      "1.18708939386e+15\n",
      "1.18708676694e+15\n",
      "1.18708420199e+15\n",
      "1.18708169753e+15\n",
      "1.18707925214e+15\n",
      "1.18707686442e+15\n",
      "1.18707453303e+15\n",
      "1.18707225661e+15\n",
      "1.18707003389e+15\n",
      "1.1870678636e+15\n",
      "1.18706574449e+15\n",
      "1.18706367536e+15\n",
      "1.18706165503e+15\n",
      "1.18705968235e+15\n",
      "1.1870577562e+15\n",
      "1.18705587548e+15\n",
      "1.18705403912e+15\n",
      "1.18705224607e+15\n",
      "1.18705049531e+15\n",
      "1.18704878584e+15\n",
      "1.18704711669e+15\n",
      "1.18704548691e+15\n",
      "1.18704389556e+15\n",
      "1.18704234175e+15\n",
      "1.18704082459e+15\n",
      "1.18703934321e+15\n",
      "1.18703789677e+15\n",
      "1.18703648445e+15\n",
      "1.18703510543e+15\n",
      "1.18703375894e+15\n",
      "1.18703244421e+15\n",
      "1.18703116049e+15\n",
      "1.18702990704e+15\n",
      "1.18702868316e+15\n",
      "1.18702748814e+15\n",
      "1.18702632131e+15\n",
      "1.187025182e+15\n",
      "1.18702406956e+15\n",
      "1.18702298336e+15\n",
      "1.18702192277e+15\n",
      "1.1870208872e+15\n",
      "1.18701987606e+15\n",
      "1.18701888876e+15\n",
      "1.18701792475e+15\n",
      "1.18701698348e+15\n",
      "1.1870160644e+15\n",
      "1.18701516701e+15\n",
      "1.18701429078e+15\n",
      "1.18701343521e+15\n",
      "1.18701259983e+15\n",
      "1.18701178415e+15\n",
      "1.1870109877e+15\n",
      "1.18701021004e+15\n",
      "1.18700945072e+15\n",
      "1.18700870931e+15\n",
      "1.18700798539e+15\n",
      "1.18700727854e+15\n",
      "1.18700658837e+15\n",
      "1.18700591447e+15\n",
      "1.18700525646e+15\n",
      "1.18700461398e+15\n",
      "1.18700398665e+15\n",
      "1.18700337411e+15\n",
      "1.18700277602e+15\n",
      "1.18700219204e+15\n",
      "1.18700162183e+15\n",
      "1.18700106507e+15\n",
      "1.18700052144e+15\n",
      "1.18699999064e+15\n",
      "1.18699947235e+15\n",
      "1.18699896628e+15\n",
      "1.18699847216e+15\n",
      "1.18699798968e+15\n",
      "1.18699751859e+15\n",
      "1.18699705861e+15\n",
      "1.18699660947e+15\n",
      "1.18699617093e+15\n",
      "1.18699574273e+15\n",
      "1.18699532464e+15\n",
      "1.1869949164e+15\n",
      "1.18699451779e+15\n",
      "1.18699412858e+15\n",
      "1.18699374855e+15\n",
      "1.18699337749e+15\n",
      "1.18699301518e+15\n",
      "1.18699266141e+15\n",
      "1.18699231599e+15\n",
      "1.18699197871e+15\n",
      "1.18699164939e+15\n",
      "1.18699132783e+15\n",
      "1.18699101386e+15\n",
      "1.1869907073e+15\n",
      "1.18699040796e+15\n",
      "1.18699011569e+15\n",
      "1.18698983031e+15\n",
      "1.18698955166e+15\n",
      "1.18698927958e+15\n",
      "1.18698901392e+15\n",
      "1.18698875452e+15\n",
      "1.18698850124e+15\n",
      "1.18698825394e+15\n",
      "1.18698801247e+15\n",
      "1.18698777669e+15\n",
      "1.18698754648e+15\n",
      "1.18698732169e+15\n",
      "1.18698710221e+15\n",
      "1.1869868879e+15\n",
      "1.18698667865e+15\n",
      "1.18698647433e+15\n",
      "1.18698627484e+15\n",
      "1.18698608004e+15\n",
      "1.18698588985e+15\n",
      "1.18698570413e+15\n",
      "1.1869855228e+15\n",
      "1.18698534575e+15\n",
      "1.18698517287e+15\n",
      "1.18698500406e+15\n",
      "1.18698483924e+15\n",
      "1.18698467831e+15\n",
      "1.18698452117e+15\n",
      "1.18698436774e+15\n",
      "1.18698421793e+15\n",
      "1.18698407165e+15\n",
      "1.18698392882e+15\n",
      "1.18698378936e+15\n",
      "1.18698365319e+15\n",
      "1.18698352023e+15\n",
      "1.1869833904e+15\n",
      "1.18698326364e+15\n",
      "1.18698313987e+15\n",
      "1.18698301902e+15\n",
      "1.18698290102e+15\n",
      "1.1869827858e+15\n",
      "1.18698267329e+15\n",
      "1.18698256345e+15\n",
      "1.18698245619e+15\n",
      "1.18698235146e+15\n",
      "1.1869822492e+15\n",
      "1.18698214936e+15\n",
      "1.18698205187e+15\n",
      "1.18698195667e+15\n",
      "1.18698186373e+15\n",
      "1.18698177297e+15\n",
      "1.18698168436e+15\n",
      "1.18698159784e+15\n",
      "1.18698151335e+15\n",
      "1.18698143086e+15\n",
      "1.18698135032e+15\n",
      "1.18698127167e+15\n",
      "1.18698119488e+15\n",
      "1.1869811199e+15\n",
      "1.18698104669e+15\n",
      "1.18698097521e+15\n",
      "1.18698090541e+15\n",
      "1.18698083726e+15\n",
      "1.18698077072e+15\n",
      "1.18698070574e+15\n",
      "1.1869806423e+15\n",
      "1.18698058035e+15\n",
      "1.18698051987e+15\n",
      "1.18698046081e+15\n",
      "1.18698040314e+15\n",
      "1.18698034684e+15\n",
      "1.18698029186e+15\n",
      "1.18698023818e+15\n",
      "1.18698018576e+15\n",
      "1.18698013459e+15\n",
      "1.18698008461e+15\n",
      "1.18698003582e+15\n",
      "1.18697998818e+15\n",
      "1.18697994166e+15\n",
      "1.18697989624e+15\n",
      "1.18697985189e+15\n",
      "1.18697980859e+15\n",
      "1.1869797663e+15\n",
      "1.18697972502e+15\n",
      "1.18697968471e+15\n",
      "1.18697964535e+15\n",
      "1.18697960691e+15\n",
      "1.18697956939e+15\n",
      "1.18697953275e+15\n",
      "1.18697949697e+15\n",
      "1.18697946204e+15\n",
      "1.18697942793e+15\n",
      "1.18697939462e+15\n",
      "1.1869793621e+15\n",
      "1.18697933035e+15\n",
      "1.18697929935e+15\n",
      "1.18697926908e+15\n",
      "1.18697923952e+15\n",
      "1.18697921066e+15\n",
      "1.18697918248e+15\n",
      "1.18697915496e+15\n",
      "1.1869791281e+15\n",
      "1.18697910186e+15\n",
      "1.18697907625e+15\n",
      "1.18697905124e+15\n",
      "1.18697902682e+15\n",
      "1.18697900298e+15\n",
      "1.18697897969e+15\n",
      "1.18697895696e+15\n",
      "1.18697893476e+15\n",
      "1.18697891309e+15\n",
      "1.18697889193e+15\n",
      "1.18697887127e+15\n",
      "1.18697885109e+15\n",
      "1.18697883139e+15\n",
      "1.18697881216e+15\n",
      "1.18697879338e+15\n",
      "1.18697877504e+15\n",
      "1.18697875713e+15\n",
      "1.18697873965e+15\n",
      "1.18697872258e+15\n",
      "1.18697870591e+15\n",
      "1.18697868963e+15\n",
      "1.18697867374e+15\n",
      "1.18697865823e+15\n",
      "1.18697864308e+15\n",
      "1.18697862828e+15\n",
      "1.18697861384e+15\n",
      "1.18697859973e+15\n",
      "1.18697858596e+15\n",
      "1.18697857252e+15\n",
      "1.18697855939e+15\n",
      "1.18697854657e+15\n",
      "1.18697853405e+15\n",
      "1.18697852183e+15\n",
      "1.1869785099e+15\n",
      "1.18697849824e+15\n",
      "1.18697848687e+15\n",
      "1.18697847576e+15\n",
      "1.18697846491e+15\n",
      "1.18697845432e+15\n",
      "1.18697844398e+15\n",
      "1.18697843388e+15\n",
      "1.18697842402e+15\n",
      "1.18697841439e+15\n",
      "1.18697840499e+15\n",
      "1.18697839582e+15\n",
      "1.18697838685e+15\n",
      "1.1869783781e+15\n",
      "1.18697836956e+15\n",
      "1.18697836122e+15\n",
      "1.18697835307e+15\n",
      "1.18697834512e+15\n"
     ]
    },
    {
     "data": {
      "image/png": "[encoded data removed]",
      "text/plain": [
       "<matplotlib.figure.Figure at 0x1693c9b5828>"
      ]
     },
     "metadata": {},
     "output_type": "display_data"
    }
   ],
   "source": [
    "md2_w, md2_tr_RSS = model2.fit()"
   ]
  },
  {
   "cell_type": "code",
   "execution_count": 60,
   "metadata": {},
   "outputs": [
    {
     "data": {
      "text/plain": [
       "366708.98997341539"
      ]
     },
     "execution_count": 60,
     "metadata": {},
     "output_type": "execute_result"
    }
   ],
   "source": [
    "model2.predict(tst_md2_x[0,:])"
   ]
  },
  {
   "cell_type": "code",
   "execution_count": 61,
   "metadata": {},
   "outputs": [
    {
     "data": {
      "text/plain": [
       "310000.0"
      ]
     },
     "execution_count": 61,
     "metadata": {},
     "output_type": "execute_result"
    }
   ],
   "source": [
    "tst_md2_y[0]"
   ]
  },
  {
   "cell_type": "code",
   "execution_count": 62,
   "metadata": {},
   "outputs": [
    {
     "data": {
      "text/plain": [
       "275400049344913.56"
      ]
     },
     "execution_count": 62,
     "metadata": {},
     "output_type": "execute_result"
    }
   ],
   "source": [
    "model1.test_RSS()"
   ]
  },
  {
   "cell_type": "code",
   "execution_count": 63,
   "metadata": {},
   "outputs": [
    {
     "data": {
      "text/plain": [
       "270257958489731.56"
      ]
     },
     "execution_count": 63,
     "metadata": {},
     "output_type": "execute_result"
    }
   ],
   "source": [
    "model2.test_RSS()"
   ]
  },
  {
   "cell_type": "code",
   "execution_count": 64,
   "metadata": {},
   "outputs": [
    {
     "data": {
      "text/plain": [
       "array([ -9.99999687e+04,   2.44958104e+02,   6.54038592e+01])"
      ]
     },
     "execution_count": 64,
     "metadata": {},
     "output_type": "execute_result"
    }
   ],
   "source": [
    "md2_w"
   ]
  },
  {
   "cell_type": "code",
   "execution_count": null,
   "metadata": {
    "collapsed": true
   },
   "outputs": [],
   "source": []
  }
 ],
 "metadata": {
  "kernelspec": {
   "display_name": "Python 3",
   "language": "python",
   "name": "python3"
  },
  "language_info": {
   "codemirror_mode": {
    "name": "ipython",
    "version": 3
   },
   "file_extension": ".py",
   "mimetype": "text/x-python",
   "name": "python",
   "nbconvert_exporter": "python",
   "pygments_lexer": "ipython3",
   "version": "3.6.10"
  }
 },
 "nbformat": 4,
 "nbformat_minor": 2
}
