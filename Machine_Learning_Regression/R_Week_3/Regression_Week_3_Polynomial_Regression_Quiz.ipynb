{
 "cells": [
  {
   "cell_type": "code",
   "execution_count": 1,
   "metadata": {
    "collapsed": true
   },
   "outputs": [],
   "source": [
    "import pandas as pd\n",
    "import numpy as np\n",
    "import matplotlib.pyplot as plt\n"
   ]
  },
  {
   "cell_type": "code",
   "execution_count": 2,
   "metadata": {
    "collapsed": true
   },
   "outputs": [],
   "source": [
    "%matplotlib inline"
   ]
  },
  {
   "cell_type": "code",
   "execution_count": 11,
   "metadata": {},
   "outputs": [],
   "source": [
    "def polynomial_dataframe(df, feature, degree): # feature is pandas.Series type\n",
    "    # assume that degree >= 1\n",
    "    poly_dataframe= pd.DataFrame()\n",
    "    poly_dataframe[feature] = df[feature]\n",
    "    if degree > 1:\n",
    "        # then loop over the remaining degrees:\n",
    "        for power in range(2, degree+1):\n",
    "            # first we'll give the column a name:\n",
    "            name = 'power_' + str(power)\n",
    "            poly_dataframe[name] = poly_dataframe[feature].apply(lambda x: x**power)\n",
    "    return poly_dataframe"
   ]
  },
  {
   "cell_type": "code",
   "execution_count": 12,
   "metadata": {},
   "outputs": [],
   "source": [
    "def data_prep(df, cols):\n",
    "    x = df[cols].as_matrix()\n",
    "    b = np.ones(shape=(len(x),1), dtype=np.float32)\n",
    "    x = np.concatenate((b,x), axis=1)\n",
    "    return x\n"
   ]
  },
  {
   "cell_type": "code",
   "execution_count": 13,
   "metadata": {
    "collapsed": true
   },
   "outputs": [],
   "source": [
    "dtype_dict = {'bathrooms':float, 'waterfront':int, 'sqft_above':int, 'sqft_living15':float, 'grade':int, \n",
    "              'yr_renovated':int, 'price':float, 'bedrooms':float, 'zipcode':str, 'long':float, \n",
    "              'sqft_lot15':float, 'sqft_living':float, 'floors':str, 'condition':int, 'lat':float, \n",
    "              'date':str, 'sqft_basement':int, 'yr_built':int, 'id':str, 'sqft_lot':int, 'view':int}"
   ]
  },
  {
   "cell_type": "code",
   "execution_count": 15,
   "metadata": {
    "collapsed": true
   },
   "outputs": [],
   "source": [
    "train_data = pd.read_csv('wk3_kc_house_train_data.csv', dtype= dtype_dict)\n",
    "train_data.sort_values('sqft_living', inplace = True)\n",
    "test_data = pd.read_csv('wk3_kc_house_test_data.csv', dtype= dtype_dict)\n",
    "test_data.sort_values('sqft_living', inplace = True)\n",
    "valid_data = pd.read_csv('wk3_kc_house_valid_data.csv', dtype= dtype_dict)\n",
    "valid_data.sort_values('sqft_living', inplace = True)\n",
    "set_1 = pd.read_csv('wk3_kc_house_set_1_data.csv', dtype= dtype_dict)\n",
    "set_1.sort_values('sqft_living', inplace = True)\n",
    "set_2 = pd.read_csv('wk3_kc_house_set_2_data.csv', dtype= dtype_dict)\n",
    "set_2.sort_values('sqft_living', inplace = True)\n",
    "set_3 = pd.read_csv('wk3_kc_house_set_3_data.csv', dtype= dtype_dict)\n",
    "set_3.sort_values('sqft_living', inplace = True)\n",
    "set_4 = pd.read_csv('wk3_kc_house_set_4_data.csv', dtype= dtype_dict)\n",
    "set_4.sort_values('sqft_living', inplace = True)"
   ]
  },
  {
   "cell_type": "code",
   "execution_count": 18,
   "metadata": {
    "collapsed": true
   },
   "outputs": [],
   "source": [
    "set_1_poly15 = polynomial_dataframe(set_1,'sqft_living', 15 )\n",
    "set_1_poly15_x = data_prep(df=set_1_poly15, cols=set_1_poly15.columns)\n",
    "set_1_y = np.array(set_1['price'])\n",
    "\n",
    "set_2_poly15 = polynomial_dataframe(set_2,'sqft_living', 15 )\n",
    "set_2_poly15_x = data_prep(df=set_2_poly15, cols=set_2_poly15.columns)\n",
    "set_2_y = np.array(set_2['price'])\n",
    "\n",
    "set_3_poly15 = polynomial_dataframe(set_3,'sqft_living', 15 )\n",
    "set_3_poly15_x = data_prep(df=set_3_poly15, cols=set_3_poly15.columns)\n",
    "set_3_y = np.array(set_3['price'])\n",
    "\n",
    "set_4_poly15 = polynomial_dataframe(set_4,'sqft_living', 15 )\n",
    "set_4_poly15_x = data_prep(df=set_4_poly15, cols=set_4_poly15.columns)\n",
    "set_4_y = np.array(set_4['price'])\n"
   ]
  },
  {
   "cell_type": "code",
   "execution_count": 38,
   "metadata": {},
   "outputs": [],
   "source": [
    "class LinearRegression:\n",
    "    def __init__(self, train_x, train_y, valid_x=None, valid_y= None, test_x=None, test_y=None):\n",
    "        self.train_x = train_x\n",
    "        self.train_y = train_y\n",
    "        self.train_N = len(train_y)\n",
    "        self.valid_x = valid_x\n",
    "        self.valid_y = valid_y\n",
    "        self.test_x = test_x\n",
    "        self.test_y = test_y\n",
    "    def fit(self):\n",
    "        self.w = np.linalg.solve(np.dot(self.train_x.T,self.train_x), np.dot(self.train_x.T, self.train_y))\n",
    "        return self.w\n",
    "    def train_predict(self):\n",
    "        self.train_y_hat = np.dot(self.train_x,self.w)\n",
    "        return self.train_y_hat\n",
    "    def train_RSS(self):\n",
    "        self.train_predict()\n",
    "        rss = 0.0\n",
    "        for i in range(self.train_N):\n",
    "            rss += np.square(self.train_y[i] - self.train_y_hat[i])\n",
    "        self.train_RSS = rss\n",
    "        return self.train_RSS\n",
    "    def test_RSS(self):\n",
    "        if not self.test_x == None:\n",
    "            self.test_y_hat = np.dot(self.test_x,self.w)\n",
    "            rss = 0.0\n",
    "            for i in range(len(self.test_y)):\n",
    "                rss += np.square(self.test_y[i] - self.test_y_hat[i])\n",
    "            self.test_RSS = rss\n",
    "            return self.test_RSS\n",
    "        else: \n",
    "            return None\n",
    "        \n",
    "    def valid_RSS(self):\n",
    "        if not self.valid_x == None:\n",
    "            self.valid_y_hat = np.dot(self.valid_x,self.w)\n",
    "            rss = 0.0\n",
    "            for i in range(len(self.valid_y)):\n",
    "                rss += np.square(self.valid_y[i] - self.valid_y_hat[i])\n",
    "            self.valid_RSS = rss\n",
    "            return self.valid_RSS\n",
    "        else: \n",
    "            return None"
   ]
  },
  {
   "cell_type": "code",
   "execution_count": 25,
   "metadata": {},
   "outputs": [
    {
     "data": {
      "text/plain": [
       "[<matplotlib.lines.Line2D at 0x24758a3def0>,\n",
       " <matplotlib.lines.Line2D at 0x24758a43a90>]"
      ]
     },
     "execution_count": 25,
     "metadata": {},
     "output_type": "execute_result"
    },
    {
     "data": {
      "image/png": "[encoded data removed]",
      "text/plain": [
       "<matplotlib.figure.Figure at 0x24756ea2048>"
      ]
     },
     "metadata": {},
     "output_type": "display_data"
    }
   ],
   "source": [
    "model_set_1 = LinearRegression(train_x=set_1_poly15_x, train_y=set_1_y)\n",
    "model_set_1_w = model_set_1.fit()\n",
    "model_set_1_y_hat = model_set_1.train_predict()\n",
    "\n",
    "plt.plot(set_1_poly15['sqft_living'],set_1_y, '.', set_1_poly15['sqft_living'], model_set_1_y_hat,'-')\n",
    "\n"
   ]
  },
  {
   "cell_type": "code",
   "execution_count": 22,
   "metadata": {},
   "outputs": [
    {
     "data": {
      "text/plain": [
       "[<matplotlib.lines.Line2D at 0x247588e4978>,\n",
       " <matplotlib.lines.Line2D at 0x247588e4b38>]"
      ]
     },
     "execution_count": 22,
     "metadata": {},
     "output_type": "execute_result"
    },
    {
     "data": {
      "image/png": "[encoded data removed]",
      "text/plain": [
       "<matplotlib.figure.Figure at 0x24756f5dc18>"
      ]
     },
     "metadata": {},
     "output_type": "display_data"
    }
   ],
   "source": [
    "model_set_2 = LinearRegression(train_x=set_2_poly15_x, train_y=set_2_y)\n",
    "model_set_2_w = model_set_2.fit()\n",
    "model_set_2_y_hat = model_set_2.train_predict()\n",
    "\n",
    "plt.plot(set_2_poly15['sqft_living'],set_2_y, '.', set_2_poly15['sqft_living'], model_set_2_y_hat,'-')\n"
   ]
  },
  {
   "cell_type": "code",
   "execution_count": 23,
   "metadata": {},
   "outputs": [
    {
     "data": {
      "text/plain": [
       "[<matplotlib.lines.Line2D at 0x24758953940>,\n",
       " <matplotlib.lines.Line2D at 0x24758953b00>]"
      ]
     },
     "execution_count": 23,
     "metadata": {},
     "output_type": "execute_result"
    },
    {
     "data": {
      "image/png": "[encoded data removed]",
      "text/plain": [
       "<matplotlib.figure.Figure at 0x247588b7128>"
      ]
     },
     "metadata": {},
     "output_type": "display_data"
    }
   ],
   "source": [
    "model_set_3 = LinearRegression(train_x=set_3_poly15_x, train_y=set_3_y)\n",
    "model_set_3_w = model_set_3.fit()\n",
    "model_set_3_y_hat = model_set_3.train_predict()\n",
    "\n",
    "plt.plot(set_3_poly15['sqft_living'],set_3_y, '.', set_3_poly15['sqft_living'], model_set_3_y_hat,'-')"
   ]
  },
  {
   "cell_type": "code",
   "execution_count": 24,
   "metadata": {},
   "outputs": [
    {
     "data": {
      "text/plain": [
       "[<matplotlib.lines.Line2D at 0x247589c90b8>,\n",
       " <matplotlib.lines.Line2D at 0x247589c9cc0>]"
      ]
     },
     "execution_count": 24,
     "metadata": {},
     "output_type": "execute_result"
    },
    {
     "data": {
      "image/png": "[encoded data removed]",
      "text/plain": [
       "<matplotlib.figure.Figure at 0x24756f5dfd0>"
      ]
     },
     "metadata": {},
     "output_type": "display_data"
    }
   ],
   "source": [
    "model_set_4 = LinearRegression(train_x=set_4_poly15_x, train_y=set_4_y)\n",
    "model_set_4_w = model_set_4.fit()\n",
    "model_set_4_y_hat = model_set_4.train_predict()\n",
    "\n",
    "plt.plot(set_4_poly15['sqft_living'],set_4_y, '.', set_4_poly15['sqft_living'], model_set_4_y_hat,'-')"
   ]
  },
  {
   "cell_type": "code",
   "execution_count": 26,
   "metadata": {},
   "outputs": [
    {
     "data": {
      "text/plain": [
       "array([ -4.43013307e+06,   2.16343114e+04,  -4.10428336e+01,\n",
       "         4.24207043e-02,  -2.62874557e-05,   1.01354115e-08,\n",
       "        -2.40084380e-12,   3.14646880e-16,  -1.11772925e-20,\n",
       "        -2.77343179e-24,   3.90918536e-28,  -1.00314153e-32,\n",
       "        -1.52182859e-36,   1.25245645e-40,  -2.74309414e-45,\n",
       "        -6.14969006e-51])"
      ]
     },
     "execution_count": 26,
     "metadata": {},
     "output_type": "execute_result"
    }
   ],
   "source": [
    "model_set_1_w"
   ]
  },
  {
   "cell_type": "code",
   "execution_count": 27,
   "metadata": {},
   "outputs": [
    {
     "data": {
      "text/plain": [
       "array([ -2.83177804e+05,   2.43647185e+03,  -3.35599310e+00,\n",
       "        -5.13850563e-04,   6.56239829e-06,  -8.12896534e-09,\n",
       "         5.16338575e-12,  -1.97161910e-15,   4.65797786e-19,\n",
       "        -6.39251060e-23,   3.39406586e-27,   3.64928577e-31,\n",
       "        -7.86913040e-35,   5.72369625e-39,  -1.78541962e-43,\n",
       "         1.51889514e-48])"
      ]
     },
     "execution_count": 27,
     "metadata": {},
     "output_type": "execute_result"
    }
   ],
   "source": [
    "model_set_2_w"
   ]
  },
  {
   "cell_type": "code",
   "execution_count": 28,
   "metadata": {},
   "outputs": [
    {
     "data": {
      "text/plain": [
       "array([ -5.76095626e+06,   3.30812721e+04,  -7.65922445e+01,\n",
       "         9.91818545e-02,  -7.99350647e-05,   4.22993245e-08,\n",
       "        -1.50324583e-11,   3.57750291e-15,  -5.48104438e-19,\n",
       "         4.70889120e-23,  -8.11108624e-28,  -2.53810590e-31,\n",
       "         2.29982657e-35,  -3.80376196e-40,  -3.67760966e-44,\n",
       "         1.43178959e-48])"
      ]
     },
     "execution_count": 28,
     "metadata": {},
     "output_type": "execute_result"
    }
   ],
   "source": [
    "model_set_3_w"
   ]
  },
  {
   "cell_type": "code",
   "execution_count": 29,
   "metadata": {},
   "outputs": [
    {
     "data": {
      "text/plain": [
       "array([ -1.78977063e+05,   2.47402146e+03,  -6.14438965e+00,\n",
       "         8.52585147e-03,  -6.87169097e-06,   3.36794298e-09,\n",
       "        -1.04015192e-12,   2.24976730e-16,  -4.59572524e-20,\n",
       "         1.02273982e-23,  -1.60170910e-27,   5.33421160e-32,\n",
       "         2.82772025e-35,  -5.18930312e-39,   3.73258121e-43,\n",
       "        -1.01562534e-47])"
      ]
     },
     "execution_count": 29,
     "metadata": {},
     "output_type": "execute_result"
    }
   ],
   "source": [
    "model_set_4_w"
   ]
  },
  {
   "cell_type": "code",
   "execution_count": 30,
   "metadata": {
    "collapsed": true
   },
   "outputs": [],
   "source": [
    "# train_data\n",
    "# test_data\n",
    "# valid_data\n",
    "\n",
    "train_x_poly15 = polynomial_dataframe(train_data,'sqft_living', 15 )\n",
    "train_x_poly15_x = data_prep(df=train_x_poly15, cols=train_x_poly15.columns)\n",
    "train_y = np.array(train_data['price'])\n",
    "\n",
    "valid_x_poly15 = polynomial_dataframe(valid_data,'sqft_living', 15 )\n",
    "valid_x_poly15_x = data_prep(df=valid_x_poly15, cols=valid_x_poly15.columns)\n",
    "valid_y = np.array(valid_data['price'])\n",
    "\n",
    "test_x_poly15 = polynomial_dataframe(test_data,'sqft_living', 15 )\n",
    "test_x_poly15_x = data_prep(df=test_x_poly15, cols=test_x_poly15.columns)\n",
    "test_y = np.array(test_data['price'])\n"
   ]
  },
  {
   "cell_type": "code",
   "execution_count": 39,
   "metadata": {},
   "outputs": [
    {
     "name": "stderr",
     "output_type": "stream",
     "text": [
      "C:\\Users\\Sayan\\Anaconda3\\envs\\UdemyML\\lib\\site-packages\\ipykernel\\__main__.py:35: FutureWarning: comparison to `None` will result in an elementwise object comparison in the future.\n",
      "C:\\Users\\Sayan\\Anaconda3\\envs\\UdemyML\\lib\\site-packages\\ipykernel\\__main__.py:24: FutureWarning: comparison to `None` will result in an elementwise object comparison in the future.\n"
     ]
    }
   ],
   "source": [
    "summary = pd.DataFrame(data=None, columns=['Model-Degree', 'Train RSS', 'Validation RSS', 'Test RSS'])\n",
    "index = 0\n",
    "for i in range (15):\n",
    "    model = LinearRegression(train_x=train_x_poly15_x[:,:i+2], train_y= train_y,\n",
    "                             valid_x=valid_x_poly15_x[:,:i+2], valid_y= valid_y,\n",
    "                             test_x=test_x_poly15_x[:,:i+2], test_y= test_y)\n",
    "    model.fit()\n",
    "    train_rss = model.train_RSS()\n",
    "    valid_rss = model.valid_RSS()\n",
    "    test_rss = model.test_RSS()\n",
    "    \n",
    "    summary.loc[index] = [i+1, train_rss, valid_rss, test_rss]\n",
    "    index +=1\n",
    "\n",
    "    \n",
    "summary.sort_values('Validation RSS', inplace=True)"
   ]
  },
  {
   "cell_type": "code",
   "execution_count": 40,
   "metadata": {},
   "outputs": [
    {
     "data": {
      "text/html": [
       "<div>\n",
       "<style>\n",
       "    .dataframe thead tr:only-child th {\n",
       "        text-align: right;\n",
       "    }\n",
       "\n",
       "    .dataframe thead th {\n",
       "        text-align: left;\n",
       "    }\n",
       "\n",
       "    .dataframe tbody tr th {\n",
       "        vertical-align: top;\n",
       "    }\n",
       "</style>\n",
       "<table border=\"1\" class=\"dataframe\">\n",
       "  <thead>\n",
       "    <tr style=\"text-align: right;\">\n",
       "      <th></th>\n",
       "      <th>Model-Degree</th>\n",
       "      <th>Train RSS</th>\n",
       "      <th>Validation RSS</th>\n",
       "      <th>Test RSS</th>\n",
       "    </tr>\n",
       "  </thead>\n",
       "  <tbody>\n",
       "    <tr>\n",
       "      <th>4</th>\n",
       "      <td>5.0</td>\n",
       "      <td>6.175992e+14</td>\n",
       "      <td>6.200456e+14</td>\n",
       "      <td>1.355672e+14</td>\n",
       "    </tr>\n",
       "    <tr>\n",
       "      <th>5</th>\n",
       "      <td>6.0</td>\n",
       "      <td>6.138893e+14</td>\n",
       "      <td>6.201190e+14</td>\n",
       "      <td>1.333836e+14</td>\n",
       "    </tr>\n",
       "    <tr>\n",
       "      <th>1</th>\n",
       "      <td>2.0</td>\n",
       "      <td>6.176814e+14</td>\n",
       "      <td>6.239551e+14</td>\n",
       "      <td>1.355420e+14</td>\n",
       "    </tr>\n",
       "    <tr>\n",
       "      <th>2</th>\n",
       "      <td>3.0</td>\n",
       "      <td>6.176701e+14</td>\n",
       "      <td>6.258203e+14</td>\n",
       "      <td>1.355860e+14</td>\n",
       "    </tr>\n",
       "    <tr>\n",
       "      <th>0</th>\n",
       "      <td>1.0</td>\n",
       "      <td>7.069998e+14</td>\n",
       "      <td>6.290979e+14</td>\n",
       "      <td>1.423479e+14</td>\n",
       "    </tr>\n",
       "    <tr>\n",
       "      <th>3</th>\n",
       "      <td>4.0</td>\n",
       "      <td>6.176376e+14</td>\n",
       "      <td>6.299873e+14</td>\n",
       "      <td>1.353827e+14</td>\n",
       "    </tr>\n",
       "    <tr>\n",
       "      <th>7</th>\n",
       "      <td>8.0</td>\n",
       "      <td>6.134239e+14</td>\n",
       "      <td>6.959903e+14</td>\n",
       "      <td>1.329034e+14</td>\n",
       "    </tr>\n",
       "    <tr>\n",
       "      <th>9</th>\n",
       "      <td>10.0</td>\n",
       "      <td>6.129721e+14</td>\n",
       "      <td>7.271155e+14</td>\n",
       "      <td>1.328134e+14</td>\n",
       "    </tr>\n",
       "    <tr>\n",
       "      <th>6</th>\n",
       "      <td>7.0</td>\n",
       "      <td>6.134411e+14</td>\n",
       "      <td>9.869390e+14</td>\n",
       "      <td>1.329860e+14</td>\n",
       "    </tr>\n",
       "    <tr>\n",
       "      <th>8</th>\n",
       "      <td>9.0</td>\n",
       "      <td>6.129951e+14</td>\n",
       "      <td>3.415124e+16</td>\n",
       "      <td>1.328270e+14</td>\n",
       "    </tr>\n",
       "    <tr>\n",
       "      <th>10</th>\n",
       "      <td>11.0</td>\n",
       "      <td>6.126661e+14</td>\n",
       "      <td>1.044863e+19</td>\n",
       "      <td>1.329643e+14</td>\n",
       "    </tr>\n",
       "    <tr>\n",
       "      <th>12</th>\n",
       "      <td>13.0</td>\n",
       "      <td>6.110979e+14</td>\n",
       "      <td>7.403318e+20</td>\n",
       "      <td>1.328738e+14</td>\n",
       "    </tr>\n",
       "    <tr>\n",
       "      <th>13</th>\n",
       "      <td>14.0</td>\n",
       "      <td>6.092553e+14</td>\n",
       "      <td>1.502485e+22</td>\n",
       "      <td>1.332058e+14</td>\n",
       "    </tr>\n",
       "    <tr>\n",
       "      <th>11</th>\n",
       "      <td>12.0</td>\n",
       "      <td>6.307032e+14</td>\n",
       "      <td>1.972958e+22</td>\n",
       "      <td>1.369639e+14</td>\n",
       "    </tr>\n",
       "    <tr>\n",
       "      <th>14</th>\n",
       "      <td>15.0</td>\n",
       "      <td>6.091101e+14</td>\n",
       "      <td>2.820457e+22</td>\n",
       "      <td>1.332110e+14</td>\n",
       "    </tr>\n",
       "  </tbody>\n",
       "</table>\n",
       "</div>"
      ],
      "text/plain": [
       "    Model-Degree     Train RSS  Validation RSS      Test RSS\n",
       "4            5.0  6.175992e+14    6.200456e+14  1.355672e+14\n",
       "5            6.0  6.138893e+14    6.201190e+14  1.333836e+14\n",
       "1            2.0  6.176814e+14    6.239551e+14  1.355420e+14\n",
       "2            3.0  6.176701e+14    6.258203e+14  1.355860e+14\n",
       "0            1.0  7.069998e+14    6.290979e+14  1.423479e+14\n",
       "3            4.0  6.176376e+14    6.299873e+14  1.353827e+14\n",
       "7            8.0  6.134239e+14    6.959903e+14  1.329034e+14\n",
       "9           10.0  6.129721e+14    7.271155e+14  1.328134e+14\n",
       "6            7.0  6.134411e+14    9.869390e+14  1.329860e+14\n",
       "8            9.0  6.129951e+14    3.415124e+16  1.328270e+14\n",
       "10          11.0  6.126661e+14    1.044863e+19  1.329643e+14\n",
       "12          13.0  6.110979e+14    7.403318e+20  1.328738e+14\n",
       "13          14.0  6.092553e+14    1.502485e+22  1.332058e+14\n",
       "11          12.0  6.307032e+14    1.972958e+22  1.369639e+14\n",
       "14          15.0  6.091101e+14    2.820457e+22  1.332110e+14"
      ]
     },
     "execution_count": 40,
     "metadata": {},
     "output_type": "execute_result"
    }
   ],
   "source": [
    "summary"
   ]
  },
  {
   "cell_type": "code",
   "execution_count": null,
   "metadata": {},
   "outputs": [],
   "source": []
  },
  {
   "cell_type": "code",
   "execution_count": null,
   "metadata": {
    "collapsed": true
   },
   "outputs": [],
   "source": []
  }
 ],
 "metadata": {
  "kernelspec": {
   "display_name": "Python 3",
   "language": "python",
   "name": "python3"
  },
  "language_info": {
   "codemirror_mode": {
    "name": "ipython",
    "version": 3
   },
   "file_extension": ".py",
   "mimetype": "text/x-python",
   "name": "python",
   "nbconvert_exporter": "python",
   "pygments_lexer": "ipython3",
   "version": "3.6.10"
  }
 },
 "nbformat": 4,
 "nbformat_minor": 2
}
