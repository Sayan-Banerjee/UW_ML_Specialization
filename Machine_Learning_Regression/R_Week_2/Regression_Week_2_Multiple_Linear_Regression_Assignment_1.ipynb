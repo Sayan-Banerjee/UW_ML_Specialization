{
 "cells": [
  {
   "cell_type": "code",
   "execution_count": null,
   "metadata": {},
   "outputs": [],
   "source": []
  },
  {
   "cell_type": "code",
   "execution_count": 1,
   "metadata": {
    "collapsed": true
   },
   "outputs": [],
   "source": [
    "import pandas as pd\n",
    "import numpy as np"
   ]
  },
  {
   "cell_type": "code",
   "execution_count": 2,
   "metadata": {
    "collapsed": true
   },
   "outputs": [],
   "source": [
    "dtype_dict = {'bathrooms':float, 'waterfront':int, 'sqft_above':int, 'sqft_living15':float, 'grade':int,\n",
    "              'yr_renovated':int, 'price':float, 'bedrooms':float, 'zipcode':str, 'long':float, 'sqft_lot15':float,\n",
    "              'sqft_living':float, 'floors':str, 'condition':int, 'lat':float, 'date':str, 'sqft_basement':int,\n",
    "              'yr_built':int, 'id':str, 'sqft_lot':int, 'view':int}"
   ]
  },
  {
   "cell_type": "code",
   "execution_count": 3,
   "metadata": {},
   "outputs": [
    {
     "name": "stdout",
     "output_type": "stream",
     "text": [
      "Number of Training examples: 17384\n",
      "Number of Testing examples: 4229\n"
     ]
    }
   ],
   "source": [
    "train_data = pd.read_csv('kc_house_train_data.csv', dtype= dtype_dict)\n",
    "test_data = pd.read_csv('kc_house_test_data.csv', dtype= dtype_dict)\n",
    "print ('Number of Training examples: {}'.format(len(train_data)))\n",
    "print ('Number of Testing examples: {}'.format(len(test_data)))\n"
   ]
  },
  {
   "cell_type": "markdown",
   "metadata": {},
   "source": [
    "bedrooms_squared = bedrooms X bedrooms |\n",
    "bed_bath_rooms = bedrooms X bathrooms  |\n",
    "log_sqft_living = log(sqft_living)   |\n",
    "lat_plus_long =lat + long  \n"
   ]
  },
  {
   "cell_type": "code",
   "execution_count": 4,
   "metadata": {
    "collapsed": true
   },
   "outputs": [],
   "source": [
    "train_data['bedrooms_squared'] = train_data['bedrooms'].apply(lambda x: x*x)\n",
    "train_data['bed_bath_rooms'] = train_data[['bedrooms', 'bathrooms']].apply(lambda x : x['bedrooms'] * x['bathrooms'], axis=1)\n",
    "train_data['log_sqft_living'] = train_data['sqft_living'].apply(lambda x: np.log(x))\n",
    "train_data['lat_plus_long'] = train_data[['lat', 'long']].apply(lambda x : x['lat'] + x['long'], axis=1)"
   ]
  },
  {
   "cell_type": "code",
   "execution_count": 5,
   "metadata": {
    "collapsed": true
   },
   "outputs": [],
   "source": [
    "test_data['bedrooms_squared'] = test_data['bedrooms'].apply(lambda x: x*x)\n",
    "test_data['bed_bath_rooms'] = test_data[['bedrooms', 'bathrooms']].apply(lambda x : x['bedrooms'] * x['bathrooms'], axis=1)\n",
    "test_data['log_sqft_living'] = test_data['sqft_living'].apply(lambda x: np.log(x))\n",
    "test_data['lat_plus_long'] = test_data[['lat', 'long']].apply(lambda x : x['lat'] + x['long'], axis=1)"
   ]
  },
  {
   "cell_type": "code",
   "execution_count": 6,
   "metadata": {},
   "outputs": [
    {
     "data": {
      "text/plain": [
       "12.446677701584299"
      ]
     },
     "execution_count": 6,
     "metadata": {},
     "output_type": "execute_result"
    }
   ],
   "source": [
    "test_data['bedrooms_squared'].mean()"
   ]
  },
  {
   "cell_type": "code",
   "execution_count": 7,
   "metadata": {},
   "outputs": [
    {
     "data": {
      "text/plain": [
       "7.5039016315913925"
      ]
     },
     "execution_count": 7,
     "metadata": {},
     "output_type": "execute_result"
    }
   ],
   "source": [
    "test_data['bed_bath_rooms'].mean()"
   ]
  },
  {
   "cell_type": "code",
   "execution_count": 8,
   "metadata": {},
   "outputs": [
    {
     "data": {
      "text/plain": [
       "7.5502746796459377"
      ]
     },
     "execution_count": 8,
     "metadata": {},
     "output_type": "execute_result"
    }
   ],
   "source": [
    "test_data['log_sqft_living'].mean()"
   ]
  },
  {
   "cell_type": "code",
   "execution_count": 9,
   "metadata": {},
   "outputs": [
    {
     "data": {
      "text/plain": [
       "-74.653333554031676"
      ]
     },
     "execution_count": 9,
     "metadata": {},
     "output_type": "execute_result"
    }
   ],
   "source": [
    "test_data['lat_plus_long'].mean()"
   ]
  },
  {
   "cell_type": "code",
   "execution_count": 10,
   "metadata": {
    "collapsed": true
   },
   "outputs": [],
   "source": [
    "def data_prep(df, cols):\n",
    "    x = df[cols].as_matrix()\n",
    "    b = np.ones(shape=(len(x),1), dtype=np.float32)\n",
    "    x = np.concatenate((b,x), axis=1)\n",
    "    return x\n"
   ]
  },
  {
   "cell_type": "code",
   "execution_count": 11,
   "metadata": {
    "collapsed": true
   },
   "outputs": [],
   "source": [
    "y_train = np.array(train_data['price'])\n",
    "y_test = np.array(test_data['price'])\n",
    "x_train_model_1 = data_prep(train_data, ['sqft_living', 'bedrooms', 'bathrooms', 'lat', 'long'])\n",
    "x_train_model_2 = data_prep(train_data, ['sqft_living', 'bedrooms', 'bathrooms', 'lat', 'long', 'bed_bath_rooms'])\n",
    "x_train_model_3 = data_prep(train_data, ['sqft_living', 'bedrooms', 'bathrooms', 'lat', 'long', 'bed_bath_rooms', 'bedrooms_squared','log_sqft_living','lat_plus_long'])\n",
    "\n",
    "x_test_model_1 = data_prep(test_data, ['sqft_living', 'bedrooms', 'bathrooms', 'lat', 'long'])\n",
    "x_test_model_2 = data_prep(test_data, ['sqft_living', 'bedrooms', 'bathrooms', 'lat', 'long', 'bed_bath_rooms'])\n",
    "x_test_model_3 = data_prep(test_data, ['sqft_living', 'bedrooms', 'bathrooms', 'lat', 'long', 'bed_bath_rooms', 'bedrooms_squared','log_sqft_living','lat_plus_long'])\n",
    "\n",
    "\n"
   ]
  },
  {
   "cell_type": "code",
   "execution_count": 20,
   "metadata": {},
   "outputs": [],
   "source": [
    "class LinearRegression:\n",
    "    def __init__(self, train_x, train_y, test_x, test_y):\n",
    "        self.train_x = train_x\n",
    "        self.train_y = train_y\n",
    "        self.train_N = len(train_y)\n",
    "        self.test_x = test_x\n",
    "        self.test_y = test_y\n",
    "    def fit(self):\n",
    "        self.w = np.linalg.solve(np.dot(self.train_x.T,self.train_x), np.dot(self.train_x.T, self.train_y))\n",
    "        return self.w\n",
    "    def train_predict(self):\n",
    "        self.train_y_hat = np.dot(self.train_x,self.w)\n",
    "        return self.train_y_hat\n",
    "    def train_RSS(self):\n",
    "        self.train_predict()\n",
    "        rss = 0.0\n",
    "        for i in range(self.train_N):\n",
    "            rss += np.square(self.train_y[i] - self.train_y_hat[i])\n",
    "        self.train_RSS = rss\n",
    "        return self.train_RSS\n",
    "    def test_RSS(self):\n",
    "        self.test_y_hat = np.dot(self.test_x,self.w)\n",
    "        rss = 0.0\n",
    "        for i in range(len(self.test_y)):\n",
    "            rss += np.square(self.test_y[i] - self.test_y_hat[i])\n",
    "        self.test_RSS = rss\n",
    "        return self.test_RSS"
   ]
  },
  {
   "cell_type": "code",
   "execution_count": 21,
   "metadata": {
    "collapsed": true
   },
   "outputs": [],
   "source": [
    "model_1 = LinearRegression(train_x= x_train_model_1, train_y=y_train, test_x=x_test_model_1, test_y=y_test)\n",
    "model_2 = LinearRegression(train_x= x_train_model_2, train_y=y_train, test_x=x_test_model_2, test_y=y_test)\n",
    "model_3 = LinearRegression(train_x= x_train_model_3, train_y=y_train, test_x=x_test_model_3, test_y=y_test)"
   ]
  },
  {
   "cell_type": "code",
   "execution_count": 22,
   "metadata": {
    "collapsed": true
   },
   "outputs": [],
   "source": [
    "w1 = model_1.fit()\n",
    "w2 = model_2.fit()\n",
    "w3 = model_3.fit()\n"
   ]
  },
  {
   "cell_type": "markdown",
   "metadata": {},
   "source": [
    "Model 1: ‘sqft_living’, ‘bedrooms’, ‘bathrooms’, ‘lat’, and ‘long’\n",
    "Model 2: ‘sqft_living’, ‘bedrooms’, ‘bathrooms’, ‘lat’,‘long’, and ‘bed_bath_rooms’\n",
    "Model 3: ‘sqft_living’, ‘bedrooms’, ‘bathrooms’, ‘lat’,‘long’, ‘bed_bath_rooms’, ‘bedrooms_squared’, ‘log_sqft_living’, and ‘lat_plus_long’"
   ]
  },
  {
   "cell_type": "code",
   "execution_count": 23,
   "metadata": {},
   "outputs": [
    {
     "data": {
      "text/plain": [
       "array([ -6.90757268e+07,   3.12258646e+02,  -5.95865332e+04,\n",
       "         1.57067421e+04,   6.58619264e+05,  -3.09374351e+05])"
      ]
     },
     "execution_count": 23,
     "metadata": {},
     "output_type": "execute_result"
    }
   ],
   "source": [
    "w1"
   ]
  },
  {
   "cell_type": "code",
   "execution_count": 24,
   "metadata": {},
   "outputs": [
    {
     "data": {
      "text/plain": [
       "array([ -6.68679689e+07,   3.06610053e+02,  -1.13446368e+05,\n",
       "        -7.14613083e+04,   6.54844630e+05,  -2.94298969e+05,\n",
       "         2.55796520e+04])"
      ]
     },
     "execution_count": 24,
     "metadata": {},
     "output_type": "execute_result"
    }
   ],
   "source": [
    "w2"
   ]
  },
  {
   "cell_type": "code",
   "execution_count": 25,
   "metadata": {},
   "outputs": [
    {
     "data": {
      "text/plain": [
       "array([ -6.20360850e+07,   5.29422820e+02,   3.45142296e+04,\n",
       "         6.70607813e+04,   1.41428126e+06,   4.73444938e+05,\n",
       "        -8.57050439e+03,  -6.78858667e+03,  -5.61831484e+05,\n",
       "        -7.52860749e+05])"
      ]
     },
     "execution_count": 25,
     "metadata": {},
     "output_type": "execute_result"
    }
   ],
   "source": [
    "w3"
   ]
  },
  {
   "cell_type": "code",
   "execution_count": 26,
   "metadata": {},
   "outputs": [
    {
     "name": "stdout",
     "output_type": "stream",
     "text": [
      "Model 1 training RSS: 967879963049543.4\n",
      "Model 2 training RSS: 958419635074069.0\n",
      "Model 3 training RSS: 903436455050477.9\n"
     ]
    }
   ],
   "source": [
    "train_RSS_1 = model_1.train_RSS()\n",
    "print (\"Model 1 training RSS: {}\".format (train_RSS_1))\n",
    "\n",
    "train_RSS_2 = model_2.train_RSS()\n",
    "print (\"Model 2 training RSS: {}\".format (train_RSS_2))\n",
    "\n",
    "train_RSS_3 = model_3.train_RSS()\n",
    "print (\"Model 3 training RSS: {}\".format (train_RSS_3))"
   ]
  },
  {
   "cell_type": "code",
   "execution_count": 27,
   "metadata": {},
   "outputs": [
    {
     "name": "stdout",
     "output_type": "stream",
     "text": [
      "Model 1 testing RSS: 225500469795556.9\n",
      "Model 2 testing RSS: 223377462976516.28\n",
      "Model 3 testing RSS: 259236319241685.0\n"
     ]
    }
   ],
   "source": [
    "test_RSS_1 = model_1.test_RSS()\n",
    "print (\"Model 1 testing RSS: {}\".format (test_RSS_1))\n",
    "\n",
    "test_RSS_2 = model_2.test_RSS()\n",
    "print (\"Model 2 testing RSS: {}\".format (test_RSS_2))\n",
    "\n",
    "test_RSS_3 = model_3.test_RSS()\n",
    "print (\"Model 3 testing RSS: {}\".format (test_RSS_3))"
   ]
  },
  {
   "cell_type": "code",
   "execution_count": null,
   "metadata": {
    "collapsed": true
   },
   "outputs": [],
   "source": []
  }
 ],
 "metadata": {
  "kernelspec": {
   "display_name": "Python 3",
   "language": "python",
   "name": "python3"
  },
  "language_info": {
   "codemirror_mode": {
    "name": "ipython",
    "version": 3
   },
   "file_extension": ".py",
   "mimetype": "text/x-python",
   "name": "python",
   "nbconvert_exporter": "python",
   "pygments_lexer": "ipython3",
   "version": "3.6.10"
  }
 },
 "nbformat": 4,
 "nbformat_minor": 2
}
